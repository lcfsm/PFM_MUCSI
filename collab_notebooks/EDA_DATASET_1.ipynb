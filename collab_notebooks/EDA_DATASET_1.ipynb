{
 "cells": [
  {
   "cell_type": "code",
   "execution_count": null,
   "metadata": {
    "colab": {
     "base_uri": "https://localhost:8080/"
    },
    "executionInfo": {
     "elapsed": 18932,
     "status": "ok",
     "timestamp": 1745919555990,
     "user": {
      "displayName": "Luis Carlos Fernández San Martín",
      "userId": "17447517186582912809"
     },
     "user_tz": -120
    },
    "id": "a5PoVP-d7N9a",
    "outputId": "ad00ff32-4772-417b-f079-9e30e3a76366"
   },
   "outputs": [
    {
     "name": "stdout",
     "output_type": "stream",
     "text": [
      "Mounted at /content/drive\n"
     ]
    }
   ],
   "source": [
    "from google.colab import drive\n",
    "drive.mount('/content/drive')"
   ]
  },
  {
   "cell_type": "code",
   "execution_count": null,
   "metadata": {
    "colab": {
     "base_uri": "https://localhost:8080/"
    },
    "executionInfo": {
     "elapsed": 122764,
     "status": "ok",
     "timestamp": 1745919678756,
     "user": {
      "displayName": "Luis Carlos Fernández San Martín",
      "userId": "17447517186582912809"
     },
     "user_tz": -120
    },
    "id": "l7sZBpXhQ5kt",
    "outputId": "b015ab81-5a4c-440d-a67d-0ab645596ca6"
   },
   "outputs": [],
   "source": [
    "import pandas as pd\n",
    "ruta_csv = \"/content/drive/MyDrive/3 - Master Computacion y Sistemas Inteligentes/PFM/Datasets/dataset_empresa_03_pos_EDA_0.csv\"\n",
    "df = pd.read_csv(ruta_csv, low_memory=False)\n",
    "df[\"con_fecha\"] = pd.to_datetime(df[\"con_fecha\"], errors=\"coerce\")\n",
    "df[\"con_dateticket\"] = pd.to_datetime(df[\"con_dateticket\"], errors=\"coerce\")\n",
    "df.info()"
   ]
  },
  {
   "cell_type": "code",
   "execution_count": null,
   "metadata": {
    "colab": {
     "base_uri": "https://localhost:8080/",
     "height": 801
    },
    "executionInfo": {
     "elapsed": 1022,
     "status": "ok",
     "timestamp": 1745919679777,
     "user": {
      "displayName": "Luis Carlos Fernández San Martín",
      "userId": "17447517186582912809"
     },
     "user_tz": -120
    },
    "id": "hbE7F1liD7LW",
    "outputId": "0fcca29d-0a49-4220-fd5d-e4f880d6d1e0"
   },
   "outputs": [],
   "source": [
    "import pandas as pd\n",
    "import matplotlib.pyplot as plt\n",
    "import itertools\n",
    "\n",
    "anios = sorted(df['anio'].unique())\n",
    "tipos = sorted(df['con_tipobillete'].unique())\n",
    "\n",
    "combinaciones = pd.DataFrame(\n",
    "    list(itertools.product(anios, tipos)),\n",
    "    columns=['anio', 'con_tipobillete']\n",
    ")\n",
    "\n",
    "df_conteo = df.groupby(['anio', 'con_tipobillete'], as_index=False)['con_clave'].count()\n",
    "df_conteo.columns = ['anio', 'con_tipobillete', 'num_registros']\n",
    "\n",
    "df_completo = combinaciones.merge(df_conteo, on=['anio', 'con_tipobillete'], how='left')\n",
    "df_completo['num_registros'] = df_completo['num_registros'].fillna(0).astype(int)\n",
    "\n",
    "pivot = df_completo.pivot(index='anio', columns='con_tipobillete', values='num_registros').fillna(0).astype(int)\n",
    "\n",
    "print(\"\\n--- Numero de registros por tipo de billete y año ---\")\n",
    "display(pivot)\n",
    "\n",
    "pivot.plot(\n",
    "    kind='bar',\n",
    "    stacked=False,\n",
    "    figsize=(10,6),\n",
    "    title='Distribucion de tipos de billete por año'\n",
    ")\n",
    "plt.xlabel('Año')\n",
    "plt.ylabel('Numero de registros')\n",
    "plt.legend(title='Tipo de billete', bbox_to_anchor=(1.05, 1), loc='upper left')\n",
    "plt.tight_layout()\n",
    "plt.show()"
   ]
  },
  {
   "cell_type": "code",
   "execution_count": null,
   "metadata": {
    "colab": {
     "base_uri": "https://localhost:8080/"
    },
    "executionInfo": {
     "elapsed": 33407,
     "status": "ok",
     "timestamp": 1745919713185,
     "user": {
      "displayName": "Luis Carlos Fernández San Martín",
      "userId": "17447517186582912809"
     },
     "user_tz": -120
    },
    "id": "GBT3tlhDPy19",
    "outputId": "688d66f7-2018-4352-849c-f30a45245495"
   },
   "outputs": [],
   "source": [
    "columnas_clave = [\n",
    "    'con_clave',\n",
    "    'con_fecha',\n",
    "    'con_tipobillete',\n",
    "    'con_naviera',\n",
    "    'con_trayecto',\n",
    "    'con_dateticket',\n",
    "    'total_pasajeros',\n",
    "    'total_vehiculos',\n",
    "    'capacidad_pasajeros',\n",
    "    'capacidad_vehiculos',\n",
    "    'porc_ocupacion_pasajeros',\n",
    "    'porc_ocupacion_vehiculos'\n",
    "]\n",
    "print(\"\\n--- Valores nulos por columna clave ---\")\n",
    "print(df[columnas_clave].isnull().sum())\n",
    "duplicados_exactos = df.duplicated().sum()\n",
    "duplicados_por_clave = df.duplicated(subset=['con_clave']).sum()\n",
    "print(f\"\\n--- Duplicados exactos: {duplicados_exactos}\")\n",
    "print(f\"--- Duplicados por 'con_clave': {duplicados_por_clave}\")"
   ]
  },
  {
   "cell_type": "code",
   "execution_count": null,
   "metadata": {
    "colab": {
     "base_uri": "https://localhost:8080/",
     "height": 762
    },
    "executionInfo": {
     "elapsed": 1425,
     "status": "ok",
     "timestamp": 1745919714611,
     "user": {
      "displayName": "Luis Carlos Fernández San Martín",
      "userId": "17447517186582912809"
     },
     "user_tz": -120
    },
    "id": "Lg7DPoq7lX6H",
    "outputId": "6aef4d33-d235-4788-8629-53fe05fffd3a"
   },
   "outputs": [],
   "source": [
    "import pandas as pd\n",
    "import matplotlib.pyplot as plt\n",
    "\n",
    "df['con_fecha'] = pd.to_datetime(df['con_fecha'], errors='coerce')\n",
    "df['con_dateticket'] = pd.to_datetime(df['con_dateticket'], errors='coerce')\n",
    "\n",
    "df['anio_con_fecha'] = df['con_fecha'].dt.year\n",
    "df['anio_con_dateticket'] = df['con_dateticket'].dt.year\n",
    "\n",
    "conteo_con_fecha = df['anio_con_fecha'].value_counts().sort_index()\n",
    "print(\"\\n--- Conteo de registros por año (con con_fecha) ---\")\n",
    "print(conteo_con_fecha)\n",
    "\n",
    "conteo_con_dateticket = df['anio_con_dateticket'].value_counts().sort_index()\n",
    "print(\"\\n--- Conteo de registros por año (con con_dateticket) ---\")\n",
    "print(conteo_con_dateticket)\n",
    "\n",
    "plt.figure(figsize=(10,5))\n",
    "plt.bar(conteo_con_fecha.index - 0.2, conteo_con_fecha.values, width=0.4, label='con_fecha')\n",
    "plt.bar(conteo_con_dateticket.index + 0.2, conteo_con_dateticket.values, width=0.4, label='con_dateticket')\n",
    "\n",
    "plt.title(\"Comparacion de distribucion por año: con_fecha vs con_dateticket\")\n",
    "plt.xlabel(\"Año\")\n",
    "plt.ylabel(\"Numero de registros\")\n",
    "plt.xticks(sorted(set(conteo_con_fecha.index).union(conteo_con_dateticket.index)))\n",
    "plt.legend()\n",
    "plt.tight_layout()\n",
    "plt.show()"
   ]
  },
  {
   "cell_type": "code",
   "execution_count": null,
   "metadata": {
    "colab": {
     "base_uri": "https://localhost:8080/",
     "height": 143
    },
    "executionInfo": {
     "elapsed": 11130,
     "status": "ok",
     "timestamp": 1745919725742,
     "user": {
      "displayName": "Luis Carlos Fernández San Martín",
      "userId": "17447517186582912809"
     },
     "user_tz": -120
    },
    "id": "J6kXV-F4uPMi",
    "outputId": "9ef3178b-4405-4925-e528-da2f09e7f04f"
   },
   "outputs": [],
   "source": [
    "import pandas as pd\n",
    "\n",
    "columnas_tipologicas = [\n",
    "    'con_naviera',\n",
    "    'con_trayecto',\n",
    "    'buq_nombre'\n",
    "]\n",
    "\n",
    "resultados = []\n",
    "\n",
    "for col in columnas_tipologicas:\n",
    "    n_original = df[col].nunique(dropna=False)\n",
    "    n_transformado = df[col].astype(str).str.strip().str.upper().nunique(dropna=False)\n",
    "    diferencia = n_original - n_transformado\n",
    "\n",
    "    resultados.append({\n",
    "        'columna': col,\n",
    "        'valores unicos (original)': n_original,\n",
    "        'valores unicos (normalizados)': n_transformado,\n",
    "        'diferencia': diferencia\n",
    "    })\n",
    "\n",
    "df_tipologia_resumen = pd.DataFrame(resultados)\n",
    "\n",
    "from IPython.display import display\n",
    "display(df_tipologia_resumen)"
   ]
  },
  {
   "cell_type": "code",
   "execution_count": null,
   "metadata": {
    "colab": {
     "base_uri": "https://localhost:8080/",
     "height": 507
    },
    "executionInfo": {
     "elapsed": 1003,
     "status": "ok",
     "timestamp": 1745919726746,
     "user": {
      "displayName": "Luis Carlos Fernández San Martín",
      "userId": "17447517186582912809"
     },
     "user_tz": -120
    },
    "id": "7-JA1Gy4Yurr",
    "outputId": "13c44ffd-6130-4d12-97c7-f7f5cad80142"
   },
   "outputs": [],
   "source": [
    "import pandas as pd\n",
    "import matplotlib.pyplot as plt\n",
    "\n",
    "df_mes_billete = df.groupby(['anio', 'month', 'con_tipobillete']).size().reset_index(name='num_embarques')\n",
    "\n",
    "anio_objetivo = 2024\n",
    "df_anio = df_mes_billete[df_mes_billete['anio'] == anio_objetivo]\n",
    "\n",
    "pivot = df_anio.pivot(index='month', columns='con_tipobillete', values='num_embarques').fillna(0)\n",
    "\n",
    "pivot.plot(\n",
    "    kind='line',\n",
    "    marker='o',\n",
    "    figsize=(10, 5),\n",
    "    title=f'Distribucion mensual tipo de billete ({anio_objetivo})'\n",
    ")\n",
    "plt.xlabel('Mes')\n",
    "plt.ylabel('Numero de embarques')\n",
    "plt.xticks(range(1, 13))\n",
    "plt.legend(title='Tipo de billete')\n",
    "plt.tight_layout()\n",
    "plt.show()"
   ]
  },
  {
   "cell_type": "code",
   "execution_count": null,
   "metadata": {
    "colab": {
     "base_uri": "https://localhost:8080/",
     "height": 507
    },
    "executionInfo": {
     "elapsed": 2460,
     "status": "ok",
     "timestamp": 1745919729207,
     "user": {
      "displayName": "Luis Carlos Fernández San Martín",
      "userId": "17447517186582912809"
     },
     "user_tz": -120
    },
    "id": "VSinU86CaMXB",
    "outputId": "087c3041-df6a-4587-c59f-5bde940c3ca0"
   },
   "outputs": [],
   "source": [
    "import pandas as pd\n",
    "import matplotlib.pyplot as plt\n",
    "\n",
    "def clasificar_billete(codigo):\n",
    "    if codigo in [1, 2, 3]:\n",
    "        return 'Pasajero'\n",
    "    elif codigo in [0, 5, 6, 7, 8, 9]:\n",
    "        return 'Vehiculo'\n",
    "    else:\n",
    "        return 'Otro'\n",
    "\n",
    "df['tipo_billete_clasificado'] = df['con_tipobillete'].apply(clasificar_billete)\n",
    "\n",
    "df_grupo = df.groupby(['anio', 'month', 'tipo_billete_clasificado']).size().reset_index(name='num_embarques')\n",
    "\n",
    "anio_objetivo = 2023\n",
    "df_anio = df_grupo[df_grupo['anio'] == anio_objetivo]\n",
    "\n",
    "pivot = df_anio.pivot(index='month', columns='tipo_billete_clasificado', values='num_embarques').fillna(0)\n",
    "\n",
    "pivot.plot(\n",
    "    kind='line',\n",
    "    marker='o',\n",
    "    figsize=(10, 5),\n",
    "    title=f'Distribucion mensual de embarques por tipo de categoría ({anio_objetivo})'\n",
    ")\n",
    "plt.xlabel('Mes')\n",
    "plt.ylabel('Numero de embarques')\n",
    "plt.xticks(range(1, 13))\n",
    "plt.legend(title='Categoria')\n",
    "plt.tight_layout()\n",
    "plt.show()\n"
   ]
  },
  {
   "cell_type": "code",
   "execution_count": null,
   "metadata": {
    "colab": {
     "base_uri": "https://localhost:8080/",
     "height": 512
    },
    "executionInfo": {
     "elapsed": 2670,
     "status": "ok",
     "timestamp": 1745919731904,
     "user": {
      "displayName": "Luis Carlos Fernández San Martín",
      "userId": "17447517186582912809"
     },
     "user_tz": -120
    },
    "id": "82FPc9mDahat",
    "outputId": "616ae200-571e-42fe-ceef-b65db1893eb4"
   },
   "outputs": [],
   "source": [
    "import pandas as pd\n",
    "import matplotlib.pyplot as plt\n",
    "import numpy as np\n",
    "\n",
    "def clasificar_billete(codigo):\n",
    "    if codigo in [1, 2, 3]:\n",
    "        return 'Pasajero'\n",
    "    elif codigo in [0, 5, 6, 7, 8, 9]:\n",
    "        return 'Vehículo'\n",
    "    else:\n",
    "        return 'Otro'\n",
    "\n",
    "df['tipo_billete_clasificado'] = df['con_tipobillete'].apply(clasificar_billete)\n",
    "\n",
    "df_agrupado = df.groupby(['anio', 'month', 'tipo_billete_clasificado']).size().reset_index(name='num_embarques')\n",
    "\n",
    "df_filtrado = df_agrupado[df_agrupado['tipo_billete_clasificado'].isin(['Pasajero', 'Vehículo'])]\n",
    "\n",
    "fig, axes = plt.subplots(1, 2, figsize=(14, 5), sharey=True)\n",
    "tipos = ['Pasajero', 'Vehiculo']\n",
    "anios = sorted(df_filtrado['anio'].unique())\n",
    "bar_width = 0.25\n",
    "x = np.arange(1, 13)  \n",
    "\n",
    "for i, tipo in enumerate(tipos):\n",
    "    ax = axes[i]\n",
    "    for j, anio in enumerate(anios):\n",
    "        datos = df_filtrado[(df_filtrado['tipo_billete_clasificado'] == tipo) & (df_filtrado['anio'] == anio)]\n",
    "        ax.bar(x + j * bar_width, datos['num_embarques'], width=bar_width, label=str(anio))\n",
    "\n",
    "    ax.set_title(f'{tipo}s por mes y año')\n",
    "    ax.set_xlabel('Mes')\n",
    "    ax.set_xticks(x + bar_width) \n",
    "    ax.set_xticklabels(range(1, 13))\n",
    "    ax.legend(title='Año')\n",
    "\n",
    "axes[0].set_ylabel('Numero de embarques')\n",
    "plt.suptitle('Comparativa mensual de embarques por agrupacion (pasajeros/vehiculos)', fontsize=14)\n",
    "plt.tight_layout()\n",
    "plt.show()"
   ]
  },
  {
   "cell_type": "code",
   "execution_count": null,
   "metadata": {
    "colab": {
     "base_uri": "https://localhost:8080/",
     "height": 607
    },
    "executionInfo": {
     "elapsed": 3603,
     "status": "ok",
     "timestamp": 1745919735509,
     "user": {
      "displayName": "Luis Carlos Fernández San Martín",
      "userId": "17447517186582912809"
     },
     "user_tz": -120
    },
    "id": "oYhCicizdkJC",
    "outputId": "1ac09125-6c92-47a4-94cd-e978e845f3d0"
   },
   "outputs": [],
   "source": [
    "import pandas as pd\n",
    "import matplotlib.pyplot as plt\n",
    "\n",
    "def clasificar_billete(codigo):\n",
    "    if codigo in [1, 2, 3]:\n",
    "        return 'Pasajero'\n",
    "    elif codigo in [0, 5, 6, 7, 8, 9]:\n",
    "        return 'Vehículo'\n",
    "    else:\n",
    "        return 'Otro'\n",
    "\n",
    "df['tipo_billete_clasificado'] = df['con_tipobillete'].apply(clasificar_billete)\n",
    "\n",
    "df['fecha_mensual'] = df['con_fecha'].dt.to_period('M').dt.to_timestamp()\n",
    "\n",
    "df_mensual = df.groupby(['fecha_mensual', 'tipo_billete_clasificado']).size().reset_index(name='num_embarques')\n",
    "\n",
    "pivot = df_mensual.pivot(index='fecha_mensual', columns='tipo_billete_clasificado', values='num_embarques').fillna(0)\n",
    "\n",
    "pivot.plot(figsize=(12,6), marker='o', title='Tendencia mensual de embarques por agrupacion')\n",
    "plt.xlabel('Fecha')\n",
    "plt.ylabel('Numero de embarques')\n",
    "plt.tight_layout()\n",
    "plt.show()\n"
   ]
  },
  {
   "cell_type": "code",
   "execution_count": null,
   "metadata": {
    "colab": {
     "base_uri": "https://localhost:8080/",
     "height": 507
    },
    "executionInfo": {
     "elapsed": 1262,
     "status": "ok",
     "timestamp": 1745919736772,
     "user": {
      "displayName": "Luis Carlos Fernández San Martín",
      "userId": "17447517186582912809"
     },
     "user_tz": -120
    },
    "id": "P-St8clFds8p",
    "outputId": "b0c80b95-0210-4532-87b7-1db277730654"
   },
   "outputs": [],
   "source": [
    "import pandas as pd\n",
    "import matplotlib.pyplot as plt\n",
    "\n",
    "dias_semana = ['Lunes', 'Martes', 'Miércoles', 'Jueves', 'Viernes', 'Sábado', 'Domingo']\n",
    "df['nombre_dia'] = df['day_of_week'].map(dict(zip(range(7), dias_semana)))\n",
    "\n",
    "df_dow = df.groupby(['nombre_dia', 'con_tipobillete']).size().reset_index(name='num_embarques')\n",
    "\n",
    "orden_dias = ['Lunes', 'Martes', 'Miércoles', 'Jueves', 'Viernes', 'Sábado', 'Domingo']\n",
    "df_dow['nombre_dia'] = pd.Categorical(df_dow['nombre_dia'], categories=orden_dias, ordered=True)\n",
    "\n",
    "pivot = df_dow.pivot(index='nombre_dia', columns='con_tipobillete', values='num_embarques').fillna(0)\n",
    "\n",
    "pivot.plot(kind='line', marker='o', figsize=(10, 5), title='Distribucion semanal de embarques por tipo de billete')\n",
    "plt.xlabel('Dia de la semana')\n",
    "plt.ylabel('Numero de embarques')\n",
    "plt.xticks(rotation=45)\n",
    "plt.legend(title='Tipo de billete')\n",
    "plt.tight_layout()\n",
    "plt.show()"
   ]
  },
  {
   "cell_type": "code",
   "execution_count": null,
   "metadata": {
    "colab": {
     "base_uri": "https://localhost:8080/",
     "height": 607
    },
    "executionInfo": {
     "elapsed": 147800,
     "status": "ok",
     "timestamp": 1745919884574,
     "user": {
      "displayName": "Luis Carlos Fernández San Martín",
      "userId": "17447517186582912809"
     },
     "user_tz": -120
    },
    "id": "zCTLwmjro-1C",
    "outputId": "56b68e81-e6f3-4183-8e97-2962b4ce0c4c"
   },
   "outputs": [],
   "source": [
    "import pandas as pd\n",
    "import matplotlib.pyplot as plt\n",
    "\n",
    "df_festivo = df.copy()\n",
    "def clasificar_billete(codigo):\n",
    "    if codigo in [1, 2, 3]:\n",
    "        return 'Pasajero'\n",
    "    elif codigo in [0, 5, 6, 7, 8, 9]:\n",
    "        return 'Vehiculo'\n",
    "    else:\n",
    "        return 'Otro'\n",
    "\n",
    "df_festivo['tipo_billete_clasificado'] = df_festivo['con_tipobillete'].apply(clasificar_billete)\n",
    "\n",
    "def tipo_festivo(row):\n",
    "    if row['is_eid_aladha'] == 1:\n",
    "        return 'Eid al-Adha'\n",
    "    elif row['is_eid_alfitr'] == 1:\n",
    "        return 'Eid al-Fitr'\n",
    "    elif row['is_mawlid_nabi'] == 1:\n",
    "        return 'Mawlid'\n",
    "    elif row['is_festivo_nacional'] == 1:\n",
    "        return 'Festivo Nacional'\n",
    "    elif row['is_festivo_local'] == 1:\n",
    "        return 'Festivo Local'\n",
    "    else:\n",
    "        return None  \n",
    "\n",
    "df_festivo['tipo_festivo'] = df_festivo.apply(tipo_festivo, axis=1)\n",
    "\n",
    "df_festivo = df_festivo[df_festivo['tipo_festivo'].notnull()]\n",
    "\n",
    "df_grouped = df_festivo.groupby(['tipo_festivo', 'tipo_billete_clasificado']).size().reset_index(name='num_embarques')\n",
    "\n",
    "pivot = df_grouped.pivot(index='tipo_festivo', columns='tipo_billete_clasificado', values='num_embarques').fillna(0)\n",
    "\n",
    "pivot.plot(kind='bar', figsize=(10,6), title='Embarques durante festivos por categoria de billete')\n",
    "plt.ylabel('Numero de embarques')\n",
    "plt.xlabel('Tipo de festivo')\n",
    "plt.xticks(rotation=45)\n",
    "plt.legend(title='Categoria')\n",
    "plt.tight_layout()\n",
    "plt.show()\n"
   ]
  },
  {
   "cell_type": "code",
   "execution_count": null,
   "metadata": {
    "colab": {
     "base_uri": "https://localhost:8080/",
     "height": 507
    },
    "executionInfo": {
     "elapsed": 11411,
     "status": "ok",
     "timestamp": 1745919895986,
     "user": {
      "displayName": "Luis Carlos Fernández San Martín",
      "userId": "17447517186582912809"
     },
     "user_tz": -120
    },
    "id": "Ra6TdEtQG8VP",
    "outputId": "99ec6dc0-2968-4cce-ea3f-c6b28c38ebad"
   },
   "outputs": [],
   "source": [
    "import pandas as pd\n",
    "import matplotlib.pyplot as plt\n",
    "\n",
    "df_rutas = df.copy()\n",
    "\n",
    "def clasificar_billete(codigo):\n",
    "    if codigo in [1, 2, 3]:\n",
    "        return 'Pasajero'\n",
    "    elif codigo in [0, 5, 6, 7, 8, 9]:\n",
    "        return 'Vehiculo'\n",
    "    else:\n",
    "        return 'Otro'\n",
    "\n",
    "df_rutas['tipo_billete_clasificado'] = df_rutas['con_tipobillete'].apply(clasificar_billete)\n",
    "\n",
    "rutas_objetivo = ['ESALGESCEU', 'ESALGMAPTM']\n",
    "df_filtrado = df_rutas[df_rutas['con_trayecto'].isin(rutas_objetivo)]\n",
    "\n",
    "df_grouped = df_filtrado.groupby(['anio', 'tipo_billete_clasificado', 'con_trayecto']).size().reset_index(name='num_embarques')\n",
    "\n",
    "df_grouped['grupo'] = df_grouped['tipo_billete_clasificado'] + ' - ' + df_grouped['con_trayecto']\n",
    "\n",
    "pivot = df_grouped.pivot(index='anio', columns='grupo', values='num_embarques').fillna(0)\n",
    "\n",
    "pivot.plot(kind='bar', figsize=(10, 5))\n",
    "plt.title('Comparativa anual de embarques por tipo de billete y ruta')\n",
    "plt.xlabel('Año')\n",
    "plt.ylabel('Nº Embarques')\n",
    "plt.xticks(rotation=0)\n",
    "plt.legend(title='Grupo (Categoría - Ruta)', bbox_to_anchor=(1.05, 1), loc='upper left')\n",
    "plt.tight_layout()\n",
    "plt.show()"
   ]
  },
  {
   "cell_type": "code",
   "execution_count": null,
   "metadata": {
    "colab": {
     "base_uri": "https://localhost:8080/",
     "height": 507
    },
    "executionInfo": {
     "elapsed": 8563,
     "status": "ok",
     "timestamp": 1745919904548,
     "user": {
      "displayName": "Luis Carlos Fernández San Martín",
      "userId": "17447517186582912809"
     },
     "user_tz": -120
    },
    "id": "S_depcNcOLxl",
    "outputId": "2ab8199d-074d-463e-b510-623aed1659ce"
   },
   "outputs": [],
   "source": [
    "import pandas as pd\n",
    "import matplotlib.pyplot as plt\n",
    "\n",
    "df_prop = df.copy()\n",
    "\n",
    "def agrupar_billete(codigo):\n",
    "    if codigo in [1, 2, 3]:\n",
    "        return 'Pasajero'\n",
    "    elif codigo in [0, 5, 6, 7, 8, 9]:\n",
    "        return 'Vehículo'\n",
    "    else:\n",
    "        return 'Otro'\n",
    "\n",
    "df_prop['categoria_billete'] = df_prop['con_tipobillete'].apply(agrupar_billete)\n",
    "\n",
    "df_prop['con_fecha'] = pd.to_datetime(df_prop['con_fecha'], errors='coerce')\n",
    "df_prop['fecha_mensual'] = df_prop['con_fecha'].dt.to_period('M').dt.to_timestamp()\n",
    "\n",
    "df_mes = df_prop.groupby(['fecha_mensual', 'categoria_billete']).size().reset_index(name='cuenta')\n",
    "\n",
    "df_total_mes = df_prop.groupby('fecha_mensual').size().reset_index(name='total_mes')\n",
    "\n",
    "df_merged = df_mes.merge(df_total_mes, on='fecha_mensual')\n",
    "df_merged['porcentaje'] = (df_merged['cuenta'] / df_merged['total_mes']) * 100\n",
    "\n",
    "pivot = df_merged.pivot(index='fecha_mensual', columns='categoria_billete', values='porcentaje')[['Pasajero', 'Vehículo']].fillna(0)\n",
    "\n",
    "pivot.index = pivot.index.to_period('M').astype(str)\n",
    "pivot.plot(kind='bar', figsize=(14, 5))\n",
    "plt.title('Proporcion mensual de embarques por categoria')\n",
    "plt.ylabel('Porcentaje (%)')\n",
    "plt.xlabel('Mes')\n",
    "plt.xticks(rotation=45)\n",
    "plt.legend(title='Categoría')\n",
    "plt.tight_layout()\n",
    "plt.show()"
   ]
  },
  {
   "cell_type": "code",
   "execution_count": null,
   "metadata": {
    "colab": {
     "base_uri": "https://localhost:8080/",
     "height": 1000
    },
    "executionInfo": {
     "elapsed": 3060,
     "status": "ok",
     "timestamp": 1745919907609,
     "user": {
      "displayName": "Luis Carlos Fernández San Martín",
      "userId": "17447517186582912809"
     },
     "user_tz": -120
    },
    "id": "ipI-Rfqvo0Wq",
    "outputId": "ce41c0de-2913-475c-83fd-f3f9f8b6f3f2"
   },
   "outputs": [],
   "source": [
    "import pandas as pd\n",
    "import matplotlib.pyplot as plt\n",
    "\n",
    "df['con_fecha'] = pd.to_datetime(df['con_fecha'], errors='coerce')\n",
    "\n",
    "df['fecha_sin_hora'] = df['con_fecha'].dt.date\n",
    "\n",
    "eid_days = df.loc[df['is_eid_alfitr'] == 1, 'fecha_sin_hora'].drop_duplicates()\n",
    "eid_days = sorted(eid_days)\n",
    "print(\"Fechas con Eid al-Fitr:\", eid_days)\n",
    "\n",
    "todos_eids = []\n",
    "\n",
    "for eid_day in eid_days:\n",
    "    eid_day_dt = pd.to_datetime(eid_day) \n",
    "    start = eid_day_dt - pd.Timedelta(days=7)\n",
    "    end = eid_day_dt + pd.Timedelta(days=7)\n",
    "    df_window = df[(df['con_fecha'] >= start) & (df['con_fecha'] <= end)].copy()\n",
    "\n",
    "    df_window['dias_relativos'] = (df_window['con_fecha'] - eid_day_dt).dt.days\n",
    "\n",
    "    df_count = df_window.groupby('dias_relativos').size().reset_index(name='num_embarques')\n",
    "\n",
    "    df_count['eid_date'] = eid_day_dt\n",
    "    todos_eids.append(df_count)\n",
    "    plt.figure(figsize=(8,5))\n",
    "    plt.plot(df_count['dias_relativos'], df_count['num_embarques'], marker='o')\n",
    "    plt.axvline(0, color='red', linestyle='--', label='Dia Eid')\n",
    "    plt.title(f\"Eid al-Fitr en {eid_day_dt.date()}: embarques 7 dias\")\n",
    "    plt.xlabel(\"Dias relativos (0 = dia de Eid)\")\n",
    "    plt.ylabel(\"Numero embarques\")\n",
    "    plt.legend()\n",
    "    plt.tight_layout()\n",
    "    plt.show()\n",
    "\n",
    "df_concat = pd.concat(todos_eids, ignore_index=True)\n",
    "df_avg = df_concat.groupby('dias_relativos')['num_embarques'].mean().reset_index()\n",
    "\n",
    "plt.figure(figsize=(8,5))\n",
    "plt.plot(df_avg['dias_relativos'], df_avg['num_embarques'], marker='o')\n",
    "plt.axvline(0, color='red', linestyle='--', label='Dia Eid')\n",
    "plt.title(\"Promedio embarques 7 dias a Eid al-Fitr (todos los años)\")\n",
    "plt.xlabel(\"(0 = dia de Eid)\")\n",
    "plt.ylabel(\"Promedio embarques\")\n",
    "plt.legend()\n",
    "plt.tight_layout()\n",
    "plt.show()"
   ]
  },
  {
   "cell_type": "code",
   "execution_count": null,
   "metadata": {
    "colab": {
     "base_uri": "https://localhost:8080/",
     "height": 1000
    },
    "executionInfo": {
     "elapsed": 3502,
     "status": "ok",
     "timestamp": 1745919911114,
     "user": {
      "displayName": "Luis Carlos Fernández San Martín",
      "userId": "17447517186582912809"
     },
     "user_tz": -120
    },
    "id": "qQv8s1Mbo6ej",
    "outputId": "97be1802-3184-4472-832c-b06cb23a008a"
   },
   "outputs": [],
   "source": [
    "import pandas as pd\n",
    "import matplotlib.pyplot as plt\n",
    "\n",
    "df['con_fecha'] = pd.to_datetime(df['con_fecha'], errors='coerce')\n",
    "df['fecha_sin_hora'] = df['con_fecha'].dt.date\n",
    "\n",
    "eid_aladha_days = df.loc[df['is_eid_aladha'] == 1, 'fecha_sin_hora'].drop_duplicates()\n",
    "eid_aladha_days = sorted(eid_aladha_days)\n",
    "print(\"Fechas con Eid al-Adha:\", eid_aladha_days)\n",
    "\n",
    "todos_eids_aladha = []\n",
    "\n",
    "for eid_day in eid_aladha_days:\n",
    "    eid_day_dt = pd.to_datetime(eid_day) \n",
    "    start = eid_day_dt - pd.Timedelta(days=7)\n",
    "    end = eid_day_dt + pd.Timedelta(days=7)\n",
    "\n",
    "    df_window = df[(df['con_fecha'] >= start) & (df['con_fecha'] <= end)].copy()\n",
    "\n",
    "    df_window['dias_relativos'] = (df_window['con_fecha'] - eid_day_dt).dt.days\n",
    "\n",
    "    df_count = df_window.groupby('dias_relativos').size().reset_index(name='num_embarques')\n",
    "\n",
    "    df_count['eid_date'] = eid_day_dt\n",
    "    todos_eids_aladha.append(df_count)\n",
    "\n",
    "    plt.figure(figsize=(8,5))\n",
    "    plt.plot(df_count['dias_relativos'], df_count['num_embarques'], marker='o')\n",
    "    plt.axvline(0, color='red', linestyle='--', label='Dia Eid')\n",
    "    plt.title(f\"Eid al-Adha en {eid_day_dt.date()}: embarques 7 dias\")\n",
    "    plt.xlabel(\"Dias relativos (0 = dia de Eid)\")\n",
    "    plt.ylabel(\"Nº embarques\")\n",
    "    plt.legend()\n",
    "    plt.tight_layout()\n",
    "    plt.show()\n",
    "\n",
    "df_concat_aladha = pd.concat(todos_eids_aladha, ignore_index=True)\n",
    "df_avg_aladha = df_concat_aladha.groupby('dias_relativos')['num_embarques'].mean().reset_index()\n",
    "\n",
    "plt.figure(figsize=(8,5))\n",
    "plt.plot(df_avg_aladha['dias_relativos'], df_avg_aladha['num_embarques'], marker='o')\n",
    "plt.axvline(0, color='red', linestyle='--', label='Día Eid')\n",
    "plt.title(\"Promedio embarques 7 días a Eid al-Adha (todos los años)\")\n",
    "plt.xlabel(\"(0 = dia de Eid)\")\n",
    "plt.ylabel(\"Promedio de embarques\")\n",
    "plt.legend()\n",
    "plt.tight_layout()\n",
    "plt.show()"
   ]
  },
  {
   "cell_type": "code",
   "execution_count": null,
   "metadata": {
    "colab": {
     "base_uri": "https://localhost:8080/",
     "height": 1000
    },
    "executionInfo": {
     "elapsed": 3686,
     "status": "ok",
     "timestamp": 1745919914801,
     "user": {
      "displayName": "Luis Carlos Fernández San Martín",
      "userId": "17447517186582912809"
     },
     "user_tz": -120
    },
    "id": "MySlBs7TwSDC",
    "outputId": "ab0395c9-4bb5-4073-e6a4-d05fca353715"
   },
   "outputs": [],
   "source": [
    "import pandas as pd\n",
    "import matplotlib.pyplot as plt\n",
    "\n",
    "df['con_fecha'] = pd.to_datetime(df['con_fecha'], errors='coerce')\n",
    "df['fecha_sin_hora'] = df['con_fecha'].dt.date\n",
    "\n",
    "def clasificar_billete(codigo):\n",
    "    if codigo in [1, 2, 3]:\n",
    "        return 'Pasajero'\n",
    "    elif codigo in [0, 5, 6, 7, 8, 9]:\n",
    "        return 'Vehículo'\n",
    "    else:\n",
    "        return 'Otro'\n",
    "\n",
    "eid_aladha_days = df.loc[df['is_eid_aladha'] == 1, 'fecha_sin_hora'].drop_duplicates()\n",
    "eid_aladha_days = sorted(eid_aladha_days)\n",
    "print(\"Fechas con Eid al-Adha:\", eid_aladha_days)\n",
    "\n",
    "todos_eids_aladha = []\n",
    "\n",
    "for eid_day in eid_aladha_days:\n",
    "    eid_day_dt = pd.to_datetime(eid_day)\n",
    "    start = eid_day_dt - pd.Timedelta(days=7)\n",
    "    end = eid_day_dt + pd.Timedelta(days=7)\n",
    "\n",
    "    df_window = df[(df['con_fecha'] >= start) & (df['con_fecha'] <= end)].copy()\n",
    "\n",
    "    df_window['dias_relativos'] = (df_window['con_fecha'] - eid_day_dt).dt.days\n",
    "\n",
    "    df_window['categoria'] = df_window['con_tipobillete'].apply(clasificar_billete)\n",
    "\n",
    "    df_count = df_window.groupby(['dias_relativos', 'categoria']).size().reset_index(name='num_embarques')\n",
    "    df_count['eid_date'] = eid_day_dt\n",
    "    todos_eids_aladha.append(df_count)\n",
    "\n",
    "    pivot = df_count.pivot(index='dias_relativos', columns='categoria', values='num_embarques').fillna(0)\n",
    "    plt.figure(figsize=(8,5))\n",
    "    for cat in pivot.columns:\n",
    "        plt.plot(pivot.index, pivot[cat], marker='o', label=cat)\n",
    "    plt.axvline(0, color='red', linestyle='--', label='Día Eid')\n",
    "    plt.title(f\"Eid al-Adha en {eid_day_dt.date()}: embarques ±7 días\")\n",
    "    plt.xlabel(\"Dias relativos (0 = día de Eid)\")\n",
    "    plt.ylabel(\"Numero de embarques\")\n",
    "    plt.legend()\n",
    "    plt.tight_layout()\n",
    "    plt.show()\n",
    "\n",
    "df_concat_aladha = pd.concat(todos_eids_aladha, ignore_index=True)\n",
    "df_avg_aladha = df_concat_aladha.groupby(['dias_relativos', 'categoria'])['num_embarques'].mean().reset_index()\n",
    "pivot_avg = df_avg_aladha.pivot(index='dias_relativos', columns='categoria', values='num_embarques').fillna(0)\n",
    "plt.figure(figsize=(8,5))\n",
    "for cat in pivot_avg.columns:\n",
    "    plt.plot(pivot_avg.index, pivot_avg[cat], marker='o', label=cat)\n",
    "plt.axvline(0, color='red', linestyle='--', label='Día Eid')\n",
    "plt.title(\"Promedio de embarques 7 días en torno a Eid al-Adha (por categoría)\")\n",
    "plt.xlabel(\"Dias relativos (0 = día de Eid)\")\n",
    "plt.ylabel(\"Numero promedio de embarques\")\n",
    "plt.legend()\n",
    "plt.tight_layout()\n",
    "plt.show()\n"
   ]
  },
  {
   "cell_type": "code",
   "execution_count": null,
   "metadata": {
    "colab": {
     "base_uri": "https://localhost:8080/",
     "height": 1000
    },
    "executionInfo": {
     "elapsed": 3451,
     "status": "ok",
     "timestamp": 1745919918266,
     "user": {
      "displayName": "Luis Carlos Fernández San Martín",
      "userId": "17447517186582912809"
     },
     "user_tz": -120
    },
    "id": "IkKnzA61zo8_",
    "outputId": "715f14e1-cb89-47ff-8886-769a727c9557"
   },
   "outputs": [],
   "source": [
    "import pandas as pd\n",
    "import matplotlib.pyplot as plt\n",
    "\n",
    "df['con_fecha'] = pd.to_datetime(df['con_fecha'], errors='coerce')\n",
    "df['fecha_sin_hora'] = df['con_fecha'].dt.date\n",
    "\n",
    "def clasificar_billete(codigo):\n",
    "    if codigo in [1, 2, 3]:\n",
    "        return 'Pasajero'\n",
    "    elif codigo in [0, 5, 6, 7, 8, 9]:\n",
    "        return 'Vehículo'\n",
    "    else:\n",
    "        return 'Otro'\n",
    "\n",
    "eid_aladha_days = df.loc[df['is_eid_aladha'] == 1, 'fecha_sin_hora'].drop_duplicates()\n",
    "eid_aladha_days = sorted(eid_aladha_days)\n",
    "print(\"Fechas con Eid al-Adha:\", eid_aladha_days)\n",
    "\n",
    "todos_eids_aladha = []\n",
    "\n",
    "plt.figure(figsize=(12,6))\n",
    "for eid_day in eid_aladha_days:\n",
    "    eid_day_dt = pd.to_datetime(eid_day) \n",
    "    start = eid_day_dt - pd.Timedelta(days=7)\n",
    "    end = eid_day_dt + pd.Timedelta(days=7)\n",
    "\n",
    "    df_window = df[(df['con_fecha'] >= start) & (df['con_fecha'] <= end)].copy()\n",
    "\n",
    "    df_window['dias_relativos'] = (df_window['con_fecha'] - eid_day_dt).dt.days\n",
    "\n",
    "    df_window['categoria'] = df_window['con_tipobillete'].apply(clasificar_billete)\n",
    "\n",
    "    df_count = df_window.groupby(['dias_relativos', 'categoria']).size().reset_index(name='num_embarques')\n",
    "    df_count['eid_date'] = eid_day_dt\n",
    "    todos_eids_aladha.append(df_count)\n",
    "\n",
    "    pivot = df_count.pivot(index='dias_relativos', columns='categoria', values='num_embarques').fillna(0)\n",
    "\n",
    "    for cat in pivot.columns:\n",
    "        plt.plot(pivot.index, pivot[cat], marker='o', linestyle='-', label=f\"{eid_day_dt.date()} - {cat}\")\n",
    "\n",
    "plt.axvline(0, color='red', linestyle='--', label='Día Eid')\n",
    "plt.title(\"Evolucion diaria de embarques en torno a Eid al-Adha (individual por año y categoria)\")\n",
    "plt.xlabel(\"Dias relativos (0 = dia de Eid)\")\n",
    "plt.ylabel(\"Numero de embarques\")\n",
    "plt.legend(bbox_to_anchor=(1.05, 1), loc='upper left', fontsize='small')\n",
    "plt.tight_layout()\n",
    "plt.show()\n",
    "\n",
    "df_concat_aladha = pd.concat(todos_eids_aladha, ignore_index=True)\n",
    "df_avg_aladha = df_concat_aladha.groupby(['dias_relativos', 'categoria'])['num_embarques'].mean().reset_index()\n",
    "pivot_avg = df_avg_aladha.pivot(index='dias_relativos', columns='categoria', values='num_embarques').fillna(0)\n",
    "\n",
    "plt.figure(figsize=(12,6))\n",
    "for cat in pivot_avg.columns:\n",
    "    plt.plot(pivot_avg.index, pivot_avg[cat], marker='o', linestyle='-', label=cat)\n",
    "plt.axvline(0, color='red', linestyle='--', label='Día Eid')\n",
    "plt.title(\"Promedio global de embarques 7 días en torno a Eid al-Adha (por categoría)\")\n",
    "plt.xlabel(\"Dias relativos (0 = dia de Eid)\")\n",
    "plt.ylabel(\"Numero promedio de embarques\")\n",
    "plt.legend(title='Categoría')\n",
    "plt.tight_layout()\n",
    "plt.show()\n",
    "\n",
    "\n"
   ]
  },
  {
   "cell_type": "code",
   "execution_count": null,
   "metadata": {
    "colab": {
     "base_uri": "https://localhost:8080/",
     "height": 1000
    },
    "executionInfo": {
     "elapsed": 3286,
     "status": "ok",
     "timestamp": 1745919921556,
     "user": {
      "displayName": "Luis Carlos Fernández San Martín",
      "userId": "17447517186582912809"
     },
     "user_tz": -120
    },
    "id": "aBvEjRTe0oIg",
    "outputId": "b475c4f5-8d1a-4b4a-af41-59ace719cf04"
   },
   "outputs": [],
   "source": [
    "import pandas as pd\n",
    "import matplotlib.pyplot as plt\n",
    "\n",
    "df['con_fecha'] = pd.to_datetime(df['con_fecha'], errors='coerce')\n",
    "df['fecha_sin_hora'] = df['con_fecha'].dt.date\n",
    "\n",
    "def clasificar_billete(codigo):\n",
    "    if codigo in [1, 2, 3]:\n",
    "        return 'Pasajero'\n",
    "    elif codigo in [0, 5, 6, 7, 8, 9]:\n",
    "        return 'Vehículo'\n",
    "    else:\n",
    "        return 'Otro'\n",
    "\n",
    "eid_aladha_days = df.loc[df['is_eid_aladha'] == 1, 'fecha_sin_hora'].drop_duplicates()\n",
    "eid_aladha_days = sorted(eid_aladha_days)\n",
    "\n",
    "todos_eids_aladha = []\n",
    "\n",
    "for eid_day in eid_aladha_days:\n",
    "    eid_day_dt = pd.to_datetime(eid_day)\n",
    "    start = eid_day_dt - pd.Timedelta(days=7)\n",
    "    end = eid_day_dt + pd.Timedelta(days=7)\n",
    "\n",
    "    df_window = df[(df['con_fecha'] >= start) & (df['con_fecha'] <= end)].copy()\n",
    "    df_window['dias_relativos'] = (df_window['con_fecha'] - eid_day_dt).dt.days\n",
    "    df_window['categoria'] = df_window['con_tipobillete'].apply(clasificar_billete)\n",
    "\n",
    "    df_count = df_window.groupby(['dias_relativos','categoria']).size().reset_index(name='num_embarques')\n",
    "    df_count['eid_date'] = eid_day_dt\n",
    "    todos_eids_aladha.append(df_count)\n",
    "\n",
    "df_concat_aladha = pd.concat(todos_eids_aladha, ignore_index=True)\n",
    "\n",
    "df_avg_global = df_concat_aladha.groupby(['dias_relativos','categoria'])['num_embarques'].mean().reset_index()\n",
    "pivot_global = df_avg_global.pivot(index='dias_relativos', columns='categoria', values='num_embarques').fillna(0)\n",
    "\n",
    "plt.figure(figsize=(10,6))\n",
    "for cat in pivot_global.columns:\n",
    "    plt.plot(pivot_global.index, pivot_global[cat], marker='o', label=cat)\n",
    "plt.axvline(0, color='red', linestyle='--', label='Dia Eid')\n",
    "plt.title(\"Promedio global embarques 7 dias a Eid al-Adha\")\n",
    "plt.xlabel(\"(0 = dia de Eid)\")\n",
    "plt.ylabel(\"Promedio embarques\")\n",
    "plt.legend(title='Categoria')\n",
    "plt.tight_layout()\n",
    "plt.show()\n",
    "\n",
    "df_2024 = df_concat_aladha[df_concat_aladha['eid_date'].dt.year == 2024]\n",
    "\n",
    "df_avg_2024 = df_2024.groupby(['dias_relativos','categoria'])['num_embarques'].mean().reset_index()\n",
    "pivot_2024 = df_avg_2024.pivot(index='dias_relativos', columns='categoria', values='num_embarques').fillna(0)\n",
    "\n",
    "plt.figure(figsize=(10,6))\n",
    "for cat in pivot_2024.columns:\n",
    "    plt.plot(pivot_2024.index, pivot_2024[cat], marker='o', label=cat)\n",
    "plt.axvline(0, color='red', linestyle='--', label='Día Eid')\n",
    "plt.title(\"Promedio embarques 7 dias a Eid al-Adha (2024)\")\n",
    "plt.xlabel(\"(0 = dia de Eid)\")\n",
    "plt.ylabel(\"Promedio de embarques\")\n",
    "plt.legend(title='Categoria')\n",
    "plt.tight_layout()\n",
    "plt.show()\n"
   ]
  },
  {
   "cell_type": "code",
   "execution_count": null,
   "metadata": {
    "colab": {
     "base_uri": "https://localhost:8080/",
     "height": 607
    },
    "executionInfo": {
     "elapsed": 259,
     "status": "ok",
     "timestamp": 1745919921817,
     "user": {
      "displayName": "Luis Carlos Fernández San Martín",
      "userId": "17447517186582912809"
     },
     "user_tz": -120
    },
    "id": "p9_jIuCR1HyF",
    "outputId": "f9b595d6-8efa-41ac-f98c-77a5c10a399e"
   },
   "outputs": [],
   "source": [
    "plt.figure(figsize=(10,6))\n",
    "\n",
    "for cat in pivot_global.columns:\n",
    "    plt.plot(\n",
    "        pivot_global.index,\n",
    "        pivot_global[cat],\n",
    "        marker='o',\n",
    "        linestyle='-',\n",
    "        label=f\"Global - {cat}\"\n",
    "    )\n",
    "\n",
    "for cat in pivot_2024.columns:\n",
    "    plt.plot(\n",
    "        pivot_2024.index,\n",
    "        pivot_2024[cat],\n",
    "        marker='o',\n",
    "        linestyle='--',\n",
    "        label=f\"2024 - {cat}\"\n",
    "    )\n",
    "\n",
    "plt.axvline(0, color='red', linestyle='--', label='Día Eid')\n",
    "plt.title(\"Comparacion: Promedio global vs. Promedio 2024 (Eid al-Adha)\")\n",
    "plt.xlabel(\"Dias relativos (0 = dia de Eid)\")\n",
    "plt.ylabel(\"Numero promedio de embarques\")\n",
    "plt.legend()\n",
    "plt.tight_layout()\n",
    "plt.show()\n"
   ]
  },
  {
   "cell_type": "code",
   "execution_count": null,
   "metadata": {
    "colab": {
     "base_uri": "https://localhost:8080/",
     "height": 1000
    },
    "executionInfo": {
     "elapsed": 3080,
     "status": "ok",
     "timestamp": 1745919924898,
     "user": {
      "displayName": "Luis Carlos Fernández San Martín",
      "userId": "17447517186582912809"
     },
     "user_tz": -120
    },
    "id": "imbrPrYO3pho",
    "outputId": "d1055273-4108-42c7-bcca-2dc8736cbe99"
   },
   "outputs": [],
   "source": [
    "import pandas as pd\n",
    "import matplotlib.pyplot as plt\n",
    "\n",
    "df['con_fecha'] = pd.to_datetime(df['con_fecha'], errors='coerce')\n",
    "df['fecha_sin_hora'] = df['con_fecha'].dt.date\n",
    "\n",
    "def clasificar_billete(codigo):\n",
    "    if codigo in [1, 2, 3]:\n",
    "        return 'Pasajero'\n",
    "    elif codigo in [0, 5, 6, 7, 8, 9]:\n",
    "        return 'Vehículo'\n",
    "    else:\n",
    "        return 'Otro'\n",
    "\n",
    "eid_alfitr_days = df.loc[df['is_eid_alfitr'] == 1, 'fecha_sin_hora'].drop_duplicates()\n",
    "eid_alfitr_days = sorted(eid_alfitr_days)\n",
    "\n",
    "todos_eids_alfitr = []\n",
    "\n",
    "for eid_day in eid_alfitr_days:\n",
    "    eid_day_dt = pd.to_datetime(eid_day)\n",
    "    start = eid_day_dt - pd.Timedelta(days=7)\n",
    "    end = eid_day_dt + pd.Timedelta(days=7)\n",
    "\n",
    "    df_window = df[(df['con_fecha'] >= start) & (df['con_fecha'] <= end)].copy()\n",
    "    df_window['dias_relativos'] = (df_window['con_fecha'] - eid_day_dt).dt.days\n",
    "    df_window['categoria'] = df_window['con_tipobillete'].apply(clasificar_billete)\n",
    "\n",
    "    df_count = df_window.groupby(['dias_relativos','categoria']).size().reset_index(name='num_embarques')\n",
    "    df_count['eid_date'] = eid_day_dt\n",
    "    todos_eids_alfitr.append(df_count)\n",
    "\n",
    "df_concat_alfitr = pd.concat(todos_eids_alfitr, ignore_index=True)\n",
    "\n",
    "df_avg_global = df_concat_alfitr.groupby(['dias_relativos','categoria'])['num_embarques'].mean().reset_index()\n",
    "pivot_global = df_avg_global.pivot(index='dias_relativos', columns='categoria', values='num_embarques').fillna(0)\n",
    "\n",
    "plt.figure(figsize=(10,6))\n",
    "for cat in pivot_global.columns:\n",
    "    plt.plot(pivot_global.index, pivot_global[cat], marker='o', label=f\"Global - {cat}\")\n",
    "plt.axvline(0, color='red', linestyle='--', label='Dia Eid')\n",
    "plt.title(\"Promedio global embarques 7 dias a Eid al-Fitr\")\n",
    "plt.xlabel(\"Dias relativos (0 = dia de Eid)\")\n",
    "plt.ylabel(\"Promedio embarques\")\n",
    "plt.legend(title='Categoria')\n",
    "plt.tight_layout()\n",
    "plt.show()\n",
    "\n",
    "df_2024 = df_concat_alfitr[df_concat_alfitr['eid_date'].dt.year == 2024]\n",
    "df_avg_2024 = df_2024.groupby(['dias_relativos','categoria'])['num_embarques'].mean().reset_index()\n",
    "pivot_2024 = df_avg_2024.pivot(index='dias_relativos', columns='categoria', values='num_embarques').fillna(0)\n",
    "\n",
    "plt.figure(figsize=(10,6))\n",
    "for cat in pivot_2024.columns:\n",
    "    plt.plot(pivot_2024.index, pivot_2024[cat], marker='o', label=f\"2024 - {cat}\")\n",
    "plt.axvline(0, color='red', linestyle='--', label='Dia Eid')\n",
    "plt.title(\"Promedio embarques 7 dias a Eid al-Fitr (2024)\")\n",
    "plt.xlabel(\"Dias relativos (0 = dia de Eid)\")\n",
    "plt.ylabel(\"Promedio embarques\")\n",
    "plt.legend(title='Categoria')\n",
    "plt.tight_layout()\n",
    "plt.show()\n",
    "\n",
    "plt.figure(figsize=(10,6))\n",
    "for cat in pivot_global.columns:\n",
    "    plt.plot(pivot_global.index, pivot_global[cat], marker='o', linestyle='-', label=f\"Global - {cat}\")\n",
    "for cat in pivot_2024.columns:\n",
    "    plt.plot(pivot_2024.index, pivot_2024[cat], marker='o', linestyle='--', label=f\"2024 - {cat}\")\n",
    "plt.axvline(0, color='red', linestyle='--', label='Dia Eid')\n",
    "plt.title(\"Comparacion global vs 2024 - Eid al-Fitr (7 dias)\")\n",
    "plt.xlabel(\"Dias relativos (0 = dia de Eid)\")\n",
    "plt.ylabel(\"Promedio embarques\")\n",
    "plt.legend()\n",
    "plt.tight_layout()\n",
    "plt.show()"
   ]
  },
  {
   "cell_type": "code",
   "execution_count": null,
   "metadata": {
    "colab": {
     "base_uri": "https://localhost:8080/",
     "height": 1000
    },
    "executionInfo": {
     "elapsed": 4931,
     "status": "ok",
     "timestamp": 1745919929833,
     "user": {
      "displayName": "Luis Carlos Fernández San Martín",
      "userId": "17447517186582912809"
     },
     "user_tz": -120
    },
    "id": "Y6k29yeB5KZx",
    "outputId": "4c5b284d-d0db-43e0-884a-0ae096f4525b"
   },
   "outputs": [],
   "source": [
    "import pandas as pd\n",
    "import matplotlib.pyplot as plt\n",
    "\n",
    "df['con_fecha'] = pd.to_datetime(df['con_fecha'], errors='coerce')\n",
    "df['fecha_sin_hora'] = df['con_fecha'].dt.date\n",
    "\n",
    "def clasificar_billete(codigo):\n",
    "    if codigo in [1, 2, 3]:\n",
    "        return 'Pasajero'\n",
    "    elif codigo in [0, 5, 6, 7, 8, 9]:\n",
    "        return 'Vehículo'\n",
    "    else:\n",
    "        return 'Otro'\n",
    "df['categoria'] = df['con_tipobillete'].apply(clasificar_billete)\n",
    "\n",
    "def preparar_ventanas(df, festivo_col):\n",
    "    fechas_eid = df.loc[df[festivo_col] == 1, 'fecha_sin_hora'].drop_duplicates()\n",
    "    todos = []\n",
    "    for eid_day in fechas_eid:\n",
    "        eid_dt = pd.to_datetime(eid_day)\n",
    "        ventana = df[(df['con_fecha'] >= eid_dt - pd.Timedelta(days=7)) &\n",
    "                     (df['con_fecha'] <= eid_dt + pd.Timedelta(days=7))].copy()\n",
    "        ventana['dias_relativos'] = (ventana['con_fecha'] - eid_dt).dt.days\n",
    "        ventana['eid_date'] = eid_dt\n",
    "        conteo = ventana.groupby(['dias_relativos','categoria']).size().reset_index(name='num_embarques')\n",
    "        conteo['eid_date'] = eid_dt\n",
    "        todos.append(conteo)\n",
    "    return pd.concat(todos, ignore_index=True)\n",
    "\n",
    "def plot_comparativo(df_consolidado, titulo, year=2024):\n",
    "    df_global = df_consolidado.groupby(['dias_relativos', 'categoria'])['num_embarques'].mean().reset_index()\n",
    "    pivot_global = df_global.pivot(index='dias_relativos', columns='categoria', values='num_embarques').fillna(0)\n",
    "\n",
    "    df_2024 = df_consolidado[df_consolidado['eid_date'].dt.year == year]\n",
    "    df_avg_2024 = df_2024.groupby(['dias_relativos', 'categoria'])['num_embarques'].mean().reset_index()\n",
    "    pivot_2024 = df_avg_2024.pivot(index='dias_relativos', columns='categoria', values='num_embarques').fillna(0)\n",
    "\n",
    "    plt.figure(figsize=(10,6))\n",
    "    for cat in pivot_global.columns:\n",
    "        plt.plot(pivot_global.index, pivot_global[cat], marker='o', linestyle='-', label=f\"Global - {cat}\")\n",
    "    for cat in pivot_2024.columns:\n",
    "        plt.plot(pivot_2024.index, pivot_2024[cat], marker='o', linestyle='--', label=f\"2024 - {cat}\")\n",
    "\n",
    "    plt.axvline(0, color='red', linestyle='--', label='Día Eid')\n",
    "    plt.title(titulo)\n",
    "    plt.xlabel(\"Dias relativos (0 = dia de Eid)\")\n",
    "    plt.ylabel(\"Promedio de embarques\")\n",
    "    plt.legend()\n",
    "    plt.tight_layout()\n",
    "    plt.show()\n",
    "\n",
    "df_alfitr = preparar_ventanas(df, festivo_col='is_eid_alfitr')\n",
    "plot_comparativo(df_alfitr, \"Comparacion Global vs 2024  Eid al-Fitr (7 dias)\")\n",
    "\n",
    "df_aladha = preparar_ventanas(df, festivo_col='is_eid_aladha')\n",
    "plot_comparativo(df_aladha, \"Comparacion Global vs 2024  Eid al-Adha (7 dias)\")\n"
   ]
  },
  {
   "cell_type": "code",
   "execution_count": null,
   "metadata": {
    "colab": {
     "base_uri": "https://localhost:8080/",
     "height": 507
    },
    "executionInfo": {
     "elapsed": 50973,
     "status": "ok",
     "timestamp": 1745919980806,
     "user": {
      "displayName": "Luis Carlos Fernández San Martín",
      "userId": "17447517186582912809"
     },
     "user_tz": -120
    },
    "id": "2o7DOHOr8D5l",
    "outputId": "7d5f96f4-edb7-4679-cc7d-794cf1f20ac0"
   },
   "outputs": [],
   "source": [
    "import matplotlib.pyplot as plt\n",
    "import seaborn as sns\n",
    "\n",
    "df_filtrado = df[df['porc_ocupacion_vehiculos'].notna()]\n",
    "\n",
    "plt.figure(figsize=(12, 5))\n",
    "\n",
    "plt.subplot(1, 2, 1)\n",
    "sns.boxplot(x=df_filtrado['porc_ocupacion_vehiculos'])\n",
    "plt.title(\"Boxplot Porcentaje de ocupación de vehiculos\")\n",
    "\n",
    "plt.subplot(1, 2, 2)\n",
    "sns.histplot(df_filtrado['porc_ocupacion_vehiculos'], bins=50, kde=True)\n",
    "plt.title(\"Distribucion Porcentaje de ocupación de vehiculos\")\n",
    "\n",
    "plt.tight_layout()\n",
    "plt.show()"
   ]
  },
  {
   "cell_type": "code",
   "execution_count": null,
   "metadata": {
    "colab": {
     "base_uri": "https://localhost:8080/",
     "height": 607
    },
    "executionInfo": {
     "elapsed": 6014,
     "status": "ok",
     "timestamp": 1745919986821,
     "user": {
      "displayName": "Luis Carlos Fernández San Martín",
      "userId": "17447517186582912809"
     },
     "user_tz": -120
    },
    "id": "UcV7WVGO-c9t",
    "outputId": "cdea3947-018b-4c53-bcf1-185d392f4673"
   },
   "outputs": [],
   "source": [
    "import pandas as pd\n",
    "import matplotlib.pyplot as plt\n",
    "import numpy as np\n",
    "\n",
    "df_copy = df.copy()\n",
    "\n",
    "resumen_operativas = df_copy.groupby(['con_bacoope', 'buq_nombre']).agg({\n",
    "    'porc_ocupacion_pasajeros': 'max',\n",
    "    'porc_ocupacion_vehiculos': 'max'\n",
    "}).reset_index()\n",
    "\n",
    "operativas_sobre_pasajeros = resumen_operativas[resumen_operativas['porc_ocupacion_pasajeros'] > 100].copy()\n",
    "operativas_sobre_vehiculos = resumen_operativas[resumen_operativas['porc_ocupacion_vehiculos'] > 100].copy()\n",
    "\n",
    "operativas_sobre_pasajeros['exceso_pasajeros'] = (operativas_sobre_pasajeros['porc_ocupacion_pasajeros'] - 100).round(1)\n",
    "operativas_sobre_vehiculos['exceso_vehiculos'] = (operativas_sobre_vehiculos['porc_ocupacion_vehiculos'] - 100).round(1)\n",
    "\n",
    "summary_pasajeros = operativas_sobre_pasajeros.groupby('buq_nombre').agg(\n",
    "    exceso_pasajeros=('exceso_pasajeros', lambda x: [f\"{v}%\" for v in x])\n",
    ").reset_index()\n",
    "\n",
    "summary_vehiculos = operativas_sobre_vehiculos.groupby('buq_nombre').agg(\n",
    "    exceso_vehiculos=('exceso_vehiculos', lambda x: [f\"{v}%\" for v in x])\n",
    ").reset_index()\n",
    "\n",
    "summary_total = pd.merge(summary_pasajeros, summary_vehiculos, on='buq_nombre', how='outer')\n",
    "\n",
    "def media_excesos(lista):\n",
    "    if not isinstance(lista, list) or not lista:\n",
    "        return 0\n",
    "    valores = [float(v.replace('%', '')) for v in lista]\n",
    "    return np.mean(valores)\n",
    "\n",
    "summary_total['exceso_medio_pasajeros'] = summary_total['exceso_pasajeros'].apply(media_excesos)\n",
    "summary_total['exceso_medio_vehiculos'] = summary_total['exceso_vehiculos'].apply(media_excesos)\n",
    "\n",
    "df_exceso = summary_total[\n",
    "    (summary_total['exceso_medio_pasajeros'] > 0) | (summary_total['exceso_medio_vehiculos'] > 0)\n",
    "].copy()\n",
    "\n",
    "df_exceso = df_exceso.sort_values(by=['exceso_medio_pasajeros', 'exceso_medio_vehiculos'], ascending=False)\n",
    "\n",
    "plt.figure(figsize=(12,6))\n",
    "bar_width = 0.4\n",
    "x = range(len(df_exceso))\n",
    "\n",
    "plt.bar(x, df_exceso['exceso_medio_pasajeros'], width=bar_width, label='Pasajeros', color='steelblue')\n",
    "plt.bar([i + bar_width for i in x], df_exceso['exceso_medio_vehiculos'], width=bar_width, label='Vehículos', color='darkorange')\n",
    "\n",
    "plt.xticks([i + bar_width / 2 for i in x], df_exceso['buq_nombre'], rotation=45, ha='right')\n",
    "plt.ylabel('Exceso medio de ocupacion (%)')\n",
    "plt.title('Exceso medio (%) por buque')\n",
    "plt.legend()\n",
    "plt.tight_layout()\n",
    "plt.show()"
   ]
  },
  {
   "cell_type": "code",
   "execution_count": null,
   "metadata": {
    "colab": {
     "base_uri": "https://localhost:8080/",
     "height": 507
    },
    "executionInfo": {
     "elapsed": 34436,
     "status": "ok",
     "timestamp": 1745920021256,
     "user": {
      "displayName": "Luis Carlos Fernández San Martín",
      "userId": "17447517186582912809"
     },
     "user_tz": -120
    },
    "id": "IAYZcIYGBqvE",
    "outputId": "d3848260-e9ab-4d72-ad33-eec67b4ffe1b"
   },
   "outputs": [],
   "source": [
    "import pandas as pd\n",
    "import matplotlib.pyplot as plt\n",
    "import seaborn as sns\n",
    "\n",
    "limite = 120 \n",
    "\n",
    "df_limited = df[(df['diferencia_min'] >= -limite) & (df['diferencia_min'] <= limite)]\n",
    "\n",
    "plt.figure(figsize=(10,5))\n",
    "sns.histplot(df_limited['diferencia_min'], bins=100, kde=True)\n",
    "plt.axvline(0, color='red', linestyle='--', label='Hora de zarpe')\n",
    "plt.title(\"Distribucion 2h - diferencia minutos\")\n",
    "plt.xlabel(\"Minutos desde la hora de zarpe\")\n",
    "plt.ylabel(\"Nº tarjetas leidas\")\n",
    "plt.legend()\n",
    "plt.tight_layout()\n",
    "plt.show()"
   ]
  },
  {
   "cell_type": "code",
   "execution_count": null,
   "metadata": {
    "colab": {
     "base_uri": "https://localhost:8080/",
     "height": 607
    },
    "executionInfo": {
     "elapsed": 1520,
     "status": "ok",
     "timestamp": 1745920022775,
     "user": {
      "displayName": "Luis Carlos Fernández San Martín",
      "userId": "17447517186582912809"
     },
     "user_tz": -120
    },
    "id": "YgLw_7lnDVEl",
    "outputId": "bc0d83fc-9ea5-4ce8-8c5d-3c7be52d60b4"
   },
   "outputs": [],
   "source": [
    "import pandas as pd\n",
    "import matplotlib.pyplot as plt\n",
    "\n",
    "df['con_fecha'] = pd.to_datetime(df['con_fecha'], errors='coerce')\n",
    "df['anio'] = df['con_fecha'].dt.year\n",
    "df['hora'] = df['con_fecha'].dt.hour\n",
    "\n",
    "df_horas = df.groupby(['anio', 'hora']).size().reset_index(name='num_registros')\n",
    "\n",
    "plt.figure(figsize=(10,6))\n",
    "for year in sorted(df_horas['anio'].unique()):\n",
    "    data_year = df_horas[df_horas['anio'] == year]\n",
    "    plt.plot(data_year['hora'], data_year['num_registros'], marker='o', label=f\"Año {year}\")\n",
    "\n",
    "plt.title(\"Distribucion lecturas por hora del dia (año)\")\n",
    "plt.xlabel(\"Hora del dia\")\n",
    "plt.ylabel(\"Nº lecturas\")\n",
    "plt.xticks(range(24))\n",
    "plt.legend(title='Año')\n",
    "plt.tight_layout()\n",
    "plt.show()"
   ]
  },
  {
   "cell_type": "code",
   "execution_count": null,
   "metadata": {
    "colab": {
     "base_uri": "https://localhost:8080/",
     "height": 1000
    },
    "executionInfo": {
     "elapsed": 12329,
     "status": "ok",
     "timestamp": 1745920035105,
     "user": {
      "displayName": "Luis Carlos Fernández San Martín",
      "userId": "17447517186582912809"
     },
     "user_tz": -120
    },
    "id": "jJqWJ8QWY1_1",
    "outputId": "2aafb941-74b9-4561-a6e8-4f60dc9edaaa"
   },
   "outputs": [],
   "source": [
    "import pandas as pd\n",
    "import seaborn as sns\n",
    "import matplotlib.pyplot as plt\n",
    "\n",
    "cols_interes = [\n",
    "    'total_pasajeros',\n",
    "    'total_vehiculos',\n",
    "    'capacidad_pasajeros',\n",
    "    'capacidad_vehiculos',\n",
    "    'porc_ocupacion_pasajeros',\n",
    "    'porc_ocupacion_vehiculos',\n",
    "    'diferencia_min',\n",
    "    'anio',\n",
    "    'month',\n",
    "    'week_of_year',\n",
    "    'day_of_week',\n",
    "    'season',\n",
    "    'is_weekend'\n",
    "]\n",
    "\n",
    "df_corr = df[cols_interes].copy()\n",
    "\n",
    "matriz_corr = df_corr.corr()\n",
    "\n",
    "plt.figure(figsize=(12,10))\n",
    "sns.heatmap(matriz_corr, annot=True, fmt=\".2f\", cmap=\"coolwarm\", square=True)\n",
    "plt.title(\"Matriz de correlacion de variables relevantes\")\n",
    "plt.tight_layout()\n",
    "plt.show()"
   ]
  },
  {
   "cell_type": "code",
   "execution_count": null,
   "metadata": {
    "colab": {
     "base_uri": "https://localhost:8080/",
     "height": 1000
    },
    "executionInfo": {
     "elapsed": 8668,
     "status": "ok",
     "timestamp": 1745920043776,
     "user": {
      "displayName": "Luis Carlos Fernández San Martín",
      "userId": "17447517186582912809"
     },
     "user_tz": -120
    },
    "id": "0r4i8iwoaEQr",
    "outputId": "91977d11-0355-4111-a0f7-ddf0d3cf2364"
   },
   "outputs": [],
   "source": [
    "import pandas as pd\n",
    "import seaborn as sns\n",
    "import matplotlib.pyplot as plt\n",
    "\n",
    "cols_interes = [\n",
    "    'total_pasajeros',\n",
    "    'total_vehiculos',\n",
    "    'porc_ocupacion_pasajeros',\n",
    "    'porc_ocupacion_vehiculos',\n",
    "    'diferencia_min',\n",
    "    'anio',\n",
    "    'month',\n",
    "    'day_of_week',\n",
    "    'is_weekend',\n",
    "    'is_festivo_nacional',\n",
    "    'is_festivo_local',\n",
    "    'is_eid_aladha',\n",
    "    'is_eid_aladha_prev',\n",
    "    'is_eid_aladha_post',\n",
    "    'is_eid_alfitr',\n",
    "    'is_eid_alfitr_prev',\n",
    "    'is_eid_alfitr_post',\n",
    "    'is_mawlid_nabi'\n",
    "]\n",
    "\n",
    "df_corr = df[cols_interes].copy()\n",
    "\n",
    "matriz_corr = df_corr.corr()\n",
    "\n",
    "plt.figure(figsize=(12,10))\n",
    "sns.heatmap(matriz_corr, annot=True, fmt=\".2f\", cmap=\"coolwarm\", square=True)\n",
    "plt.title(\"Matriz de correlación de variables relevantes (incluyendo festivos)\")\n",
    "plt.tight_layout()\n",
    "plt.show()\n"
   ]
  },
  {
   "cell_type": "code",
   "execution_count": null,
   "metadata": {
    "colab": {
     "base_uri": "https://localhost:8080/",
     "height": 1000
    },
    "executionInfo": {
     "elapsed": 5974,
     "status": "ok",
     "timestamp": 1745920049753,
     "user": {
      "displayName": "Luis Carlos Fernández San Martín",
      "userId": "17447517186582912809"
     },
     "user_tz": -120
    },
    "id": "k-q0eGfxM_lF",
    "outputId": "3f8be0c9-1a88-4d97-913d-9eb95f6f946b"
   },
   "outputs": [],
   "source": [
    "import pandas as pd\n",
    "import matplotlib.pyplot as plt\n",
    "from sklearn.ensemble import RandomForestRegressor\n",
    "from sklearn.model_selection import train_test_split\n",
    "import numpy as np\n",
    "\n",
    "df_sample = df.sample(n=10000, random_state=42)\n",
    "\n",
    "y = df_sample['total_pasajeros']\n",
    "\n",
    "predictor_cols = [\n",
    "    'con_tipobillete',         \n",
    "    'capacidad_pasajeros',       \n",
    "    'capacidad_vehiculos',      \n",
    "    'diferencia_min',           \n",
    "    'total_vehiculos',           \n",
    "    'porc_ocupacion_pasajeros',  \n",
    "    'porc_ocupacion_vehiculos', \n",
    "    'day_of_week',               \n",
    "    'is_weekend',          \n",
    "    'month',                   \n",
    "    'week_of_year',              \n",
    "    'season',                    \n",
    "    'is_festivo_nacional',       \n",
    "    'is_festivo_local',          \n",
    "    'is_eid_aladha',             \n",
    "    'is_eid_aladha_prev',        \n",
    "    'is_eid_aladha_post',        \n",
    "    'is_eid_alfitr',            \n",
    "    'is_eid_alfitr_prev',        \n",
    "    'is_eid_alfitr_post',        \n",
    "    'is_mawlid_nabi',           \n",
    "    'anio'                     \n",
    "]\n",
    "\n",
    "X = df_sample[predictor_cols]\n",
    "\n",
    "X_train, X_test, y_train, y_test = train_test_split(X, y, test_size=0.3, random_state=42)\n",
    "\n",
    "model = RandomForestRegressor(n_estimators=100, random_state=42)\n",
    "model.fit(X_train, y_train)\n",
    "\n",
    "importancia = pd.DataFrame({\n",
    "    'Variable': X.columns,\n",
    "    'Importancia': model.feature_importances_\n",
    "}).sort_values(by='Importancia', ascending=False)\n",
    "\n",
    "print(\"Importancia de las variables predictoras en la muestra:\")\n",
    "display(importancia)\n",
    "\n",
    "plt.figure(figsize=(10,6))\n",
    "plt.barh(importancia['Variable'], importancia['Importancia'], color='skyblue')\n",
    "plt.gca().invert_yaxis()  # La variable más importante en la parte superior\n",
    "plt.title(\"Importancia de variables para predecir total_pasajeros (muestra)\")\n",
    "plt.xlabel(\"Importancia\")\n",
    "plt.tight_layout()\n",
    "plt.show()"
   ]
  },
  {
   "cell_type": "code",
   "execution_count": null,
   "metadata": {
    "colab": {
     "base_uri": "https://localhost:8080/",
     "height": 1000
    },
    "executionInfo": {
     "elapsed": 1198,
     "status": "ok",
     "timestamp": 1745920050952,
     "user": {
      "displayName": "Luis Carlos Fernández San Martín",
      "userId": "17447517186582912809"
     },
     "user_tz": -120
    },
    "id": "zMIjpg3jOFG3",
    "outputId": "87b3f928-288d-4069-cb13-e5b7ed415c04"
   },
   "outputs": [],
   "source": [
    "import pandas as pd\n",
    "import matplotlib.pyplot as plt\n",
    "import xgboost as xgb\n",
    "from sklearn.model_selection import train_test_split\n",
    "\n",
    "df_sample = df.sample(n=10000, random_state=42)\n",
    "\n",
    "y = df_sample['total_pasajeros']\n",
    "\n",
    "predictor_cols = [\n",
    "    'con_tipobillete',          \n",
    "    'capacidad_pasajeros',       \n",
    "    'capacidad_vehiculos',       \n",
    "    'diferencia_min',            \n",
    "    'total_vehiculos',           \n",
    "    'porc_ocupacion_pasajeros', \n",
    "    'porc_ocupacion_vehiculos',  \n",
    "    'day_of_week',              \n",
    "    'is_weekend',                \n",
    "    'month',                     \n",
    "    'week_of_year',             \n",
    "    'season',                    \n",
    "    'is_festivo_nacional',       \n",
    "    'is_festivo_local',          \n",
    "    'is_eid_aladha',          \n",
    "    'is_eid_aladha_prev',       \n",
    "    'is_eid_aladha_post',        \n",
    "    'is_eid_alfitr',             \n",
    "    'is_eid_alfitr_prev',       \n",
    "    'is_eid_alfitr_post',        \n",
    "    'is_mawlid_nabi',            \n",
    "    'anio'                     \n",
    "]\n",
    "\n",
    "X = df_sample[predictor_cols]\n",
    "\n",
    "X_train, X_test, y_train, y_test = train_test_split(X, y, test_size=0.3, random_state=42)\n",
    "\n",
    "model_xgb = xgb.XGBRegressor(n_estimators=100, random_state=42)\n",
    "model_xgb.fit(X_train, y_train)\n",
    "\n",
    "importancia = pd.DataFrame({\n",
    "    'Variable': X.columns,\n",
    "    'Importancia': model_xgb.feature_importances_\n",
    "}).sort_values(by='Importancia', ascending=False)\n",
    "\n",
    "print(\"Importancia de las variables predictoras con XGBoost en la muestra:\")\n",
    "display(importancia)\n",
    "\n",
    "plt.figure(figsize=(10,6))\n",
    "plt.barh(importancia['Variable'], importancia['Importancia'], color='lightgreen')\n",
    "plt.gca().invert_yaxis() \n",
    "plt.title(\"Importancia de variables para predecir total_pasajeros (XGBoost, muestra)\")\n",
    "plt.xlabel(\"Importancia\")\n",
    "plt.tight_layout()\n",
    "plt.show()\n"
   ]
  },
  {
   "cell_type": "code",
   "execution_count": null,
   "metadata": {
    "colab": {
     "base_uri": "https://localhost:8080/",
     "height": 1000
    },
    "executionInfo": {
     "elapsed": 1761,
     "status": "ok",
     "timestamp": 1745920052714,
     "user": {
      "displayName": "Luis Carlos Fernández San Martín",
      "userId": "17447517186582912809"
     },
     "user_tz": -120
    },
    "id": "JfviqfUoQoQP",
    "outputId": "23305ebe-2ec3-40a6-b609-54cbfcb0de02"
   },
   "outputs": [],
   "source": [
    "import pandas as pd\n",
    "import matplotlib.pyplot as plt\n",
    "import seaborn as sns\n",
    "\n",
    "df['con_fecha'] = pd.to_datetime(df['con_fecha'], errors='coerce')\n",
    "\n",
    "df['hora'] = df['con_fecha'].dt.hour\n",
    "\n",
    "df_grouped = df.groupby(['con_tipobillete', 'hora']).size().reset_index(name='num_registros')\n",
    "\n",
    "pivot_table = df_grouped.pivot(index='hora', columns='con_tipobillete', values='num_registros').fillna(0)\n",
    "print(pivot_table)\n",
    "\n",
    "plt.figure(figsize=(12,6))\n",
    "sns.heatmap(pivot_table, annot=True, fmt=\".0f\", cmap='viridis')\n",
    "plt.title(\"Afluencia por tipo de billete y hora\")\n",
    "plt.xlabel(\"Tipo de billete\")\n",
    "plt.ylabel(\"Hora\")\n",
    "plt.tight_layout()\n",
    "plt.show()"
   ]
  },
  {
   "cell_type": "code",
   "execution_count": null,
   "metadata": {
    "colab": {
     "base_uri": "https://localhost:8080/",
     "height": 1000
    },
    "executionInfo": {
     "elapsed": 8,
     "status": "ok",
     "timestamp": 1745920052742,
     "user": {
      "displayName": "Luis Carlos Fernández San Martín",
      "userId": "17447517186582912809"
     },
     "user_tz": -120
    },
    "id": "O5N5aw2JW1d4",
    "outputId": "4960bb9f-0475-4d23-f667-b695f617e9cd"
   },
   "outputs": [],
   "source": [
    "display(df.head())\n",
    "df.info()"
   ]
  },
  {
   "cell_type": "code",
   "execution_count": null,
   "metadata": {
    "executionInfo": {
     "elapsed": 3631,
     "status": "ok",
     "timestamp": 1745920056374,
     "user": {
      "displayName": "Luis Carlos Fernández San Martín",
      "userId": "17447517186582912809"
     },
     "user_tz": -120
    },
    "id": "rQKIiaIqAdJk"
   },
   "outputs": [],
   "source": [
    "columnas_a_excluir = [\n",
    "    'con_clave',\n",
    "    'con_bacoope',\n",
    "    'con_tipo',\n",
    "    'con_acredita',\n",
    "    'con_nombre',\n",
    "    'con_codigo',\n",
    "    'con_naviera',\n",
    "    'con_dni',\n",
    "    'con_cupon',\n",
    "    'con_trayecto',\n",
    "    'con_shortcomp',\n",
    "    'buq_nombre',\n",
    "    'anio',\n",
    "    'anio_con_fecha',\n",
    "    'anio_con_dateticket',\n",
    "    'agrupacion_billete',\n",
    "    'fecha_mensual',\n",
    "    'hora',\n",
    "    'nombre_dia',\n",
    "    'tipo_billete_clasificado'\n",
    "\n",
    "]\n",
    "\n",
    "df_modelo = df.drop(columns=columnas_a_excluir).copy()"
   ]
  },
  {
   "cell_type": "code",
   "execution_count": 36,
   "metadata": {
    "executionInfo": {
     "elapsed": 1368,
     "status": "ok",
     "timestamp": 1745920057744,
     "user": {
      "displayName": "Luis Carlos Fernández San Martín",
      "userId": "17447517186582912809"
     },
     "user_tz": -120
    },
    "id": "ACYYsZHlSJMI"
   },
   "outputs": [],
   "source": [
    "df_modelo = df_modelo.rename(columns={'fecha_sin_hora': 'fecha_embarque'})\n",
    "df_modelo = df_modelo.rename(columns={'categoria': 'agrupacion'})"
   ]
  },
  {
   "cell_type": "code",
   "execution_count": null,
   "metadata": {
    "colab": {
     "base_uri": "https://localhost:8080/"
    },
    "executionInfo": {
     "elapsed": 753,
     "status": "ok",
     "timestamp": 1745920058502,
     "user": {
      "displayName": "Luis Carlos Fernández San Martín",
      "userId": "17447517186582912809"
     },
     "user_tz": -120
    },
    "id": "aZT-6_5tUfk4",
    "outputId": "2ad21e6f-e008-4548-96d0-e9954445ce8d"
   },
   "outputs": [],
   "source": [
    "df_modelo['con_fecha'] = pd.to_datetime(df['con_fecha'], errors='coerce')\n",
    "\n",
    "df_modelo['dia_embarque'] = df_modelo['con_fecha'].dt.dayofweek + 1\n",
    "df_modelo['dia_embarque'] = df_modelo['dia_embarque'].astype('int64')\n",
    "\n",
    "valores_unicos = df_modelo['dia_embarque'].unique()\n",
    "print(\"Valores unicos en 'dia_embarque':\", valores_unicos)"
   ]
  },
  {
   "cell_type": "code",
   "execution_count": null,
   "metadata": {
    "executionInfo": {
     "elapsed": 3233,
     "status": "ok",
     "timestamp": 1745920061784,
     "user": {
      "displayName": "Luis Carlos Fernández San Martín",
      "userId": "17447517186582912809"
     },
     "user_tz": -120
    },
    "id": "UI-POAvOZBEs"
   },
   "outputs": [],
   "source": [
    "\n",
    "df_modelo['tipo_agrupacion'] = df_modelo['agrupacion'].apply(lambda x: 1 if x == 'Pasajero' else 0)\n",
    "\n",
    "df_modelo.drop(columns=['agrupacion'], inplace=True)"
   ]
  },
  {
   "cell_type": "code",
   "execution_count": null,
   "metadata": {
    "colab": {
     "base_uri": "https://localhost:8080/"
    },
    "executionInfo": {
     "elapsed": 5,
     "status": "ok",
     "timestamp": 1745920061795,
     "user": {
      "displayName": "Luis Carlos Fernández San Martín",
      "userId": "17447517186582912809"
     },
     "user_tz": -120
    },
    "id": "nkgg1_o8ZJxX",
    "outputId": "7495347e-6232-4c9f-80cd-530e6e8c0699"
   },
   "outputs": [],
   "source": [
    "print(df_modelo['tipo_agrupacion'].value_counts())"
   ]
  },
  {
   "cell_type": "code",
   "execution_count": null,
   "metadata": {
    "colab": {
     "base_uri": "https://localhost:8080/"
    },
    "executionInfo": {
     "elapsed": 599,
     "status": "ok",
     "timestamp": 1745920062400,
     "user": {
      "displayName": "Luis Carlos Fernández San Martín",
      "userId": "17447517186582912809"
     },
     "user_tz": -120
    },
    "id": "dtVgZOVLoJfl",
    "outputId": "5a02ded5-5241-44aa-d4cb-271518ccff13"
   },
   "outputs": [],
   "source": [
    "\n",
    "df_modelo['con_fecha'] = pd.to_datetime(df_modelo['con_fecha'], errors='coerce')\n",
    "\n",
    "df_modelo['mes_embarque'] = df_modelo['con_fecha'].dt.month\n",
    "\n",
    "print(df_modelo['mes_embarque'].unique())\n"
   ]
  },
  {
   "cell_type": "code",
   "execution_count": 41,
   "metadata": {
    "executionInfo": {
     "elapsed": 1385,
     "status": "ok",
     "timestamp": 1745920063787,
     "user": {
      "displayName": "Luis Carlos Fernández San Martín",
      "userId": "17447517186582912809"
     },
     "user_tz": -120
    },
    "id": "EQ3fOYxxsEOs"
   },
   "outputs": [],
   "source": [
    "df_modelo.drop(columns=['day_of_week'], inplace=True)\n",
    "df_modelo.drop(columns=['month'], inplace=True)"
   ]
  },
  {
   "cell_type": "code",
   "execution_count": null,
   "metadata": {
    "executionInfo": {
     "elapsed": 502,
     "status": "ok",
     "timestamp": 1745920064657,
     "user": {
      "displayName": "Luis Carlos Fernández San Martín",
      "userId": "17447517186582912809"
     },
     "user_tz": -120
    },
    "id": "Zd0z9vQ6xIYB"
   },
   "outputs": [],
   "source": [
    "df_modelo['fecha_embarque'] = pd.to_datetime(df_modelo['fecha_embarque'], errors='coerce')"
   ]
  },
  {
   "cell_type": "code",
   "execution_count": null,
   "metadata": {
    "colab": {
     "base_uri": "https://localhost:8080/",
     "height": 1000
    },
    "executionInfo": {
     "elapsed": 360,
     "status": "ok",
     "timestamp": 1745920065019,
     "user": {
      "displayName": "Luis Carlos Fernández San Martín",
      "userId": "17447517186582912809"
     },
     "user_tz": -120
    },
    "id": "skq2JmM8NVuN",
    "outputId": "47f54adb-401f-404b-8c97-076d44a16dd5"
   },
   "outputs": [],
   "source": [
    "display(df_modelo.sample(n=10))\n",
    "\n",
    "df_modelo.info()"
   ]
  },
  {
   "cell_type": "markdown",
   "metadata": {
    "id": "o5iucFphjbD-"
   },
   "source": [
    "CONTINUACION"
   ]
  },
  {
   "cell_type": "code",
   "execution_count": null,
   "metadata": {
    "colab": {
     "base_uri": "https://localhost:8080/"
    },
    "executionInfo": {
     "elapsed": 2530,
     "status": "ok",
     "timestamp": 1745920067560,
     "user": {
      "displayName": "Luis Carlos Fernández San Martín",
      "userId": "17447517186582912809"
     },
     "user_tz": -120
    },
    "id": "sfhPGIAqRnxL",
    "outputId": "cc9b1125-4f52-448d-f34c-84e60c7c60c6"
   },
   "outputs": [],
   "source": [
    "df_modelo = pd.get_dummies(df_modelo, columns=['anio_embarque'], prefix='anio')\n",
    "\n",
    "print(df_modelo.columns)"
   ]
  },
  {
   "cell_type": "code",
   "execution_count": null,
   "metadata": {
    "executionInfo": {
     "elapsed": 132,
     "status": "ok",
     "timestamp": 1745920067693,
     "user": {
      "displayName": "Luis Carlos Fernández San Martín",
      "userId": "17447517186582912809"
     },
     "user_tz": -120
    },
    "id": "owZAYEafeC4a"
   },
   "outputs": [],
   "source": [
    "one_hot_cols = ['anio_2022', 'anio_2023', 'anio_2024']\n",
    "df_modelo[one_hot_cols] = df_modelo[one_hot_cols].astype(int)"
   ]
  },
  {
   "cell_type": "code",
   "execution_count": 48,
   "metadata": {
    "executionInfo": {
     "elapsed": 206,
     "status": "ok",
     "timestamp": 1745920067902,
     "user": {
      "displayName": "Luis Carlos Fernández San Martín",
      "userId": "17447517186582912809"
     },
     "user_tz": -120
    },
    "id": "sgGyn96g0q9y"
   },
   "outputs": [],
   "source": [
    "df_modelo['dia_del_anio'] = df_modelo['fecha_embarque'].dt.dayofyear"
   ]
  },
  {
   "cell_type": "code",
   "execution_count": null,
   "metadata": {
    "executionInfo": {
     "elapsed": 1986,
     "status": "ok",
     "timestamp": 1745920069893,
     "user": {
      "displayName": "Luis Carlos Fernández San Martín",
      "userId": "17447517186582912809"
     },
     "user_tz": -120
    },
    "id": "NPpN-5FHSM4h"
   },
   "outputs": [],
   "source": [
    "one_hot_season = pd.get_dummies(df_modelo['season'], prefix='season').astype(int)\n",
    "\n",
    "df_modelo = pd.concat([df_modelo, one_hot_season], axis=1)"
   ]
  },
  {
   "cell_type": "code",
   "execution_count": null,
   "metadata": {
    "colab": {
     "base_uri": "https://localhost:8080/",
     "height": 1000
    },
    "executionInfo": {
     "elapsed": 379,
     "status": "ok",
     "timestamp": 1745920070274,
     "user": {
      "displayName": "Luis Carlos Fernández San Martín",
      "userId": "17447517186582912809"
     },
     "user_tz": -120
    },
    "id": "kaBZEG9HdYx3",
    "outputId": "9d9cc35a-8386-4376-8e6e-32be6989c464"
   },
   "outputs": [],
   "source": [
    "display(df_modelo.sample(n=5))\n",
    "\n",
    "df_modelo.info()"
   ]
  },
  {
   "cell_type": "markdown",
   "metadata": {
    "id": "91obGx_eGDWw"
   },
   "source": [
    "# **CREAR COPIA DEL DATASET:**"
   ]
  },
  {
   "cell_type": "code",
   "execution_count": null,
   "metadata": {
    "executionInfo": {
     "elapsed": 1889,
     "status": "ok",
     "timestamp": 1745920072164,
     "user": {
      "displayName": "Luis Carlos Fernández San Martín",
      "userId": "17447517186582912809"
     },
     "user_tz": -120
    },
    "id": "8Qu_QYcLUY2y"
   },
   "outputs": [],
   "source": [
    "\n",
    "df_final = df_modelo.copy()"
   ]
  },
  {
   "cell_type": "code",
   "execution_count": null,
   "metadata": {
    "colab": {
     "base_uri": "https://localhost:8080/"
    },
    "executionInfo": {
     "elapsed": 53,
     "status": "ok",
     "timestamp": 1745920072219,
     "user": {
      "displayName": "Luis Carlos Fernández San Martín",
      "userId": "17447517186582912809"
     },
     "user_tz": -120
    },
    "id": "8BAuFea0Uv3I",
    "outputId": "07791ead-86ca-426b-f6cf-c38bd4d96718"
   },
   "outputs": [],
   "source": [
    "\n",
    "dias_unicos = df_final['dia_del_anio'].unique()\n",
    "print(\"Valores únicos en 'dia_del_anio':\", sorted(dias_unicos))\n",
    "print(\"¿Incluye el día 366?\", 366 in dias_unicos)"
   ]
  },
  {
   "cell_type": "code",
   "execution_count": null,
   "metadata": {
    "executionInfo": {
     "elapsed": 1657,
     "status": "ok",
     "timestamp": 1745920073878,
     "user": {
      "displayName": "Luis Carlos Fernández San Martín",
      "userId": "17447517186582912809"
     },
     "user_tz": -120
    },
    "id": "RJjLVA88V6C9"
   },
   "outputs": [],
   "source": [
    "\n",
    "df_final['dia_del_anio_sin'] = np.sin(2 * np.pi * df_final['dia_del_anio'] / 366)\n",
    "df_final['dia_del_anio_cos'] = np.cos(2 * np.pi * df_final['dia_del_anio'] / 366)\n",
    "\n",
    "df_final['dia_embarque_sin'] = np.sin(2 * np.pi * df_final['dia_embarque'] / 7)\n",
    "df_final['dia_embarque_cos'] = np.cos(2 * np.pi * df_final['dia_embarque'] / 7)\n",
    "\n",
    "df_final['hora_embarque_sin'] = np.sin(2 * np.pi * df_final['hora_embarque'] / 24)\n",
    "df_final['hora_embarque_cos'] = np.cos(2 * np.pi * df_final['hora_embarque'] / 24)\n",
    "\n",
    "df_final['mes_embarque_sin'] = np.sin(2 * np.pi * df_final['mes_embarque'] / 12)\n",
    "df_final['mes_embarque_cos'] = np.cos(2 * np.pi * df_final['mes_embarque'] / 12)\n",
    "\n",
    "df_final['week_of_year_sin'] = np.sin(2 * np.pi * df_final['week_of_year'] / 53)\n",
    "df_final['week_of_year_cos'] = np.cos(2 * np.pi * df_final['week_of_year'] / 53)\n"
   ]
  },
  {
   "cell_type": "code",
   "execution_count": null,
   "metadata": {
    "colab": {
     "base_uri": "https://localhost:8080/",
     "height": 1000
    },
    "executionInfo": {
     "elapsed": 74655,
     "status": "ok",
     "timestamp": 1745920148538,
     "user": {
      "displayName": "Luis Carlos Fernández San Martín",
      "userId": "17447517186582912809"
     },
     "user_tz": -120
    },
    "id": "tq819RtOktiq",
    "outputId": "6971d60d-9de2-4d99-fb35-e0f5e1bf7352"
   },
   "outputs": [],
   "source": [
    "import matplotlib.pyplot as plt\n",
    "\n",
    "fig, axs = plt.subplots(2, 2, figsize=(12, 10))\n",
    "\n",
    "axs[0, 0].scatter(df_final['dia_del_anio_sin'], df_final['dia_del_anio_cos'], alpha=0.5)\n",
    "axs[0, 0].set_title('Codificación Cíclica: Día del Año')\n",
    "axs[0, 0].set_xlabel('sin(dia_del_anio)')\n",
    "axs[0, 0].set_ylabel('cos(dia_del_anio)')\n",
    "axs[0, 0].axis('equal')\n",
    "axs[0, 0].grid(True)\n",
    "\n",
    "axs[0, 1].scatter(df_final['dia_embarque_sin'], df_final['dia_embarque_cos'], alpha=0.5)\n",
    "axs[0, 1].set_title('Codificación Cíclica: Día de la Semana')\n",
    "axs[0, 1].set_xlabel('sin(dia_embarque)')\n",
    "axs[0, 1].set_ylabel('cos(dia_embarque)')\n",
    "axs[0, 1].axis('equal')\n",
    "axs[0, 1].grid(True)\n",
    "\n",
    "axs[1, 0].scatter(df_final['mes_embarque_sin'], df_final['mes_embarque_cos'], alpha=0.5)\n",
    "axs[1, 0].set_title('Codificación Cíclica: Mes del Año')\n",
    "axs[1, 0].set_xlabel('sin(mes_embarque)')\n",
    "axs[1, 0].set_ylabel('cos(mes_embarque)')\n",
    "axs[1, 0].axis('equal')\n",
    "axs[1, 0].grid(True)\n",
    "\n",
    "axs[1, 1].scatter(df_final['week_of_year_sin'], df_final['week_of_year_cos'], alpha=0.5)\n",
    "axs[1, 1].set_title('Codificación Cíclica: Semana del Año')\n",
    "axs[1, 1].set_xlabel('sin(week_of_year)')\n",
    "axs[1, 1].set_ylabel('cos(week_of_year)')\n",
    "axs[1, 1].axis('equal')\n",
    "axs[1, 1].grid(True)\n",
    "\n",
    "plt.tight_layout()\n",
    "plt.show()\n",
    "\n"
   ]
  },
  {
   "cell_type": "markdown",
   "metadata": {
    "id": "cEjQPvw8jqmJ"
   },
   "source": [
    "# Con estos dos bloques pruebo a crear variables del dia de la semana. Ejecutar solo si con este nuevo dataset mejora el rendimiento del modelo, sino guardar el dataset anterior"
   ]
  },
  {
   "cell_type": "code",
   "execution_count": null,
   "metadata": {
    "colab": {
     "base_uri": "https://localhost:8080/",
     "height": 1000
    },
    "executionInfo": {
     "elapsed": 316,
     "status": "ok",
     "timestamp": 1745920148856,
     "user": {
      "displayName": "Luis Carlos Fernández San Martín",
      "userId": "17447517186582912809"
     },
     "user_tz": -120
    },
    "id": "J9iNd2PGwhov",
    "outputId": "af3524e6-77aa-432d-f014-f2c477a45b7e"
   },
   "outputs": [],
   "source": [
    "display(df.sample(n=5))\n",
    "df_final.info()"
   ]
  },
  {
   "cell_type": "code",
   "execution_count": null,
   "metadata": {
    "executionInfo": {
     "elapsed": 1976,
     "status": "ok",
     "timestamp": 1745920150834,
     "user": {
      "displayName": "Luis Carlos Fernández San Martín",
      "userId": "17447517186582912809"
     },
     "user_tz": -120
    },
    "id": "b_hDLJiCgMN1"
   },
   "outputs": [],
   "source": [
    "\n",
    "df_final['weekday'] = df_final['con_fecha'].dt.weekday\n",
    "\n",
    "for i in range(7):\n",
    "    day_names = ['monday', 'tuesday', 'wednesday', 'thursday', 'friday', 'saturday', 'sunday']\n",
    "    df_final[f'is_{day_names[i]}'] = (df_final['weekday'] == i).astype(int)\n",
    "df_final = df_final.drop(columns=['weekday'])"
   ]
  },
  {
   "cell_type": "code",
   "execution_count": null,
   "metadata": {
    "executionInfo": {
     "elapsed": 2191,
     "status": "ok",
     "timestamp": 1745920153030,
     "user": {
      "displayName": "Luis Carlos Fernández San Martín",
      "userId": "17447517186582912809"
     },
     "user_tz": -120
    },
    "id": "JaQIBRTSf9Mw"
   },
   "outputs": [],
   "source": [
    "\n",
    "df_final['weekday'] = df_final['con_fecha'].dt.weekday\n",
    "\n",
    "df_final['weekday_sin'] = np.sin(2 * np.pi * df_final['weekday']/7)\n",
    "df_final['weekday_cos'] = np.cos(2 * np.pi * df_final['weekday']/7)\n",
    "\n",
    "day_names = ['monday', 'tuesday', 'wednesday', 'thursday', 'friday', 'saturday', 'sunday']\n",
    "for i in range(7):\n",
    "    df_final[f'is_{day_names[i]}'] = (df_final['weekday'] == i).astype(int)\n",
    "\n",
    "df_final = df_final.drop(columns=['weekday'])"
   ]
  },
  {
   "cell_type": "code",
   "execution_count": null,
   "metadata": {
    "colab": {
     "base_uri": "https://localhost:8080/",
     "height": 1000
    },
    "executionInfo": {
     "elapsed": 367,
     "status": "ok",
     "timestamp": 1745920153406,
     "user": {
      "displayName": "Luis Carlos Fernández San Martín",
      "userId": "17447517186582912809"
     },
     "user_tz": -120
    },
    "id": "1Nq-N58fjzeX",
    "outputId": "2d3c7951-c725-4c36-a0b8-89bfafb56c49"
   },
   "outputs": [],
   "source": [
    "display(df_final.sample(n=5))\n",
    "df_final.info()"
   ]
  },
  {
   "cell_type": "code",
   "execution_count": null,
   "metadata": {
    "colab": {
     "base_uri": "https://localhost:8080/",
     "height": 34
    },
    "executionInfo": {
     "elapsed": 280531,
     "status": "ok",
     "timestamp": 1745920433938,
     "user": {
      "displayName": "Luis Carlos Fernández San Martín",
      "userId": "17447517186582912809"
     },
     "user_tz": -120
    },
    "id": "R7x0fUz73Dbh",
    "outputId": "01b6904d-3c80-466b-a84c-01e52b4b4b92"
   },
   "outputs": [
    {
     "data": {
      "application/javascript": "\n    async function download(id, filename, size) {\n      if (!google.colab.kernel.accessAllowed) {\n        return;\n      }\n      const div = document.createElement('div');\n      const label = document.createElement('label');\n      label.textContent = `Downloading \"${filename}\": `;\n      div.appendChild(label);\n      const progress = document.createElement('progress');\n      progress.max = size;\n      div.appendChild(progress);\n      document.body.appendChild(div);\n\n      const buffers = [];\n      let downloaded = 0;\n\n      const channel = await google.colab.kernel.comms.open(id);\n      // Send a message to notify the kernel that we're ready.\n      channel.send({})\n\n      for await (const message of channel.messages) {\n        // Send a message to notify the kernel that we're ready.\n        channel.send({})\n        if (message.buffers) {\n          for (const buffer of message.buffers) {\n            buffers.push(buffer);\n            downloaded += buffer.byteLength;\n            progress.value = downloaded;\n          }\n        }\n      }\n      const blob = new Blob(buffers, {type: 'application/binary'});\n      const a = document.createElement('a');\n      a.href = window.URL.createObjectURL(blob);\n      a.download = filename;\n      div.appendChild(a);\n      a.click();\n      div.remove();\n    }\n  ",
      "text/plain": [
       "<IPython.core.display.Javascript object>"
      ]
     },
     "metadata": {},
     "output_type": "display_data"
    },
    {
     "data": {
      "application/javascript": "download(\"download_23944630-7a38-47b3-b61b-40c83902c2b8\", \"dataset_final_convariablesdedias.csv\", 2873406312)",
      "text/plain": [
       "<IPython.core.display.Javascript object>"
      ]
     },
     "metadata": {},
     "output_type": "display_data"
    }
   ],
   "source": [
    "\n",
    "df_final.to_csv(\"dataset_final_convariablesdedias.csv\", index=False)\n",
    "\n",
    "from google.colab import files\n",
    "files.download(\"dataset_final_convariablesdedias.csv\")"
   ]
  }
 ],
 "metadata": {
  "colab": {
   "authorship_tag": "ABX9TyOfffRtFIb4H8Gqj7k1FalR",
   "machine_shape": "hm",
   "provenance": []
  },
  "kernelspec": {
   "display_name": "Python 3",
   "name": "python3"
  },
  "language_info": {
   "name": "python"
  }
 },
 "nbformat": 4,
 "nbformat_minor": 0
}
