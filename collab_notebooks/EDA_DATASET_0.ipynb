{
 "cells": [
  {
   "cell_type": "code",
   "execution_count": null,
   "metadata": {
    "colab": {
     "base_uri": "https://localhost:8080/"
    },
    "executionInfo": {
     "elapsed": 22753,
     "status": "ok",
     "timestamp": 1745909041092,
     "user": {
      "displayName": "Luis Carlos Fernández San Martín",
      "userId": "17447517186582912809"
     },
     "user_tz": -120
    },
    "id": "a5PoVP-d7N9a",
    "outputId": "096d4b46-a452-44ac-ef68-86dcdf20f374"
   },
   "outputs": [],
   "source": [
    "from google.colab import drive\n",
    "drive.mount('/content/drive')"
   ]
  },
  {
   "cell_type": "code",
   "execution_count": null,
   "metadata": {
    "colab": {
     "base_uri": "https://localhost:8080/"
    },
    "executionInfo": {
     "elapsed": 164392,
     "status": "ok",
     "timestamp": 1745909205486,
     "user": {
      "displayName": "Luis Carlos Fernández San Martín",
      "userId": "17447517186582912809"
     },
     "user_tz": -120
    },
    "id": "l7sZBpXhQ5kt",
    "outputId": "e5e7158d-467a-4ff3-c02d-a249a5cf0af7"
   },
   "outputs": [],
   "source": [
    "import pandas as pd\n",
    "ruta_csv = \"/content/drive/MyDrive/3 - Master Computacion y Sistemas Inteligentes/PFM/Datasets/dataset_empresa_03_capacidad_buques.csv\"\n",
    "\n",
    "dtype_especifico = {\n",
    "    \"con_clave\": \"Int64\",\n",
    "    \"con_bacoope\": \"Int64\",\n",
    "    \"con_fecha\": \"str\",\n",
    "    \"con_tipo\": \"string\",\n",
    "    \"con_codigo\": \"string\",\n",
    "    \"con_naviera\": \"string\",\n",
    "    \"con_dni\": \"string\",\n",
    "    \"con_tipobillete\": \"string\",\n",
    "    \"con_cupon\": \"string\",\n",
    "    \"con_trayecto\": \"string\",\n",
    "    \"con_shortcomp\": \"string\",\n",
    "    \"con_dateticket\": \"str\",\n",
    "    \"con_acredita\": \"string\",\n",
    "    \"con_nombre\": \"string\",\n",
    "    \"con_intercambiable\": \"Int64\",\n",
    "    \"con_incidencia\": \"string\",\n",
    "    \"buq_nombre\": \"string\",\n",
    "    \"capacidad_pasajeros\": \"Int64\",\n",
    "    \"capacidad_vehiculos\": \"Int64\"\n",
    "}\n",
    "\n",
    "df = pd.read_csv(ruta_csv, dtype=dtype_especifico, low_memory=False)\n",
    "df[\"con_fecha\"] = pd.to_datetime(df[\"con_fecha\"], errors=\"coerce\")\n",
    "df[\"con_dateticket\"] = pd.to_datetime(df[\"con_dateticket\"], errors=\"coerce\")\n",
    "df.info()"
   ]
  },
  {
   "cell_type": "code",
   "execution_count": null,
   "metadata": {
    "colab": {
     "base_uri": "https://localhost:8080/",
     "height": 327
    },
    "executionInfo": {
     "elapsed": 38,
     "status": "ok",
     "timestamp": 1745909205526,
     "user": {
      "displayName": "Luis Carlos Fernández San Martín",
      "userId": "17447517186582912809"
     },
     "user_tz": -120
    },
    "id": "iPv4o_DdRyJB",
    "outputId": "36d9c26f-a15d-413c-92be-08bd7cfe36a8"
   },
   "outputs": [],
   "source": [
    "df.head()"
   ]
  },
  {
   "cell_type": "code",
   "execution_count": null,
   "metadata": {
    "colab": {
     "base_uri": "https://localhost:8080/",
     "height": 209
    },
    "executionInfo": {
     "elapsed": 915,
     "status": "ok",
     "timestamp": 1745909206978,
     "user": {
      "displayName": "Luis Carlos Fernández San Martín",
      "userId": "17447517186582912809"
     },
     "user_tz": -120
    },
    "id": "3YMHE2CyTL03",
    "outputId": "fee7c3c7-ef58-4c6b-9961-8b1b9534fed3"
   },
   "outputs": [],
   "source": [
    "num_valores_unicos = df[\"con_incidencia\"].nunique(dropna=False)\n",
    "\n",
    "valores_unicos = df[\"con_incidencia\"].unique()\n",
    "\n",
    "num_valores_unicos, valores_unicos\n",
    "df[\"con_incidencia\"].value_counts(dropna=False)"
   ]
  },
  {
   "cell_type": "code",
   "execution_count": null,
   "metadata": {
    "colab": {
     "base_uri": "https://localhost:8080/"
    },
    "executionInfo": {
     "elapsed": 197,
     "status": "ok",
     "timestamp": 1745909207251,
     "user": {
      "displayName": "Luis Carlos Fernández San Martín",
      "userId": "17447517186582912809"
     },
     "user_tz": -120
    },
    "id": "h6QydzeHWYxg",
    "outputId": "b8d8a20e-987b-4207-cb57-1accdd6fc101"
   },
   "outputs": [],
   "source": [
    "\n",
    "num_total_registros = df.shape[0]\n",
    "\n",
    "df_filtrado = df[df[\"con_incidencia\"] != \"DESEMBARCADO\"]\n",
    "\n",
    "num_registros_sin_desembarcado = df_filtrado.shape[0]\n",
    "\n",
    "print(f\"Total de registros en el dataset: {num_total_registros}\")\n",
    "print(f\"Total de registros sin 'DESEMBARCADO' en con_incidencia: {num_registros_sin_desembarcado}\")"
   ]
  },
  {
   "cell_type": "code",
   "execution_count": null,
   "metadata": {
    "colab": {
     "base_uri": "https://localhost:8080/",
     "height": 0
    },
    "executionInfo": {
     "elapsed": 2781,
     "status": "ok",
     "timestamp": 1745909210103,
     "user": {
      "displayName": "Luis Carlos Fernández San Martín",
      "userId": "17447517186582912809"
     },
     "user_tz": -120
    },
    "id": "ScSEw1sEYAwG",
    "outputId": "ee37aa1c-6b74-49cb-a33c-883a78356fd5"
   },
   "outputs": [],
   "source": [
    "\n",
    "df[\"con_desembarcado\"] = df[\"con_incidencia\"].fillna(\"\").eq(\"DESEMBARCADO\").astype(int)\n",
    "\n",
    "df.drop(columns=[\"con_incidencia\"], inplace=True)\n",
    "\n",
    "df.head()"
   ]
  },
  {
   "cell_type": "code",
   "execution_count": null,
   "metadata": {
    "colab": {
     "base_uri": "https://localhost:8080/",
     "height": 178
    },
    "executionInfo": {
     "elapsed": 79,
     "status": "ok",
     "timestamp": 1745909210183,
     "user": {
      "displayName": "Luis Carlos Fernández San Martín",
      "userId": "17447517186582912809"
     },
     "user_tz": -120
    },
    "id": "98AdrthdZsZ9",
    "outputId": "951c69a0-be61-4a1c-884b-a95e004a82e5"
   },
   "outputs": [],
   "source": [
    "\n",
    "num_valores_unicos = df[\"con_desembarcado\"].nunique(dropna=False)\n",
    "\n",
    "valores_unicos = df[\"con_desembarcado\"].unique()\n",
    "\n",
    "num_valores_unicos, valores_unicos\n",
    "\n",
    "df[\"con_desembarcado\"].value_counts(dropna=False)"
   ]
  },
  {
   "cell_type": "code",
   "execution_count": null,
   "metadata": {
    "executionInfo": {
     "elapsed": 2789,
     "status": "ok",
     "timestamp": 1745909212973,
     "user": {
      "displayName": "Luis Carlos Fernández San Martín",
      "userId": "17447517186582912809"
     },
     "user_tz": -120
    },
    "id": "jLlT9eHmHQv2"
   },
   "outputs": [],
   "source": [
    "\n",
    "df = df.query(\"con_desembarcado != 1\")"
   ]
  },
  {
   "cell_type": "code",
   "execution_count": null,
   "metadata": {
    "colab": {
     "base_uri": "https://localhost:8080/",
     "height": 0
    },
    "executionInfo": {
     "elapsed": 1859,
     "status": "ok",
     "timestamp": 1745909214833,
     "user": {
      "displayName": "Luis Carlos Fernández San Martín",
      "userId": "17447517186582912809"
     },
     "user_tz": -120
    },
    "id": "TWolCoAAbX0F",
    "outputId": "31b47e0c-2dba-43f5-949f-2a193f217641"
   },
   "outputs": [],
   "source": [
    "\n",
    "df[\"anio_embarque\"] = df[\"con_fecha\"].dt.year\n",
    "\n",
    "df_desglose = df.groupby(\"anio_embarque\").agg(\n",
    "    total_pasajeros = (\"con_tipobillete\", lambda x: x.isin(['1', '2', '3']).sum()),\n",
    "    total_vehiculos = (\"con_tipobillete\", lambda x: x.isin(['0', '5', '6', '7', '8', '9']).sum()),\n",
    "    total_mascotas = (\"con_tipobillete\", lambda x: x.isin(['M']).sum()),\n",
    "    total_chofers = (\"con_tipobillete\", lambda x: x.isin(['4']).sum())\n",
    ").reset_index()\n",
    "\n",
    "display(df_desglose)"
   ]
  },
  {
   "cell_type": "code",
   "execution_count": null,
   "metadata": {
    "colab": {
     "base_uri": "https://localhost:8080/"
    },
    "executionInfo": {
     "elapsed": 3238,
     "status": "ok",
     "timestamp": 1745909218146,
     "user": {
      "displayName": "Luis Carlos Fernández San Martín",
      "userId": "17447517186582912809"
     },
     "user_tz": -120
    },
    "id": "iZumZc-Bcqyv",
    "outputId": "c71a50c4-dcb9-4800-8174-331f94192438"
   },
   "outputs": [],
   "source": [
    "\n",
    "df = df[~df[\"con_tipobillete\"].isin([\"4\", \"M\"])]\n",
    "print(\"Distribucion de con_tipobillete despues de eliminar '4' y 'M':\")\n",
    "print(df[\"con_tipobillete\"].value_counts())"
   ]
  },
  {
   "cell_type": "code",
   "execution_count": null,
   "metadata": {
    "colab": {
     "base_uri": "https://localhost:8080/",
     "height": 143
    },
    "executionInfo": {
     "elapsed": 1721,
     "status": "ok",
     "timestamp": 1745909219869,
     "user": {
      "displayName": "Luis Carlos Fernández San Martín",
      "userId": "17447517186582912809"
     },
     "user_tz": -120
    },
    "id": "h7w0qmDPdhWu",
    "outputId": "5081814a-55a2-48f9-a1c0-08cce3965c96"
   },
   "outputs": [],
   "source": [
    "\n",
    "df[\"anio\"] = df[\"con_fecha\"].dt.year\n",
    "\n",
    "df_desglose = df.groupby(\"anio\").agg(\n",
    "    total_pasajeros = (\"con_tipobillete\", lambda x: x.isin(['1', '2', '3']).sum()),\n",
    "    total_vehiculos = (\"con_tipobillete\", lambda x: x.isin(['0', '5', '6', '7', '8', '9']).sum()),\n",
    "    total_mascotas = (\"con_tipobillete\", lambda x: x.isin(['M']).sum()),\n",
    "    total_chofers = (\"con_tipobillete\", lambda x: x.isin(['4']).sum())\n",
    ").reset_index()\n",
    "display(df_desglose)"
   ]
  },
  {
   "cell_type": "code",
   "execution_count": null,
   "metadata": {
    "colab": {
     "base_uri": "https://localhost:8080/"
    },
    "executionInfo": {
     "elapsed": 8,
     "status": "ok",
     "timestamp": 1745909219878,
     "user": {
      "displayName": "Luis Carlos Fernández San Martín",
      "userId": "17447517186582912809"
     },
     "user_tz": -120
    },
    "id": "HaB_b6TitXwz",
    "outputId": "5cbf8438-a18d-4999-d505-ee19900729f3"
   },
   "outputs": [],
   "source": [
    "\n",
    "num_total_registros = df.shape[0]\n",
    "print(f\"Total de registros en el dataset: {num_total_registros}\")"
   ]
  },
  {
   "cell_type": "code",
   "execution_count": null,
   "metadata": {
    "colab": {
     "base_uri": "https://localhost:8080/",
     "height": 0
    },
    "executionInfo": {
     "elapsed": 836,
     "status": "ok",
     "timestamp": 1745909220717,
     "user": {
      "displayName": "Luis Carlos Fernández San Martín",
      "userId": "17447517186582912809"
     },
     "user_tz": -120
    },
    "id": "YwnrMyV9iPp-",
    "outputId": "7ef61047-af09-41f8-ebbd-dbdcf533300b"
   },
   "outputs": [],
   "source": [
    "\n",
    "df_billetes = df.groupby([df[\"con_fecha\"].dt.year, \"con_tipobillete\"]).size().unstack(fill_value=0).reset_index()\n",
    "\n",
    "df_billetes.columns.name = None  \n",
    "df_billetes.rename(columns={\n",
    "    \"0\": \"total_vehiculos_0\",\n",
    "    \"1\": \"total_pasajeros_1\",\n",
    "    \"2\": \"total_pasajeros_2\",\n",
    "    \"3\": \"total_pasajeros_3\",\n",
    "    \"4\": \"total_chofers\",\n",
    "    \"5\": \"total_vehiculos_5\",\n",
    "    \"6\": \"total_vehiculos_6\",\n",
    "    \"7\": \"total_vehiculos_7\",\n",
    "    \"8\": \"total_vehiculos_8\",\n",
    "    \"9\": \"total_vehiculos_9\",\n",
    "    \"M\": \"total_mascotas\"\n",
    "}, inplace=True)\n",
    "\n",
    "display(df_billetes)"
   ]
  },
  {
   "cell_type": "code",
   "execution_count": null,
   "metadata": {
    "colab": {
     "base_uri": "https://localhost:8080/",
     "height": 143
    },
    "executionInfo": {
     "elapsed": 2259,
     "status": "ok",
     "timestamp": 1745909222979,
     "user": {
      "displayName": "Luis Carlos Fernández San Martín",
      "userId": "17447517186582912809"
     },
     "user_tz": -120
    },
    "id": "qTxE5JurnH7q",
    "outputId": "01341ba9-f770-42f9-c793-5cc46ba0b0c7"
   },
   "outputs": [],
   "source": [
    "\n",
    "df_billetes = df.pivot_table(index=df[\"con_fecha\"].dt.year,\n",
    "                             columns=\"con_tipobillete\",\n",
    "                             aggfunc=\"size\",\n",
    "                             fill_value=0).reset_index()\n",
    "\n",
    "\n",
    "df_billetes.columns.name = None  \n",
    "\n",
    "nombres_columnas = {\n",
    "    \"0\": \"total_vehiculos_0\",\n",
    "    \"1\": \"total_pasajeros_1\",\n",
    "    \"2\": \"total_pasajeros_2\",\n",
    "    \"3\": \"total_pasajeros_3\",\n",
    "    \"4\": \"total_chofers\",\n",
    "    \"5\": \"total_vehiculos_5\",\n",
    "    \"6\": \"total_vehiculos_6\",\n",
    "    \"7\": \"total_vehiculos_7\",\n",
    "    \"8\": \"total_vehiculos_8\",\n",
    "    \"9\": \"total_vehiculos_9\",\n",
    "    \"M\": \"total_mascotas\"\n",
    "}\n",
    "\n",
    "\n",
    "df_billetes.rename(columns={k: v for k, v in nombres_columnas.items() if k in df_billetes.columns}, inplace=True)\n",
    "\n",
    "\n",
    "columnas_billetes = [col for col in df_billetes.columns if col.startswith(\"total_vehiculos_\") or\n",
    "                      col.startswith(\"total_pasajeros_\") or col.startswith(\"total_chofers\") or\n",
    "                      col.startswith(\"total_mascotas\")]\n",
    "\n",
    "\n",
    "df_billetes[\"total_pasajeros\"] = df_billetes[[col for col in columnas_billetes if col.startswith(\"total_pasajeros_\")]].sum(axis=1)\n",
    "df_billetes[\"total_vehiculos\"] = df_billetes[[col for col in columnas_billetes if col.startswith(\"total_vehiculos_\")]].sum(axis=1)\n",
    "\n",
    "df_billetes[\"total_anual\"] = df_billetes[columnas_billetes].sum(axis=1)\n",
    "\n",
    "display(df_billetes)\n"
   ]
  },
  {
   "cell_type": "code",
   "execution_count": null,
   "metadata": {
    "colab": {
     "base_uri": "https://localhost:8080/",
     "height": 1000
    },
    "executionInfo": {
     "elapsed": 6,
     "status": "ok",
     "timestamp": 1745909222986,
     "user": {
      "displayName": "Luis Carlos Fernández San Martín",
      "userId": "17447517186582912809"
     },
     "user_tz": -120
    },
    "id": "DrLrHfZbqkQh",
    "outputId": "5a8389af-c26a-42b5-fd9d-eaf8f642b132"
   },
   "outputs": [],
   "source": [
    "\n",
    "columnas_df = df.columns.tolist()\n",
    "\n",
    "num_total_registros = df.shape[0]\n",
    "\n",
    "print(f\"Total de registros en el dataset: {num_total_registros}\")\n",
    "print(f\"Columnas del dataset: {columnas_df}\")\n",
    "display(df.head())\n",
    "df.info()\n"
   ]
  },
  {
   "cell_type": "code",
   "execution_count": null,
   "metadata": {
    "colab": {
     "base_uri": "https://localhost:8080/"
    },
    "executionInfo": {
     "elapsed": 11,
     "status": "ok",
     "timestamp": 1745909222998,
     "user": {
      "displayName": "Luis Carlos Fernández San Martín",
      "userId": "17447517186582912809"
     },
     "user_tz": -120
    },
    "id": "tO3i_4APv045",
    "outputId": "04c1707f-b5c6-460a-aea0-58e9ae89db1e"
   },
   "outputs": [],
   "source": [
    "\n",
    "conteo_intercambiable = df[\"con_intercambiable\"].value_counts()\n",
    "\n",
    "conteo_desembarcado = df[\"con_desembarcado\"].value_counts()\n",
    "print(\"Conteo de registros en 'con_intercambiable':\")\n",
    "print(conteo_intercambiable)\n",
    "print(\"Conteo de registros en 'con_desembarcado':\")\n",
    "print(conteo_desembarcado)"
   ]
  },
  {
   "cell_type": "markdown",
   "metadata": {
    "id": "lr9dbX4fCHwV"
   },
   "source": [
    "## **A partir de aqui elimino los registros de desembarcados**"
   ]
  },
  {
   "cell_type": "code",
   "execution_count": null,
   "metadata": {
    "colab": {
     "base_uri": "https://localhost:8080/"
    },
    "executionInfo": {
     "elapsed": 4331,
     "status": "ok",
     "timestamp": 1745909227330,
     "user": {
      "displayName": "Luis Carlos Fernández San Martín",
      "userId": "17447517186582912809"
     },
     "user_tz": -120
    },
    "id": "c7rbUnCy-JTo",
    "outputId": "2524438a-5a80-447e-ca10-cf08c714a594"
   },
   "outputs": [],
   "source": [
    "\n",
    "if 'con_desembarcado' in df.columns:\n",
    " \n",
    "    df = df[df['con_desembarcado'] != 1]\n",
    "   \n",
    "    df = df.drop(columns=['con_desembarcado'])\n",
    "print(f\"Total de registros después de la limpieza: {df.shape[0]}\")"
   ]
  },
  {
   "cell_type": "code",
   "execution_count": null,
   "metadata": {
    "colab": {
     "base_uri": "https://localhost:8080/",
     "height": 809
    },
    "executionInfo": {
     "elapsed": 9902,
     "status": "ok",
     "timestamp": 1745909237250,
     "user": {
      "displayName": "Luis Carlos Fernández San Martín",
      "userId": "17447517186582912809"
     },
     "user_tz": -120
    },
    "id": "dHeRhJfn2__p",
    "outputId": "381cc242-8faa-4b56-f659-7d32c1a8f707"
   },
   "outputs": [],
   "source": [
    "\n",
    "duplicados = df[df.duplicated(subset=['con_codigo', 'con_cupon', 'con_tipobillete'], keep=False)]\n",
    "\n",
    "num_duplicados = duplicados.shape[0]\n",
    "from IPython.display import display\n",
    "\n",
    "print(f\"Se encontraron {num_duplicados} registros duplicados en la combinacion de con_codigo, con_cupon y con_tipobillete.\")\n",
    "\n",
    "if not duplicados.empty:\n",
    "    display(duplicados)\n",
    "else:\n",
    "    print(\"No se encontraron registros duplicados.\")"
   ]
  },
  {
   "cell_type": "code",
   "execution_count": null,
   "metadata": {
    "executionInfo": {
     "elapsed": 11854,
     "status": "ok",
     "timestamp": 1745909249113,
     "user": {
      "displayName": "Luis Carlos Fernández San Martín",
      "userId": "17447517186582912809"
     },
     "user_tz": -120
    },
    "id": "7tg9yxySIyoW"
   },
   "outputs": [],
   "source": [
    "\n",
    "df = df.drop_duplicates(subset=['con_codigo', 'con_cupon', 'con_tipobillete'], keep='last')"
   ]
  },
  {
   "cell_type": "code",
   "execution_count": null,
   "metadata": {
    "colab": {
     "base_uri": "https://localhost:8080/"
    },
    "executionInfo": {
     "elapsed": 10459,
     "status": "ok",
     "timestamp": 1745909259573,
     "user": {
      "displayName": "Luis Carlos Fernández San Martín",
      "userId": "17447517186582912809"
     },
     "user_tz": -120
    },
    "id": "J9Mx1sMKKeEc",
    "outputId": "fd4437b9-6d10-4ea4-d283-54d6b023ea10"
   },
   "outputs": [],
   "source": [
    "\n",
    "duplicados = df[df.duplicated(subset=['con_codigo', 'con_cupon', 'con_tipobillete'], keep=False)]\n",
    "\n",
    "num_duplicados = duplicados.shape[0]\n",
    "from IPython.display import display\n",
    "\n",
    "print(f\"Se encontraron {num_duplicados} registros duplicados en la combinacion de con_codigo, con_cupon y con_tipobillete.\")\n",
    "\n",
    "if not duplicados.empty:\n",
    "    display(duplicados)\n",
    "else:\n",
    "    print(\"No se encontraron registros duplicados.\")"
   ]
  },
  {
   "cell_type": "code",
   "execution_count": null,
   "metadata": {
    "colab": {
     "base_uri": "https://localhost:8080/"
    },
    "executionInfo": {
     "elapsed": 7,
     "status": "ok",
     "timestamp": 1745909259795,
     "user": {
      "displayName": "Luis Carlos Fernández San Martín",
      "userId": "17447517186582912809"
     },
     "user_tz": -120
    },
    "id": "6LihMD2GFsiY",
    "outputId": "38119cef-b5ec-410f-ae1c-ecd7e9a6a083"
   },
   "outputs": [],
   "source": [
    "\n",
    "valores_validos = {'0', '1', '2', '3', '4', '5', '6', '7', '8', '9', 'M'}\n",
    "\n",
    "valores_invalidos = df[~df['con_tipobillete'].astype(str).isin(valores_validos)]\n",
    "\n",
    "num_invalidos = valores_invalidos.shape[0]\n",
    "from IPython.display import display\n",
    "print(f\"Se encontraron {num_invalidos} registros con valores invalidos en con_tipobillete.\")\n",
    "\n",
    "if not valores_invalidos.empty:\n",
    "    display(valores_invalidos)\n",
    "else:\n",
    "    print(\"Todos los valores de con_tipobillete son validos.\")"
   ]
  },
  {
   "cell_type": "code",
   "execution_count": null,
   "metadata": {
    "colab": {
     "base_uri": "https://localhost:8080/"
    },
    "executionInfo": {
     "elapsed": 2712,
     "status": "ok",
     "timestamp": 1745909262512,
     "user": {
      "displayName": "Luis Carlos Fernández San Martín",
      "userId": "17447517186582912809"
     },
     "user_tz": -120
    },
    "id": "LT5-5NutIL3Y",
    "outputId": "6d06bd16-c762-4d7f-980a-fa457be281c9"
   },
   "outputs": [],
   "source": [
    "\n",
    "columnas_a_verificar = ['con_clave', 'con_bacoope', 'con_fecha', 'con_tipo', 'con_codigo',\n",
    "                        'con_naviera', 'con_tipobillete', 'con_cupon', 'con_trayecto',\n",
    "                        'con_shortcomp', 'con_dateticket']\n",
    "\n",
    "valores_vacios = df[columnas_a_verificar].isnull().sum()\n",
    "\n",
    "valores_vacios = valores_vacios[valores_vacios > 0]\n",
    "from IPython.display import display\n",
    "\n",
    "if not valores_vacios.empty:\n",
    "    print(\"Se encontraron valores vacios en las siguientes columnas:\")\n",
    "    display(valores_vacios)\n",
    "else:\n",
    "    print(\"No hay valores vacios en las columnas seleccionadas.\")"
   ]
  },
  {
   "cell_type": "code",
   "execution_count": null,
   "metadata": {
    "colab": {
     "base_uri": "https://localhost:8080/"
    },
    "executionInfo": {
     "elapsed": 6,
     "status": "ok",
     "timestamp": 1745909262521,
     "user": {
      "displayName": "Luis Carlos Fernández San Martín",
      "userId": "17447517186582912809"
     },
     "user_tz": -120
    },
    "id": "9bolClhyLMxN",
    "outputId": "4f3f254c-0493-4ddb-a17c-57f2ba9ef79c"
   },
   "outputs": [],
   "source": [
    "\n",
    "tipos_fechas = df[[\"con_fecha\", \"con_dateticket\"]].dtypes\n",
    "print(\"Tipos de datos de las columnas con fechas:\")\n",
    "print(tipos_fechas)\n"
   ]
  },
  {
   "cell_type": "code",
   "execution_count": null,
   "metadata": {
    "colab": {
     "base_uri": "https://localhost:8080/",
     "height": 363
    },
    "executionInfo": {
     "elapsed": 3111,
     "status": "ok",
     "timestamp": 1745909265632,
     "user": {
      "displayName": "Luis Carlos Fernández San Martín",
      "userId": "17447517186582912809"
     },
     "user_tz": -120
    },
    "id": "qMaq9XOsfHkM",
    "outputId": "8ba79019-2f53-4249-c8c2-af83e13ae222"
   },
   "outputs": [],
   "source": [
    "\n",
    "df[\"con_fecha\"] = pd.to_datetime(df[\"con_fecha\"], errors=\"coerce\")\n",
    "df[\"con_dateticket\"] = pd.to_datetime(df[\"con_dateticket\"], errors=\"coerce\")\n",
    "\n",
    "df[\"diferencia_min\"] = (df[\"con_fecha\"] - df[\"con_dateticket\"]).dt.total_seconds() / 60\n",
    "\n",
    "df.drop(columns=[\"diferencia_tiempo_hhmm\"], errors=\"ignore\", inplace=True)\n",
    "\n",
    "df_resultado = df[[\"con_fecha\", \"con_dateticket\", \"diferencia_min\"]]\n",
    "display(df_resultado.head(10))"
   ]
  },
  {
   "cell_type": "code",
   "execution_count": null,
   "metadata": {
    "colab": {
     "base_uri": "https://localhost:8080/",
     "height": 842
    },
    "executionInfo": {
     "elapsed": 45,
     "status": "ok",
     "timestamp": 1745909265682,
     "user": {
      "displayName": "Luis Carlos Fernández San Martín",
      "userId": "17447517186582912809"
     },
     "user_tz": -120
    },
    "id": "qq9OnHgpfh1J",
    "outputId": "51449d73-d591-4864-ef75-ef8dcde75b25"
   },
   "outputs": [],
   "source": [
    "\n",
    "df.head(100)"
   ]
  },
  {
   "cell_type": "code",
   "execution_count": null,
   "metadata": {
    "colab": {
     "base_uri": "https://localhost:8080/"
    },
    "executionInfo": {
     "elapsed": 5,
     "status": "ok",
     "timestamp": 1745909265689,
     "user": {
      "displayName": "Luis Carlos Fernández San Martín",
      "userId": "17447517186582912809"
     },
     "user_tz": -120
    },
    "id": "y59DAR8QiC0B",
    "outputId": "45058abb-c634-4b41-90df-4e769d533c20"
   },
   "outputs": [],
   "source": [
    "\n",
    "num_total_registros = df.shape[0]\n",
    "print(f\"Total de registros en el dataset: {num_total_registros}\")"
   ]
  },
  {
   "cell_type": "code",
   "execution_count": null,
   "metadata": {
    "colab": {
     "base_uri": "https://localhost:8080/"
    },
    "executionInfo": {
     "elapsed": 11,
     "status": "ok",
     "timestamp": 1745909265700,
     "user": {
      "displayName": "Luis Carlos Fernández San Martín",
      "userId": "17447517186582912809"
     },
     "user_tz": -120
    },
    "id": "zW2SJR-mhS4L",
    "outputId": "e11964bf-f803-4af4-b243-e6274f748e84"
   },
   "outputs": [],
   "source": [
    "\n",
    "total_antes = (df[\"diferencia_min\"] < 0).sum()  \n",
    "total_despues = (df[\"diferencia_min\"] > 0).sum() \n",
    "total_exacto = (df[\"diferencia_min\"] == 0).sum() \n",
    "print(f\"Total de lecturas ANTES de la hora de zarpado: {total_antes}\")\n",
    "print(f\"Total de lecturas DESPUES de la hora de zarpado: {total_despues}\")\n",
    "print(f\"Total de lecturas EXACTAMENTE a la hora de zarpado: {total_exacto}\")"
   ]
  },
  {
   "cell_type": "code",
   "execution_count": null,
   "metadata": {
    "colab": {
     "base_uri": "https://localhost:8080/"
    },
    "executionInfo": {
     "elapsed": 336,
     "status": "ok",
     "timestamp": 1745909266054,
     "user": {
      "displayName": "Luis Carlos Fernández San Martín",
      "userId": "17447517186582912809"
     },
     "user_tz": -120
    },
    "id": "5X2_0kb9wgB6",
    "outputId": "98ef4e0a-40eb-469e-8fce-c91eb6563d29"
   },
   "outputs": [],
   "source": [
    "if hasattr(df[\"con_fecha\"].dt, \"tz\"):\n",
    "    print(\"\\nZona horaria detectada en 'con_fecha':\", df[\"con_fecha\"].dt.tz)\n",
    "    print(\"Zona horaria detectada en 'con_dateticket':\", df[\"con_dateticket\"].dt.tz)\n",
    "else:\n",
    "    print(\"\\nLas columnas de fecha no tienen zona horaria asignada.\")\n",
    "\n",
    "fecha_min = df[[\"con_fecha\", \"con_dateticket\"]].min().min()\n",
    "fecha_max = df[[\"con_fecha\", \"con_dateticket\"]].max().max()\n",
    "\n",
    "fecha_limite_min = pd.Timestamp(\"2000-01-01\")\n",
    "fecha_limite_max = pd.Timestamp(\"2050-12-31\")\n",
    "\n",
    "fechas_fuera_rango = df[\n",
    "    (df[\"con_fecha\"] < fecha_limite_min) | (df[\"con_fecha\"] > fecha_limite_max) |\n",
    "    (df[\"con_dateticket\"] < fecha_limite_min) | (df[\"con_dateticket\"] > fecha_limite_max)\n",
    "]\n",
    "print(f\"\\nFecha minima detectada: {fecha_min}\")\n",
    "print(f\"Fecha maxima detectada: {fecha_max}\")\n",
    "print(f\"\\nTotal de registros con fechas fuera del rango esperado: {len(fechas_fuera_rango)}\")\n",
    "\n",
    "if not fechas_fuera_rango.empty:\n",
    "    from IPython.display import display\n",
    "    display(fechas_fuera_rango.head(10))"
   ]
  },
  {
   "cell_type": "code",
   "execution_count": null,
   "metadata": {
    "colab": {
     "base_uri": "https://localhost:8080/"
    },
    "executionInfo": {
     "elapsed": 2589,
     "status": "ok",
     "timestamp": 1745909268644,
     "user": {
      "displayName": "Luis Carlos Fernández San Martín",
      "userId": "17447517186582912809"
     },
     "user_tz": -120
    },
    "id": "gulO1OY4y_rO",
    "outputId": "b215c6e3-d3f6-477a-acf5-cb27bdd370b6"
   },
   "outputs": [],
   "source": [
    "\n",
    "columnas_categoricas = [\"con_naviera\", \"con_trayecto\", \"con_tipo\", \"con_shortcomp\"]\n",
    "for col in columnas_categoricas:\n",
    "    valores_unicos = df[col].dropna().unique()\n",
    "    print(f\"\\nValores únicos en '{col}':\")\n",
    "    print(valores_unicos)"
   ]
  },
  {
   "cell_type": "markdown",
   "metadata": {
    "id": "f2Jo1UDIoaxi"
   },
   "source": [
    "# Creo una copia del dataset original para seguir trabajando desde este punto"
   ]
  },
  {
   "cell_type": "code",
   "execution_count": null,
   "metadata": {
    "executionInfo": {
     "elapsed": 2193,
     "status": "ok",
     "timestamp": 1745909270838,
     "user": {
      "displayName": "Luis Carlos Fernández San Martín",
      "userId": "17447517186582912809"
     },
     "user_tz": -120
    },
    "id": "E8IcmFz-zKue"
   },
   "outputs": [],
   "source": [
    "import pandas as pd\n",
    "\n",
    "df_copy = df.copy()"
   ]
  },
  {
   "cell_type": "code",
   "execution_count": null,
   "metadata": {
    "executionInfo": {
     "elapsed": 9065,
     "status": "ok",
     "timestamp": 1745909280137,
     "user": {
      "displayName": "Luis Carlos Fernández San Martín",
      "userId": "17447517186582912809"
     },
     "user_tz": -120
    },
    "id": "1RdoukZUzE7Q"
   },
   "outputs": [],
   "source": [
    "\n",
    "df_copy.loc[df_copy['buq_nombre'] == \"AL ANDALUS EXPRESS\", 'capacidad_pasajeros'] = 215\n",
    "\n",
    "df_copy.loc[df_copy['buq_nombre'] == \"AL ANDALUS EXPRESS\", 'capacidad_vehiculos'] = 150\n",
    "\n",
    "df_copy.loc[df_copy['buq_nombre'] == \"CECILIA PAYNE\", 'capacidad_pasajeros'] = 800\n",
    "df_copy.loc[df_copy['buq_nombre'] == \"CECILIA PAYNE\", 'capacidad_vehiculos'] = 200\n",
    "\n",
    "df_copy.loc[df_copy['buq_nombre'] == \"HELLENIC HIGHSPEED\", 'capacidad_pasajeros'] = 727\n",
    "df_copy.loc[df_copy['buq_nombre'] == \"HELLENIC HIGHSPEED\", 'capacidad_vehiculos'] = 175\n",
    "\n",
    "df_copy.loc[df_copy['buq_nombre'] == \"JAUME I\", 'capacidad_pasajeros'] = 655\n",
    "df_copy.loc[df_copy['buq_nombre'] == \"JAUME I\", 'capacidad_vehiculos'] = 144\n",
    "\n",
    "df_copy.loc[df_copy['buq_nombre'] == \"KATTEGAT\", 'capacidad_pasajeros'] = 974\n",
    "df_copy.loc[df_copy['buq_nombre'] == \"KATTEGAT\", 'capacidad_vehiculos'] = 344\n",
    "\n",
    "df_copy.loc[df_copy['buq_nombre'] == \"LEVANTE JET\", 'capacidad_pasajeros'] = 675\n",
    "df_copy.loc[df_copy['buq_nombre'] == \"LEVANTE JET\", 'capacidad_vehiculos'] = 151\n",
    "\n",
    "df_copy.loc[df_copy['buq_nombre'] == \"NISSOS CHIOS\", 'capacidad_pasajeros'] = 1750\n",
    "df_copy.loc[df_copy['buq_nombre'] == \"NISSOS CHIOS\", 'capacidad_vehiculos'] = 425\n",
    "\n",
    "df_copy.loc[df_copy['buq_nombre'] == \"PATRIA SEAWAYS\", 'capacidad_pasajeros'] = 260\n",
    "df_copy.loc[df_copy['buq_nombre'] == \"PATRIA SEAWAYS\", 'capacidad_vehiculos'] = 480\n",
    "\n",
    "df_copy.loc[df_copy['buq_nombre'] == \"STENA EUROPE\", 'capacidad_pasajeros'] = 1386\n",
    "df_copy.loc[df_copy['buq_nombre'] == \"STENA EUROPE\", 'capacidad_vehiculos'] = 564\n",
    "\n",
    "df_copy.loc[df_copy['buq_nombre'] == \"TARIFA JET\", 'capacidad_pasajeros'] = 800\n",
    "df_copy.loc[df_copy['buq_nombre'] == \"TARIFA JET\", 'capacidad_vehiculos'] = 175\n",
    "\n",
    "df_copy.loc[df_copy['buq_nombre'] == \"VOLCAN DE TAMASITE\", 'capacidad_pasajeros'] = 1500\n",
    "df_copy.loc[df_copy['buq_nombre'] == \"VOLCAN DE TAMASITE\", 'capacidad_vehiculos'] = 300\n",
    "\n",
    "df_copy.loc[df_copy['buq_nombre'] == \"VOLCAN DE TAUCE\", 'capacidad_pasajeros'] = 347\n",
    "df_copy.loc[df_copy['buq_nombre'] == \"VOLCAN DE TAUCE\", 'capacidad_vehiculos'] = 320\n",
    "\n",
    "df_copy.loc[df_copy['buq_nombre'] == \"WASA EXPRESS\", 'capacidad_pasajeros'] = 1500\n",
    "df_copy.loc[df_copy['buq_nombre'] == \"WASA EXPRESS\", 'capacidad_vehiculos'] = 450"
   ]
  },
  {
   "cell_type": "code",
   "execution_count": null,
   "metadata": {
    "colab": {
     "base_uri": "https://localhost:8080/",
     "height": 0
    },
    "executionInfo": {
     "elapsed": 37107,
     "status": "ok",
     "timestamp": 1745909317247,
     "user": {
      "displayName": "Luis Carlos Fernández San Martín",
      "userId": "17447517186582912809"
     },
     "user_tz": -120
    },
    "id": "YeLpQQ7Pmedz",
    "outputId": "7c38c234-90ba-4a39-c839-5d71f15a14ae"
   },
   "outputs": [],
   "source": [
    "\n",
    "tipos_pasajeros = ['1', '2', '3']\n",
    "tipos_vehiculos = ['0', '5', '6', '7', '8', '9']\n",
    "\n",
    "totales = df_copy.groupby('con_bacoope').apply(lambda grupo: pd.Series({\n",
    "    'total_pasajeros': grupo['con_tipobillete'].isin(tipos_pasajeros).sum(),\n",
    "    'total_vehiculos': grupo['con_tipobillete'].isin(tipos_vehiculos).sum()\n",
    "})).reset_index()\n",
    "\n",
    "df_copy = pd.merge(df_copy, totales, on='con_bacoope', how='left')\n",
    "\n",
    "df_copy['porc_ocupacion_pasajeros'] = (df_copy['total_pasajeros'] / df_copy['capacidad_pasajeros']) * 100\n",
    "df_copy['porc_ocupacion_vehiculos'] = (df_copy['total_vehiculos'] / df_copy['capacidad_vehiculos']) * 100\n",
    "\n",
    "df_copy.head(100)\n"
   ]
  },
  {
   "cell_type": "code",
   "execution_count": null,
   "metadata": {
    "colab": {
     "base_uri": "https://localhost:8080/"
    },
    "executionInfo": {
     "elapsed": 910,
     "status": "ok",
     "timestamp": 1745909318156,
     "user": {
      "displayName": "Luis Carlos Fernández San Martín",
      "userId": "17447517186582912809"
     },
     "user_tz": -120
    },
    "id": "sq8iy2__x47I",
    "outputId": "c04b1f5b-5e4f-406e-aeef-57ce6d403241"
   },
   "outputs": [],
   "source": [
    "\n",
    "buques_capacidades = df_copy.groupby(\"buq_nombre\")[[\"capacidad_pasajeros\", \"capacidad_vehiculos\"]].max()\n",
    "print(\"Capacidad de cada buque (pasajeros y vehiculos):\")\n",
    "print(buques_capacidades)"
   ]
  },
  {
   "cell_type": "code",
   "execution_count": null,
   "metadata": {
    "colab": {
     "base_uri": "https://localhost:8080/",
     "height": 0
    },
    "executionInfo": {
     "elapsed": 912,
     "status": "ok",
     "timestamp": 1745909319074,
     "user": {
      "displayName": "Luis Carlos Fernández San Martín",
      "userId": "17447517186582912809"
     },
     "user_tz": -120
    },
    "id": "vu5xpGzAK0bf",
    "outputId": "d540011c-79a0-4b39-a062-8998992bd068"
   },
   "outputs": [],
   "source": [
    "import pandas as pd\n",
    "\n",
    "resumen_operativas = df_copy.groupby(['con_bacoope', 'buq_nombre']).agg({\n",
    "    'porc_ocupacion_pasajeros': 'max',\n",
    "    'porc_ocupacion_vehiculos': 'max'\n",
    "}).reset_index()\n",
    "\n",
    "operativas_sobre_pasajeros = resumen_operativas[resumen_operativas['porc_ocupacion_pasajeros'] > 100].copy()\n",
    "operativas_sobre_vehiculos = resumen_operativas[resumen_operativas['porc_ocupacion_vehiculos'] > 100].copy()\n",
    "\n",
    "operativas_sobre_pasajeros['exceso_pasajeros'] = (operativas_sobre_pasajeros['porc_ocupacion_pasajeros'] - 100).round(1)\n",
    "operativas_sobre_vehiculos['exceso_vehiculos'] = (operativas_sobre_vehiculos['porc_ocupacion_vehiculos'] - 100).round(1)\n",
    "\n",
    "summary_pasajeros = operativas_sobre_pasajeros.groupby('buq_nombre').agg(\n",
    "    operativas_sobre100_pasajeros=('con_bacoope', lambda x: list(x)),\n",
    "    count_operativas_pasajeros=('con_bacoope', 'nunique'),\n",
    "    exceso_pasajeros=('exceso_pasajeros', lambda x: [f\"{round(v, 1)}%\" for v in list(x)])\n",
    ").reset_index()\n",
    "\n",
    "summary_vehiculos = operativas_sobre_vehiculos.groupby('buq_nombre').agg(\n",
    "    operativas_sobre100_vehiculos=('con_bacoope', lambda x: list(x)),\n",
    "    count_operativas_vehiculos=('con_bacoope', 'nunique'),\n",
    "    exceso_vehiculos=('exceso_vehiculos', lambda x: [f\"{round(v, 1)}%\" for v in list(x)])\n",
    ").reset_index()\n",
    "\n",
    "summary_total = pd.merge(summary_pasajeros, summary_vehiculos, on='buq_nombre', how='outer')\n",
    "\n",
    "summary_total['count_operativas_pasajeros'] = summary_total['count_operativas_pasajeros'].fillna(0)\n",
    "summary_total['count_operativas_vehiculos'] = summary_total['count_operativas_vehiculos'].fillna(0)\n",
    "summary_total['operativas_sobre100_pasajeros'] = summary_total['operativas_sobre100_pasajeros'].apply(lambda x: x if isinstance(x, list) else [])\n",
    "summary_total['operativas_sobre100_vehiculos'] = summary_total['operativas_sobre100_vehiculos'].apply(lambda x: x if isinstance(x, list) else [])\n",
    "summary_total['exceso_pasajeros'] = summary_total['exceso_pasajeros'].apply(lambda x: x if isinstance(x, list) else [])\n",
    "summary_total['exceso_vehiculos'] = summary_total['exceso_vehiculos'].apply(lambda x: x if isinstance(x, list) else [])\n",
    "\n",
    "print(\"Resumen de operativas por buque que superan la capacidad y el exceso de ocupacion (redondeado a 1 decimal y con '%'):\")\n",
    "display(summary_total)"
   ]
  },
  {
   "cell_type": "code",
   "execution_count": null,
   "metadata": {
    "colab": {
     "base_uri": "https://localhost:8080/",
     "height": 335
    },
    "executionInfo": {
     "elapsed": 601,
     "status": "ok",
     "timestamp": 1745909319675,
     "user": {
      "displayName": "Luis Carlos Fernández San Martín",
      "userId": "17447517186582912809"
     },
     "user_tz": -120
    },
    "id": "V14sE7j_-_0r",
    "outputId": "73559abc-41eb-48ea-fd53-3fdbad3b930f"
   },
   "outputs": [],
   "source": [
    "\n",
    "df_copy[\"con_fecha\"] = pd.to_datetime(df_copy[\"con_fecha\"], errors=\"coerce\")\n",
    "df_copy[\"day_of_week\"] = df_copy[\"con_fecha\"].dt.dayofweek + 1\n",
    "df_copy[\"day_of_week\"].value_counts(dropna=False)"
   ]
  },
  {
   "cell_type": "code",
   "execution_count": null,
   "metadata": {
    "colab": {
     "base_uri": "https://localhost:8080/"
    },
    "executionInfo": {
     "elapsed": 31,
     "status": "ok",
     "timestamp": 1745909319707,
     "user": {
      "displayName": "Luis Carlos Fernández San Martín",
      "userId": "17447517186582912809"
     },
     "user_tz": -120
    },
    "id": "Uye0ykukAVOZ",
    "outputId": "99c6e188-57e8-4ca2-cf27-ee5739600a52"
   },
   "outputs": [],
   "source": [
    "valores_unicos = df_copy[\"day_of_week\"].unique()\n",
    "print(valores_unicos)"
   ]
  },
  {
   "cell_type": "code",
   "execution_count": null,
   "metadata": {
    "colab": {
     "base_uri": "https://localhost:8080/",
     "height": 0
    },
    "executionInfo": {
     "elapsed": 435,
     "status": "ok",
     "timestamp": 1745909320143,
     "user": {
      "displayName": "Luis Carlos Fernández San Martín",
      "userId": "17447517186582912809"
     },
     "user_tz": -120
    },
    "id": "ZLZX5u9iAcyA",
    "outputId": "0d4b827e-98d9-4c87-eac3-c1378355aa78"
   },
   "outputs": [],
   "source": [
    "\n",
    "df_copy.sample(5)"
   ]
  },
  {
   "cell_type": "code",
   "execution_count": null,
   "metadata": {
    "colab": {
     "base_uri": "https://localhost:8080/",
     "height": 429
    },
    "executionInfo": {
     "elapsed": 393,
     "status": "ok",
     "timestamp": 1745909320536,
     "user": {
      "displayName": "Luis Carlos Fernández San Martín",
      "userId": "17447517186582912809"
     },
     "user_tz": -120
    },
    "id": "oIly4ksXD5iW",
    "outputId": "f44b1b62-fdd9-421d-8a93-b4269d783842"
   },
   "outputs": [],
   "source": [
    "\n",
    "df_copy[\"is_weekend\"] = df_copy[\"day_of_week\"].isin([6, 7]).astype(int)\n",
    "df_copy.sample(5)"
   ]
  },
  {
   "cell_type": "code",
   "execution_count": null,
   "metadata": {
    "colab": {
     "base_uri": "https://localhost:8080/",
     "height": 0
    },
    "executionInfo": {
     "elapsed": 497,
     "status": "ok",
     "timestamp": 1745909321041,
     "user": {
      "displayName": "Luis Carlos Fernández San Martín",
      "userId": "17447517186582912809"
     },
     "user_tz": -120
    },
    "id": "6uCUfhsQEdvQ",
    "outputId": "026e3cb1-183e-4fc6-9639-afaaf7fea401"
   },
   "outputs": [],
   "source": [
    "\n",
    "df_copy[\"month\"] = df_copy[\"con_fecha\"].dt.month\n",
    "df_copy.sample(3)"
   ]
  },
  {
   "cell_type": "code",
   "execution_count": null,
   "metadata": {
    "colab": {
     "base_uri": "https://localhost:8080/",
     "height": 297
    },
    "executionInfo": {
     "elapsed": 641,
     "status": "ok",
     "timestamp": 1745909321685,
     "user": {
      "displayName": "Luis Carlos Fernández San Martín",
      "userId": "17447517186582912809"
     },
     "user_tz": -120
    },
    "id": "uJznhB9YFAVv",
    "outputId": "71ace821-6749-4f61-a618-63ed539c5f29"
   },
   "outputs": [],
   "source": [
    "df_copy[\"week_of_year\"] = df_copy[\"con_fecha\"].dt.isocalendar().week.astype(int)\n",
    "df_copy.sample(3)"
   ]
  },
  {
   "cell_type": "code",
   "execution_count": null,
   "metadata": {
    "colab": {
     "base_uri": "https://localhost:8080/",
     "height": 0
    },
    "executionInfo": {
     "elapsed": 488,
     "status": "ok",
     "timestamp": 1745909322175,
     "user": {
      "displayName": "Luis Carlos Fernández San Martín",
      "userId": "17447517186582912809"
     },
     "user_tz": -120
    },
    "id": "Z8n_Qf9RF3rd",
    "outputId": "d56cb35e-3083-4f52-fafc-43954cdcb68d"
   },
   "outputs": [],
   "source": [
    "\n",
    "import numpy as np\n",
    "conditions = [\n",
    "    df_copy[\"month\"].isin([12, 1, 2]),  \n",
    "    df_copy[\"month\"].isin([3, 4, 5]),   \n",
    "    df_copy[\"month\"].isin([6, 7, 8]),    \n",
    "    df_copy[\"month\"].isin([9, 10, 11])   \n",
    "]\n",
    "choices = [1, 2, 3, 4]\n",
    "\n",
    "df_copy[\"season\"] = np.select(conditions, choices, default=np.nan).astype(int)\n",
    "df_copy.sample(5)"
   ]
  },
  {
   "cell_type": "code",
   "execution_count": null,
   "metadata": {
    "executionInfo": {
     "elapsed": 197,
     "status": "ok",
     "timestamp": 1745909322425,
     "user": {
      "displayName": "Luis Carlos Fernández San Martín",
      "userId": "17447517186582912809"
     },
     "user_tz": -120
    },
    "id": "M8YivuEuBmnZ"
   },
   "outputs": [],
   "source": [
    "import pandas as pd\n",
    "\n",
    "festivos_nacionales = pd.to_datetime([\n",
    "    # 2022\n",
    "    \"2022-01-01\",  # Año Nuevo\n",
    "    \"2022-01-06\",  # Epifanía del Señor (Reyes)\n",
    "    \"2022-04-15\",  # Viernes Santo\n",
    "    \"2022-08-15\",  # Asunción de la Virgen\n",
    "    \"2022-10-12\",  # Fiesta Nacional de España\n",
    "    \"2022-11-01\",  # Todos los Santos\n",
    "    \"2022-12-06\",  # Día de la Constitución Española\n",
    "    \"2022-12-08\",  # Inmaculada Concepción\n",
    "    \"2022-12-25\",  # Natividad del Señor (Navidad)\n",
    "\n",
    "    # 2023\n",
    "    \"2023-01-06\",  # Epifanía del Señor (Reyes)\n",
    "    \"2023-04-07\",  # Viernes Santo\n",
    "    \"2023-05-01\",  # Día del Trabajo\n",
    "    \"2023-08-15\",  # Asunción de la Virgen\n",
    "    \"2023-10-12\",  # Fiesta Nacional de España\n",
    "    \"2023-11-01\",  # Todos los Santos\n",
    "    \"2023-12-06\",  # Día de la Constitución Española\n",
    "    \"2023-12-08\",  # Inmaculada Concepción\n",
    "    \"2023-12-25\",  # Natividad del Señor (Navidad)\n",
    "\n",
    "    # 2024\n",
    "    \"2024-01-01\",  # Año Nuevo\n",
    "    \"2024-01-06\",  # Epifanía del Señor (Reyes)\n",
    "    \"2024-03-29\",  # Viernes Santo\n",
    "    \"2024-05-01\",  # Día del Trabajo\n",
    "    \"2024-08-15\",  # Asunción de la Virgen\n",
    "    \"2024-10-12\",  # Fiesta Nacional de España\n",
    "    \"2024-11-01\",  # Todos los Santos\n",
    "    \"2024-12-06\",  # Día de la Constitución Española\n",
    "    \"2024-12-25\",  # Natividad del Señor (Navidad)\n",
    "])\n",
    "\n",
    "# Festivos locales en Algeciras (ejemplo aproximado)\n",
    "festivos_locales = pd.to_datetime([\n",
    "    \"2022-02-28\",  # Dia de Andalucia\n",
    "    \"2022-04-14\",  # Jueves Santo\n",
    "    \"2022-05-02\",  # Lunes siguiente al día del Trabajo\n",
    "    \"2022-06-22\",  # Feria Real de Algeciras\n",
    "    \"2022-07-18\",  # Festividad de Nuestra Señora del Carmen\n",
    "    \"2022-12-26\",  # Lunes siguiente a Navidad\n",
    "\n",
    "    \"2023-01-02\",  # Día siguiente a Año Nuevo\n",
    "    \"2023-02-28\",  # Día de Andalucía\n",
    "    \"2023-04-06\",  # Jueves Santo\n",
    "    \"2023-06-21\",  # Miércoles de la Feria Real de Algeciras\n",
    "    \"2023-07-17\",  # Lunes posterior a la Festividad de Nuestra Señora del Carmen.​\n",
    "\n",
    "    \"2024-02-28\",  # Día de Andalucía\n",
    "    \"2024-03-28\",  # Jueves Santo\n",
    "    \"2024-06-26\",  # Miércoles de Feria Real de Algeciras\n",
    "    \"2024-07-16\",  # Festividad de Nuestra Señora del Carmen\n",
    "    \"2024-12-09\",  # Lunes siguiente a la Inmaculada Concepción\n",
    "])\n",
    "\n",
    "festivos_nacionales_set = set(festivos_nacionales)\n",
    "festivos_locales_set = set(festivos_locales)\n",
    "\n",
    "df_copy[\"fecha_sin_hora\"] = df_copy[\"con_fecha\"].dt.normalize()\n",
    "\n",
    "df_copy[\"is_festivo_nacional\"] = df_copy[\"fecha_sin_hora\"].isin(festivos_nacionales_set).astype(int)\n",
    "\n",
    "df_copy[\"is_festivo_local\"] = df_copy[\"fecha_sin_hora\"].isin(festivos_locales_set).astype(int)"
   ]
  },
  {
   "cell_type": "code",
   "execution_count": null,
   "metadata": {
    "colab": {
     "base_uri": "https://localhost:8080/",
     "height": 331
    },
    "executionInfo": {
     "elapsed": 5811,
     "status": "ok",
     "timestamp": 1745909328237,
     "user": {
      "displayName": "Luis Carlos Fernández San Martín",
      "userId": "17447517186582912809"
     },
     "user_tz": -120
    },
    "id": "WTkeNLAXOMA_",
    "outputId": "d46fc4de-b4ce-4462-98b7-0b062ae679fa"
   },
   "outputs": [],
   "source": [
    "\n",
    "df_copy.groupby(['is_festivo_nacional', 'is_festivo_local']).sample(n=3, random_state=42)[[\"con_fecha\", \"is_festivo_nacional\", \"is_festivo_local\"]]"
   ]
  },
  {
   "cell_type": "code",
   "execution_count": null,
   "metadata": {
    "executionInfo": {
     "elapsed": 257907,
     "status": "ok",
     "timestamp": 1745909586144,
     "user": {
      "displayName": "Luis Carlos Fernández San Martín",
      "userId": "17447517186582912809"
     },
     "user_tz": -120
    },
    "id": "Bjfb9jHveCaR"
   },
   "outputs": [],
   "source": [
    "import pandas as pd\n",
    "fechas_eid_aladha = pd.to_datetime([\n",
    "    \"2022-07-09\",\n",
    "    \"2023-06-28\",\n",
    "    \"2024-06-16\"\n",
    "])\n",
    "\n",
    "set_eid_aladha = set(fechas_eid_aladha)\n",
    "\n",
    "df_copy[\"is_eid_aladha\"] = df_copy[\"fecha_sin_hora\"].isin(set_eid_aladha).astype(int)\n",
    "\n",
    "df_copy[\"is_eid_aladha_prev\"] = df_copy[\"fecha_sin_hora\"].apply(\n",
    "    lambda x: any((x >= fecha - pd.Timedelta(days=7)) and (x < fecha) for fecha in fechas_eid_aladha)\n",
    ").astype(int)\n",
    "\n",
    "df_copy[\"is_eid_aladha_post\"] = df_copy[\"fecha_sin_hora\"].apply(\n",
    "    lambda x: any((x > fecha) and (x <= fecha + pd.Timedelta(days=7)) for fecha in fechas_eid_aladha)\n",
    ").astype(int)"
   ]
  },
  {
   "cell_type": "code",
   "execution_count": null,
   "metadata": {
    "colab": {
     "base_uri": "https://localhost:8080/"
    },
    "executionInfo": {
     "elapsed": 353,
     "status": "ok",
     "timestamp": 1745909586501,
     "user": {
      "displayName": "Luis Carlos Fernández San Martín",
      "userId": "17447517186582912809"
     },
     "user_tz": -120
    },
    "id": "e7Y70E-ZiFFZ",
    "outputId": "620e1f6a-fce0-4d5c-a578-fea182696a13"
   },
   "outputs": [],
   "source": [
    "\n",
    "df_eid_aladha = df_copy[\n",
    "    (df_copy[\"is_eid_aladha\"] == 1) |\n",
    "    (df_copy[\"is_eid_aladha_prev\"] == 1) |\n",
    "    (df_copy[\"is_eid_aladha_post\"] == 1)\n",
    "][[\"fecha_sin_hora\", \"is_eid_aladha_prev\", \"is_eid_aladha\", \"is_eid_aladha_post\"]]\n",
    "\n",
    "df_eid_aladha = df_eid_aladha.drop_duplicates().sort_values(\"fecha_sin_hora\")\n",
    "\n",
    "print(df_eid_aladha.to_string(index=False))"
   ]
  },
  {
   "cell_type": "code",
   "execution_count": null,
   "metadata": {
    "executionInfo": {
     "elapsed": 263605,
     "status": "ok",
     "timestamp": 1745909850106,
     "user": {
      "displayName": "Luis Carlos Fernández San Martín",
      "userId": "17447517186582912809"
     },
     "user_tz": -120
    },
    "id": "FFEgCneMkpnR"
   },
   "outputs": [],
   "source": [
    "\n",
    "import pandas as pd\n",
    "\n",
    "fechas_eid_alfitr = pd.to_datetime([\n",
    "    \"2022-05-02\",\n",
    "    \"2023-04-21\",\n",
    "    \"2024-04-10\"\n",
    "])\n",
    "set_eid_alfitr = set(fechas_eid_alfitr)\n",
    "\n",
    "df_copy[\"is_eid_alfitr\"] = df_copy[\"fecha_sin_hora\"].isin(set_eid_alfitr).astype(int)\n",
    "\n",
    "\n",
    "df_copy[\"is_eid_alfitr_prev\"] = df_copy[\"fecha_sin_hora\"].apply(\n",
    "    lambda x: any((x >= fecha - pd.Timedelta(days=7)) and (x < fecha) for fecha in fechas_eid_alfitr)\n",
    ").astype(int)\n",
    "\n",
    "\n",
    "df_copy[\"is_eid_alfitr_post\"] = df_copy[\"fecha_sin_hora\"].apply(\n",
    "    lambda x: any((x > fecha) and (x <= fecha + pd.Timedelta(days=7)) for fecha in fechas_eid_alfitr)\n",
    ").astype(int)"
   ]
  },
  {
   "cell_type": "code",
   "execution_count": null,
   "metadata": {
    "colab": {
     "base_uri": "https://localhost:8080/"
    },
    "executionInfo": {
     "elapsed": 71,
     "status": "ok",
     "timestamp": 1745909850184,
     "user": {
      "displayName": "Luis Carlos Fernández San Martín",
      "userId": "17447517186582912809"
     },
     "user_tz": -120
    },
    "id": "gH6VWwvjkpe5",
    "outputId": "11591448-0c84-4aea-a8b1-fde0cf26346b"
   },
   "outputs": [],
   "source": [
    "\n",
    "df_eid_alfitr = df_copy[\n",
    "    (df_copy[\"is_eid_alfitr\"] == 1) |\n",
    "    (df_copy[\"is_eid_alfitr_prev\"] == 1) |\n",
    "    (df_copy[\"is_eid_alfitr_post\"] == 1)\n",
    "][[\"fecha_sin_hora\", \"is_eid_alfitr_prev\", \"is_eid_alfitr\", \"is_eid_alfitr_post\"]]\n",
    "\n",
    "df_eid_alfitr = df_eid_alfitr.drop_duplicates().sort_values(\"fecha_sin_hora\")\n",
    "\n",
    "print(df_eid_alfitr.to_string(index=False))\n"
   ]
  },
  {
   "cell_type": "code",
   "execution_count": null,
   "metadata": {
    "colab": {
     "base_uri": "https://localhost:8080/"
    },
    "executionInfo": {
     "elapsed": 47,
     "status": "ok",
     "timestamp": 1745909850232,
     "user": {
      "displayName": "Luis Carlos Fernández San Martín",
      "userId": "17447517186582912809"
     },
     "user_tz": -120
    },
    "id": "DwWLErRvkpUV",
    "outputId": "3911f12f-ec29-412e-bb27-22b86ed78c8e"
   },
   "outputs": [],
   "source": [
    "import pandas as pd\n",
    "fechas_mawlid_nabi = pd.to_datetime([\n",
    "    \"2022-10-08\",\n",
    "    \"2023-09-27\",\n",
    "    \"2024-09-15\"\n",
    "])\n",
    "\n",
    "set_mawlid_nabi = set(fechas_mawlid_nabi)\n",
    "df_copy[\"is_mawlid_nabi\"] = df_copy[\"fecha_sin_hora\"].isin(set_mawlid_nabi).astype(int)\n",
    "df_mawlid_nabi = df_copy[df_copy[\"is_mawlid_nabi\"] == 1][[\"fecha_sin_hora\", \"is_mawlid_nabi\"]].drop_duplicates()\n",
    "print(df_mawlid_nabi.to_string(index=False))"
   ]
  },
  {
   "cell_type": "code",
   "execution_count": null,
   "metadata": {
    "executionInfo": {
     "elapsed": 2465,
     "status": "ok",
     "timestamp": 1745909852699,
     "user": {
      "displayName": "Luis Carlos Fernández San Martín",
      "userId": "17447517186582912809"
     },
     "user_tz": -120
    },
    "id": "4OWp4rD1vGc1"
   },
   "outputs": [],
   "source": [
    "\n",
    "df_copy.drop(columns=[\"fecha_sin_hora\"], inplace=True)"
   ]
  },
  {
   "cell_type": "code",
   "execution_count": null,
   "metadata": {
    "colab": {
     "base_uri": "https://localhost:8080/",
     "height": 0
    },
    "executionInfo": {
     "elapsed": 31,
     "status": "ok",
     "timestamp": 1745909852741,
     "user": {
      "displayName": "Luis Carlos Fernández San Martín",
      "userId": "17447517186582912809"
     },
     "user_tz": -120
    },
    "id": "TRfFe6QAkpIL",
    "outputId": "fc1efacc-1a1e-4ec5-c3a3-d999f13b3de2"
   },
   "outputs": [],
   "source": [
    "display(df_copy.head())\n",
    "df_copy.info()"
   ]
  },
  {
   "cell_type": "code",
   "execution_count": null,
   "metadata": {
    "executionInfo": {
     "elapsed": 859,
     "status": "ok",
     "timestamp": 1745909853601,
     "user": {
      "displayName": "Luis Carlos Fernández San Martín",
      "userId": "17447517186582912809"
     },
     "user_tz": -120
    },
    "id": "II_OxUKyHXiR"
   },
   "outputs": [],
   "source": [
    "df_copy['con_fecha'] = pd.to_datetime(df_copy['con_fecha'], errors='coerce')\n",
    "df_copy['hora_embarque'] = df_copy['con_fecha'].dt.hour.astype('int')"
   ]
  },
  {
   "cell_type": "code",
   "execution_count": 53,
   "metadata": {
    "executionInfo": {
     "elapsed": 323,
     "status": "ok",
     "timestamp": 1745909853925,
     "user": {
      "displayName": "Luis Carlos Fernández San Martín",
      "userId": "17447517186582912809"
     },
     "user_tz": -120
    },
    "id": "YlvbLq5pKiAY"
   },
   "outputs": [],
   "source": [
    "df_copy['agrupacion_billete'] = np.where(df_copy['con_tipobillete'].isin([0, 5, 6, 7, 8, 9]), 0,\n",
    "                              np.where(df_copy['con_tipobillete'].isin([1, 2, 3]), 1, 2))"
   ]
  },
  {
   "cell_type": "code",
   "execution_count": null,
   "metadata": {
    "colab": {
     "base_uri": "https://localhost:8080/",
     "height": 1000
    },
    "executionInfo": {
     "elapsed": 30,
     "status": "ok",
     "timestamp": 1745909853971,
     "user": {
      "displayName": "Luis Carlos Fernández San Martín",
      "userId": "17447517186582912809"
     },
     "user_tz": -120
    },
    "id": "XWvsycl-K6Bl",
    "outputId": "f773d08d-2a74-45a8-f09c-f4584a48eb44"
   },
   "outputs": [],
   "source": [
    "display(df_copy.head())\n",
    "df_copy.info()"
   ]
  },
  {
   "cell_type": "code",
   "execution_count": null,
   "metadata": {
    "colab": {
     "base_uri": "https://localhost:8080/",
     "height": 0
    },
    "executionInfo": {
     "elapsed": 112164,
     "status": "ok",
     "timestamp": 1745909966137,
     "user": {
      "displayName": "Luis Carlos Fernández San Martín",
      "userId": "17447517186582912809"
     },
     "user_tz": -120
    },
    "id": "rq-OksW_wUrd",
    "outputId": "01d82474-9e3b-41fe-d86e-b7b6739fb306"
   },
   "outputs": [
    {
     "data": {
      "application/javascript": "\n    async function download(id, filename, size) {\n      if (!google.colab.kernel.accessAllowed) {\n        return;\n      }\n      const div = document.createElement('div');\n      const label = document.createElement('label');\n      label.textContent = `Downloading \"${filename}\": `;\n      div.appendChild(label);\n      const progress = document.createElement('progress');\n      progress.max = size;\n      div.appendChild(progress);\n      document.body.appendChild(div);\n\n      const buffers = [];\n      let downloaded = 0;\n\n      const channel = await google.colab.kernel.comms.open(id);\n      // Send a message to notify the kernel that we're ready.\n      channel.send({})\n\n      for await (const message of channel.messages) {\n        // Send a message to notify the kernel that we're ready.\n        channel.send({})\n        if (message.buffers) {\n          for (const buffer of message.buffers) {\n            buffers.push(buffer);\n            downloaded += buffer.byteLength;\n            progress.value = downloaded;\n          }\n        }\n      }\n      const blob = new Blob(buffers, {type: 'application/binary'});\n      const a = document.createElement('a');\n      a.href = window.URL.createObjectURL(blob);\n      a.download = filename;\n      div.appendChild(a);\n      a.click();\n      div.remove();\n    }\n  ",
      "text/plain": [
       "<IPython.core.display.Javascript object>"
      ]
     },
     "metadata": {},
     "output_type": "display_data"
    },
    {
     "data": {
      "application/javascript": "download(\"download_06fc44a6-a53b-4b3c-a668-dca8f5d5d60d\", \"dataset_empresa_03_pos_EDA_0.csv\", 2537732407)",
      "text/plain": [
       "<IPython.core.display.Javascript object>"
      ]
     },
     "metadata": {},
     "output_type": "display_data"
    }
   ],
   "source": [
    "\n",
    "df_copy.to_csv(\"dataset_empresa_03_pos_EDA_0.csv\", index=False)\n",
    "\n",
    "from google.colab import files\n",
    "files.download(\"dataset_empresa_03_pos_EDA_0.csv\")"
   ]
  }
 ],
 "metadata": {
  "colab": {
   "authorship_tag": "ABX9TyPj4wKeAn3S+4ZsjVUQIOzh",
   "machine_shape": "hm",
   "provenance": []
  },
  "kernelspec": {
   "display_name": "Python 3",
   "name": "python3"
  },
  "language_info": {
   "name": "python"
  }
 },
 "nbformat": 4,
 "nbformat_minor": 0
}
