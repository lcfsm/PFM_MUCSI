{
 "cells": [
  {
   "cell_type": "code",
   "execution_count": null,
   "metadata": {
    "colab": {
     "base_uri": "https://localhost:8080/"
    },
    "executionInfo": {
     "elapsed": 16076,
     "status": "ok",
     "timestamp": 1745475035246,
     "user": {
      "displayName": "Luis Carlos Fernández San Martín",
      "userId": "17447517186582912809"
     },
     "user_tz": -120
    },
    "id": "IcKzTocy7Ls7",
    "outputId": "7b12c719-015b-4d1e-b59c-a73ee8178d93"
   },
   "outputs": [],
   "source": [
    "from google.colab import drive\n",
    "drive.mount('/content/drive')"
   ]
  },
  {
   "cell_type": "code",
   "execution_count": 2,
   "metadata": {
    "executionInfo": {
     "elapsed": 818,
     "status": "ok",
     "timestamp": 1745475036066,
     "user": {
      "displayName": "Luis Carlos Fernández San Martín",
      "userId": "17447517186582912809"
     },
     "user_tz": -120
    },
    "id": "kzqYbuqY7VBm"
   },
   "outputs": [],
   "source": [
    "import pandas as pd\n",
    "import numpy as np\n",
    "from sklearn.preprocessing import MinMaxScaler"
   ]
  },
  {
   "cell_type": "code",
   "execution_count": 3,
   "metadata": {
    "executionInfo": {
     "elapsed": 86896,
     "status": "ok",
     "timestamp": 1745475122978,
     "user": {
      "displayName": "Luis Carlos Fernández San Martín",
      "userId": "17447517186582912809"
     },
     "user_tz": -120
    },
    "id": "M4Ul5r4B7XsO"
   },
   "outputs": [],
   "source": [
    "ruta_csv = \"/content/drive/MyDrive/3 - Master Computacion y Sistemas Inteligentes/PFM/Datasets/dataset_final_convariablesdedias.csv\"\n",
    "df = pd.read_csv(ruta_csv, low_memory=False)\n",
    "df[\"con_fecha\"] = pd.to_datetime(df[\"con_fecha\"], errors=\"coerce\")\n",
    "df[\"con_dateticket\"] = pd.to_datetime(df[\"con_dateticket\"], errors=\"coerce\")\n",
    "df['fecha_embarque'] = pd.to_datetime(df['fecha_embarque'], errors='coerce')"
   ]
  },
  {
   "cell_type": "code",
   "execution_count": null,
   "metadata": {
    "executionInfo": {
     "elapsed": 597,
     "status": "ok",
     "timestamp": 1745475123578,
     "user": {
      "displayName": "Luis Carlos Fernández San Martín",
      "userId": "17447517186582912809"
     },
     "user_tz": -120
    },
    "id": "wnyNEcE57bYr"
   },
   "outputs": [],
   "source": [
    "columnas_a_mantener = [\n",
    "    'fecha_embarque','tipo_agrupacion',\n",
    "    'dia_del_anio_sin', 'dia_del_anio_cos',\n",
    "    'dia_embarque_sin', 'dia_embarque_cos',\n",
    "    'hora_embarque_sin', 'hora_embarque_cos',\n",
    "    'is_weekend',\n",
    "    'mes_embarque_sin', 'mes_embarque_cos',\n",
    "    'week_of_year_sin', 'week_of_year_cos',\n",
    "    'season_1', 'season_2', 'season_3', 'season_4',\n",
    "    'is_festivo_nacional', 'is_festivo_local',\n",
    "    'is_eid_aladha', 'is_eid_aladha_prev', 'is_eid_aladha_post',\n",
    "    'is_eid_alfitr', 'is_eid_alfitr_prev', 'is_eid_alfitr_post',\n",
    "    'is_mawlid_nabi',\n",
    "    'is_monday', 'is_tuesday', 'is_wednesday', 'is_thursday',\n",
    "    'is_friday', 'is_saturday', 'is_sunday',\n",
    "    'weekday_sin', 'weekday_cos'\n",
    "]\n",
    "df = df[columnas_a_mantener]"
   ]
  },
  {
   "cell_type": "code",
   "execution_count": null,
   "metadata": {
    "colab": {
     "base_uri": "https://localhost:8080/"
    },
    "executionInfo": {
     "elapsed": 1298,
     "status": "ok",
     "timestamp": 1745475124878,
     "user": {
      "displayName": "Luis Carlos Fernández San Martín",
      "userId": "17447517186582912809"
     },
     "user_tz": -120
    },
    "id": "3a4KVFz8-Bpv",
    "outputId": "300acf0c-3551-4dd8-f0c9-17a59df9b6f9"
   },
   "outputs": [],
   "source": [
    "df_pasajeros = df[df[\"tipo_agrupacion\"] == 1].copy()\n",
    "len(df_pasajeros)"
   ]
  },
  {
   "cell_type": "code",
   "execution_count": null,
   "metadata": {
    "colab": {
     "base_uri": "https://localhost:8080/"
    },
    "executionInfo": {
     "elapsed": 468,
     "status": "ok",
     "timestamp": 1745475125348,
     "user": {
      "displayName": "Luis Carlos Fernández San Martín",
      "userId": "17447517186582912809"
     },
     "user_tz": -120
    },
    "id": "b-Gn2wAy-Bc4",
    "outputId": "0007ad87-dcce-4def-d430-393a305a5765"
   },
   "outputs": [],
   "source": [
    "df_vehiculos = df[df[\"tipo_agrupacion\"] == 0].copy()\n",
    "len(df_vehiculos)"
   ]
  },
  {
   "cell_type": "code",
   "execution_count": null,
   "metadata": {
    "colab": {
     "base_uri": "https://localhost:8080/"
    },
    "executionInfo": {
     "elapsed": 312,
     "status": "ok",
     "timestamp": 1745475125662,
     "user": {
      "displayName": "Luis Carlos Fernández San Martín",
      "userId": "17447517186582912809"
     },
     "user_tz": -120
    },
    "id": "DgQC_Rsy-Gw1",
    "outputId": "7590a30d-f159-490f-e439-7d8c548420a6"
   },
   "outputs": [],
   "source": [
    "print(\"\\n=== Verificacion inicial de dias faltantes ===\")\n",
    "rango_esperado = pd.date_range(\n",
    "    start=df['fecha_embarque'].min(),\n",
    "    end=df['fecha_embarque'].max(),\n",
    "    freq='D'\n",
    ")\n",
    "fechas_presentes = df['fecha_embarque'].dt.normalize().unique()\n",
    "fechas_faltantes = rango_esperado.difference(fechas_presentes)\n",
    "print(f\"Rango temporal total: {rango_esperado.min().date()} a {rango_esperado.max().date()}\")\n",
    "print(f\"Dias esperados: {len(rango_esperado)} | Dias presentes: {len(fechas_presentes)}\")\n",
    "print(f\"Dias faltantes: {len(fechas_faltantes)}\")\n",
    "if len(fechas_faltantes) > 0:\n",
    "    print(\"Ejemplo de fechas faltantes:\", [f.date() for f in fechas_faltantes[:5]])"
   ]
  },
  {
   "cell_type": "code",
   "execution_count": null,
   "metadata": {
    "executionInfo": {
     "elapsed": 10,
     "status": "ok",
     "timestamp": 1745475125675,
     "user": {
      "displayName": "Luis Carlos Fernández San Martín",
      "userId": "17447517186582912809"
     },
     "user_tz": -120
    },
    "id": "YtX9MPtR-NHV"
   },
   "outputs": [],
   "source": [
    "def procesar_dataset_completo(df_original, df_filtrado, nombre_target):\n",
    "    rango_fechas = pd.date_range(\n",
    "        start=df_original['fecha_embarque'].min(),\n",
    "        end=df_original['fecha_embarque'].max(),\n",
    "        freq='D'\n",
    "    )\n",
    "\n",
    "    df_daily = (\n",
    "        df_filtrado.groupby('fecha_embarque')\n",
    "        .size()\n",
    "        .reindex(rango_fechas, fill_value=0)\n",
    "        .reset_index(name=nombre_target)\n",
    "        .rename(columns={'index': 'fecha_embarque'})\n",
    "    )\n",
    "\n",
    "    df_temp = (\n",
    "        df_original.drop(columns=['tipo_agrupacion'])\n",
    "        .drop_duplicates('fecha_embarque')\n",
    "        .set_index('fecha_embarque')\n",
    "        .reindex(rango_fechas)\n",
    "        .reset_index()\n",
    "        .rename(columns={'index': 'fecha_embarque'})\n",
    "    )\n",
    "\n",
    "    cols_categoricas = ['is_weekend', 'is_festivo_nacional', 'is_festivo_local',\n",
    "                       'is_eid_aladha', 'is_eid_aladha_prev', 'is_eid_aladha_post',\n",
    "                       'is_eid_alfitr', 'is_eid_alfitr_prev', 'is_eid_alfitr_post',\n",
    "                       'is_mawlid_nabi', 'season_1', 'season_2', 'season_3', 'season_4',\n",
    "                       'is_monday', 'is_tuesday', 'is_wednesday', 'is_thursday',\n",
    "                       'is_friday', 'is_saturday', 'is_sunday']\n",
    "\n",
    "    for col in cols_categoricas:\n",
    "        df_temp[col] = df_temp[col].fillna(method='ffill').fillna(0)\n",
    "\n",
    "    df_temp['dia_del_anio'] = df_temp['fecha_embarque'].dt.dayofyear\n",
    "    df_temp['dia_del_anio_sin'] = np.sin(2 * np.pi * df_temp['dia_del_anio']/365)\n",
    "    df_temp['dia_del_anio_cos'] = np.cos(2 * np.pi * df_temp['dia_del_anio']/365)\n",
    "\n",
    "    df_temp['dia_embarque'] = df_temp['fecha_embarque'].dt.day\n",
    "    df_temp['dia_embarque_sin'] = np.sin(2 * np.pi * df_temp['dia_embarque']/31)\n",
    "    df_temp['dia_embarque_cos'] = np.cos(2 * np.pi * df_temp['dia_embarque']/31)\n",
    "\n",
    "    df_temp['mes_embarque'] = df_temp['fecha_embarque'].dt.month\n",
    "    df_temp['mes_embarque_sin'] = np.sin(2 * np.pi * df_temp['mes_embarque']/12)\n",
    "    df_temp['mes_embarque_cos'] = np.cos(2 * np.pi * df_temp['mes_embarque']/12)\n",
    "\n",
    "    df_temp['week_of_year'] = df_temp['fecha_embarque'].dt.isocalendar().week\n",
    "    df_temp['week_of_year_sin'] = np.sin(2 * np.pi * df_temp['week_of_year']/52)\n",
    "    df_temp['week_of_year_cos'] = np.cos(2 * np.pi * df_temp['week_of_year']/52)\n",
    "\n",
    "    if df_temp['weekday_sin'].isna().any() or df_temp['weekday_cos'].isna().any():\n",
    "        df_temp['weekday'] = df_temp['fecha_embarque'].dt.weekday\n",
    "        df_temp['weekday_sin'] = np.sin(2 * np.pi * df_temp['weekday']/7)\n",
    "        df_temp['weekday_cos'] = np.cos(2 * np.pi * df_temp['weekday']/7)\n",
    "        df_temp = df_temp.drop(columns=['weekday'])\n",
    "\n",
    "    df_temp = df_temp.drop(columns=['dia_del_anio', 'dia_embarque', 'mes_embarque', 'week_of_year'])\n",
    "\n",
    "    df_final = pd.merge(\n",
    "        df_temp,\n",
    "        df_daily,\n",
    "        on='fecha_embarque',\n",
    "        how='left'\n",
    "    ).fillna({nombre_target: 0})\n",
    "\n",
    "    df_final = df_final.sort_values('fecha_embarque')\n",
    "\n",
    "    diferencia = np.diff(df_final['fecha_embarque'].values)\n",
    "    assert all(d == np.timedelta64(1, 'D') for d in diferencia), \"Error: Aun hay huecos temporales\"\n",
    "\n",
    "    scaler = MinMaxScaler()\n",
    "    df_final[f'{nombre_target}_norm'] = scaler.fit_transform(df_final[[nombre_target]])\n",
    "\n",
    "    df_final = df_final.fillna(0)\n",
    "\n",
    "    return df_final, scaler"
   ]
  },
  {
   "cell_type": "code",
   "execution_count": null,
   "metadata": {
    "colab": {
     "base_uri": "https://localhost:8080/"
    },
    "executionInfo": {
     "elapsed": 3370,
     "status": "ok",
     "timestamp": 1745475129051,
     "user": {
      "displayName": "Luis Carlos Fernández San Martín",
      "userId": "17447517186582912809"
     },
     "user_tz": -120
    },
    "id": "ydYN8ER9-RDA",
    "outputId": "a5f6e6aa-1ce1-4a5e-88f6-b51c90f9e80f"
   },
   "outputs": [],
   "source": [
    "df_pasajeros = df[df[\"tipo_agrupacion\"] == 1].copy()\n",
    "df_vehiculos = df[df[\"tipo_agrupacion\"] == 0].copy()\n",
    "\n",
    "df_pasajeros_daily, scaler_pasajeros = procesar_dataset_completo(df, df_pasajeros, 'total_pasajeros')\n",
    "df_vehiculos_daily, scaler_vehiculos = procesar_dataset_completo(df, df_vehiculos, 'total_vehiculos')"
   ]
  },
  {
   "cell_type": "code",
   "execution_count": null,
   "metadata": {
    "colab": {
     "base_uri": "https://localhost:8080/"
    },
    "executionInfo": {
     "elapsed": 1499,
     "status": "ok",
     "timestamp": 1745475130567,
     "user": {
      "displayName": "Luis Carlos Fernández San Martín",
      "userId": "17447517186582912809"
     },
     "user_tz": -120
    },
    "id": "txKtidr2-VOX",
    "outputId": "20d9529e-e8c6-419a-d879-e4818c77acc2"
   },
   "outputs": [],
   "source": [
    "def crear_secuencias(df, target_col, lookback=7):\n",
    "    features = df.columns.difference(['fecha_embarque', target_col, f'{target_col}_norm'])\n",
    "    X, y = [], []\n",
    "    for i in range(lookback, len(df)):\n",
    "        X_seq = df.iloc[i-lookback:i][features].values.astype('float32')\n",
    "        X.append(X_seq)\n",
    "        y.append(df.iloc[i][f'{target_col}_norm'])\n",
    "    return np.array(X, dtype='float32'), np.array(y, dtype='float32')\n",
    "\n",
    "LOOKBACK = 7\n",
    "X_pasajeros, y_pasajeros = crear_secuencias(df_pasajeros_daily, 'total_pasajeros', LOOKBACK)\n",
    "X_vehiculos, y_vehiculos = crear_secuencias(df_vehiculos_daily, 'total_vehiculos', LOOKBACK)\n",
    "\n",
    "print(\"Tipo de X_pasajeros:\", X_pasajeros.dtype)"
   ]
  },
  {
   "cell_type": "code",
   "execution_count": null,
   "metadata": {
    "executionInfo": {
     "elapsed": 12,
     "status": "ok",
     "timestamp": 1745475130581,
     "user": {
      "displayName": "Luis Carlos Fernández San Martín",
      "userId": "17447517186582912809"
     },
     "user_tz": -120
    },
    "id": "zScaSPw7-XyQ"
   },
   "outputs": [],
   "source": [
    "def split_temporal(X, y, ratios=(0.7, 0.15, 0.15)):\n",
    "    train_end = int(len(X) * ratios[0])\n",
    "    val_end = train_end + int(len(X) * ratios[1])\n",
    "    return (X[:train_end], y[:train_end]), (X[train_end:val_end], y[train_end:val_end]), (X[val_end:], y[val_end:])\n",
    "\n",
    "(train_p, val_p, test_p) = split_temporal(X_pasajeros, y_pasajeros)\n",
    "(train_v, val_v, test_v) = split_temporal(X_vehiculos, y_vehiculos)"
   ]
  },
  {
   "cell_type": "code",
   "execution_count": null,
   "metadata": {
    "colab": {
     "base_uri": "https://localhost:8080/"
    },
    "executionInfo": {
     "elapsed": 38,
     "status": "ok",
     "timestamp": 1745475130621,
     "user": {
      "displayName": "Luis Carlos Fernández San Martín",
      "userId": "17447517186582912809"
     },
     "user_tz": -120
    },
    "id": "zKVOztds7gEj",
    "outputId": "edeb529f-2fa3-4cf5-f7f3-9e8fd6b98168"
   },
   "outputs": [],
   "source": [
    "print(\"\\n=== Verificacion de Integridad ===\")\n",
    "print(f\"Fechas unicas en original: {len(df['fecha_embarque'].unique())}\")\n",
    "print(f\"Fechas en pasajeros: {len(df_pasajeros_daily)} (deberian ser iguales)\")\n",
    "print(f\"Fechas en vehiculos: {len(df_vehiculos_daily)} (deberian ser iguales)\")\n",
    "\n",
    "def print_date_ranges(df_daily, split_points, name=\"\"):\n",
    "    print(f\"\\n=== Rangos temporales {name} ===\")\n",
    "    print(f\"Train: {df_daily['fecha_embarque'].iloc[0].date()} a {df_daily['fecha_embarque'].iloc[split_points[0]-1].date()}\")\n",
    "    print(f\"Val: {df_daily['fecha_embarque'].iloc[split_points[0]].date()} a {df_daily['fecha_embarque'].iloc[split_points[1]-1].date()}\")\n",
    "    print(f\"Test: {df_daily['fecha_embarque'].iloc[split_points[1]].date()} a {df_daily['fecha_embarque'].iloc[-1].date()}\")\n",
    "\n",
    "train_end_p = int(len(X_pasajeros) * 0.7)\n",
    "val_end_p = train_end_p + int(len(X_pasajeros) * 0.15)\n",
    "print_date_ranges(df_pasajeros_daily, [train_end_p, val_end_p], \"Pasajeros\")\n",
    "\n",
    "train_end_v = int(len(X_vehiculos) * 0.7)\n",
    "val_end_v = train_end_v + int(len(X_vehiculos) * 0.15)\n",
    "print_date_ranges(df_vehiculos_daily, [train_end_v, val_end_v], \"Vehiculos\")\n",
    "\n",
    "def check_temporal_continuity(df_daily, train_end, val_end):\n",
    "    gap_train_val = (df_daily['fecha_embarque'].iloc[train_end] - df_daily['fecha_embarque'].iloc[train_end-1]).days\n",
    "    gap_val_test = (df_daily['fecha_embarque'].iloc[val_end] - df_daily['fecha_embarque'].iloc[val_end-1]).days\n",
    "    print(f\"\\nSeparación Train-Val: {gap_train_val} días (deberia ser 1 o 0)\")\n",
    "    print(f\"Separación Val-Test: {gap_val_test} días (deberia ser 1 o 0)\")\n",
    "\n",
    "check_temporal_continuity(df_pasajeros_daily, train_end_p, val_end_p)\n",
    "\n",
    "print(\"\\n=== Shapes finales ===\")\n",
    "print(f\"Pasajeros - X: {X_pasajeros.shape}, y: {y_pasajeros.shape}\")\n",
    "print(f\"Vehículos - X: {X_vehiculos.shape}, y: {y_vehiculos.shape}\")\n",
    "\n",
    "def check_normalization(y_train, y_val, y_test):\n",
    "    print(\"\\n=== Verificacion de Normalizacion ===\")\n",
    "    print(f\"Train Y - Min: {y_train.min():.2f}, Max: {y_train.max():.2f}\")\n",
    "    print(f\"Val Y - Min: {y_val.min():.2f}, Max: {y_val.max():.2f}\")\n",
    "    print(f\"Test Y - Min: {y_test.min():.2f}, Max: {y_test.max():.2f}\")\n",
    "    assert all(0.0 <= y <= 1.0 for y in y_train), \"Error: Train Y no esta normalizado\"\n",
    "    assert all(0.0 <= y <= 1.0 for y in y_val), \"Error: Val Y no est normalizado\"\n",
    "\n",
    "check_normalization(train_p[1], val_p[1], test_p[1])\n",
    "\n",
    "print(\"\\nProceso completado Dataset listo para el modelo LSTM.\")\n",
    "\n",
    "def check_sequence_shapes(X, y, lookback=7, n_features=33):  \n",
    "    print(f\"Shape de X: {X.shape} (esperado: (n_samples, {lookback}, {n_features}))\")\n",
    "    print(f\"Shape de y: {y.shape} (esperado: (n_samples,))\")\n",
    "\n",
    "    assert X.shape[2] == n_features, f\"Error: X tiene {X.shape[2]} features, pero se esperaban {n_features}\"\n",
    "\n",
    "check_sequence_shapes(X_pasajeros, y_pasajeros)\n",
    "\n",
    "def check_lookback_coverage(df_daily, train_end, val_end, lookback=7):\n",
    "    first_val_date = df_daily['fecha_embarque'].iloc[train_end]\n",
    "    start_date = first_val_date - pd.Timedelta(days=lookback)\n",
    "    required_train_dates = pd.date_range(start=start_date, end=first_val_date - pd.Timedelta(days=1))\n",
    "    missing_dates = [d for d in required_train_dates if d not in df_daily['fecha_embarque'].iloc[:train_end].values]\n",
    "\n",
    "    if not missing_dates:\n",
    "        print(\"Lookback correcto: Val comienza con contexto suficiente\")\n",
    "    else:\n",
    "        print(f\"Error: Faltan {len(missing_dates)} dias para el lookback de Val\")\n",
    "check_lookback_coverage(df_pasajeros_daily, train_end_p, val_end_p)\n"
   ]
  },
  {
   "cell_type": "markdown",
   "metadata": {
    "id": "Vq65VhYWFL8y"
   },
   "source": [
    "# **Aqui empieza la parte de generacion del modelo**\n"
   ]
  },
  {
   "cell_type": "code",
   "execution_count": null,
   "metadata": {
    "executionInfo": {
     "elapsed": 2556,
     "status": "ok",
     "timestamp": 1745475133187,
     "user": {
      "displayName": "Luis Carlos Fernández San Martín",
      "userId": "17447517186582912809"
     },
     "user_tz": -120
    },
    "id": "UToPEGcvFLun"
   },
   "outputs": [],
   "source": [
    "import tensorflow as tf\n",
    "from tensorflow.keras.models import Sequential\n",
    "from tensorflow.keras.layers import LSTM, Dense, Dropout, BatchNormalization, Bidirectional\n",
    "from tensorflow.keras.callbacks import EarlyStopping, ModelCheckpoint, ReduceLROnPlateau\n",
    "from tensorflow.keras.optimizers import Adam\n",
    "import matplotlib.pyplot as plt\n",
    "import numpy as np"
   ]
  },
  {
   "cell_type": "code",
   "execution_count": null,
   "metadata": {
    "executionInfo": {
     "elapsed": 8,
     "status": "ok",
     "timestamp": 1745475133213,
     "user": {
      "displayName": "Luis Carlos Fernández San Martín",
      "userId": "17447517186582912809"
     },
     "user_tz": -120
    },
    "id": "0K0nC31PnIIA"
   },
   "outputs": [],
   "source": [
    "def crear_modelo_lstm(input_shape, dropout_rate=0.1, lstm_units=64, bidirectional=True):\n",
    "    model = Sequential()\n",
    "    if bidirectional:\n",
    "        model.add(Bidirectional(LSTM(lstm_units, return_sequences=True), input_shape=input_shape))\n",
    "    else:\n",
    "        model.add(LSTM(lstm_units, return_sequences=True, input_shape=input_shape))\n",
    "\n",
    "    model.add(BatchNormalization())\n",
    "    model.add(Dropout(dropout_rate))\n",
    "\n",
    "    if bidirectional:\n",
    "        model.add(Bidirectional(LSTM(lstm_units // 2)))\n",
    "    else:\n",
    "        model.add(LSTM(lstm_units // 2))\n",
    "\n",
    "    model.add(BatchNormalization())\n",
    "    model.add(Dropout(dropout_rate))\n",
    "\n",
    "    model.add(Dense(64, activation='relu'))  \n",
    "    model.add(BatchNormalization())\n",
    "\n",
    "    model.add(Dense(1, activation='sigmoid'))\n",
    "\n",
    "    return model"
   ]
  },
  {
   "cell_type": "code",
   "execution_count": null,
   "metadata": {
    "colab": {
     "base_uri": "https://localhost:8080/",
     "height": 540
    },
    "executionInfo": {
     "elapsed": 1518,
     "status": "ok",
     "timestamp": 1745475135919,
     "user": {
      "displayName": "Luis Carlos Fernández San Martín",
      "userId": "17447517186582912809"
     },
     "user_tz": -120
    },
    "id": "oAnZVlD5FKRR",
    "outputId": "d842268f-bd06-46b5-9689-a5bb36ac5fbb"
   },
   "outputs": [],
   "source": [
    "def compilar_modelo(model):\n",
    "    model.compile(\n",
    "        optimizer=Adam(learning_rate=0.001),\n",
    "        loss='mean_squared_error',\n",
    "        metrics=['mae']\n",
    "    )\n",
    "\n",
    "    return model\n",
    "input_shape = (train_p[0].shape[1], train_p[0].shape[2]) \n",
    "print(f\"Input shape para el modelo: {input_shape}\")\n",
    "\n",
    "modelo = crear_modelo_lstm(input_shape)\n",
    "\n",
    "modelo = compilar_modelo(modelo)\n",
    "\n",
    "modelo.summary()"
   ]
  },
  {
   "cell_type": "code",
   "execution_count": null,
   "metadata": {
    "colab": {
     "base_uri": "https://localhost:8080/"
    },
    "executionInfo": {
     "elapsed": 17,
     "status": "ok",
     "timestamp": 1745475135937,
     "user": {
      "displayName": "Luis Carlos Fernández San Martín",
      "userId": "17447517186582912809"
     },
     "user_tz": -120
    },
    "id": "I_jHfXPBH73E",
    "outputId": "d573fddd-813a-426a-fb8f-ffa32a1f4588"
   },
   "outputs": [],
   "source": [
    "def crear_callbacks(model_name):\n",
    "\n",
    "    early_stopping = EarlyStopping(\n",
    "        monitor='val_loss',\n",
    "        patience=10,\n",
    "        restore_best_weights=True,\n",
    "        verbose=1\n",
    "    )\n",
    "\n",
    "    checkpoint = ModelCheckpoint(\n",
    "        f'/content/drive/MyDrive/3 - Master Computacion y Sistemas Inteligentes/PFM/Modelos/{model_name}.h5',\n",
    "        monitor='val_loss',\n",
    "        save_best_only=True,\n",
    "        verbose=1\n",
    "    )\n",
    "\n",
    "    reduce_lr = ReduceLROnPlateau(\n",
    "        monitor='val_loss',\n",
    "        factor=0.2,\n",
    "        patience=5,\n",
    "        min_lr=1e-6,\n",
    "        verbose=1\n",
    "    )\n",
    "\n",
    "    return [early_stopping, checkpoint, reduce_lr]\n",
    "\n",
    "callbacks = crear_callbacks(\"lstm_model_pasajeros\")\n",
    "print(\"NaN en train_p[0]:\", np.isnan(train_p[0]).any())\n",
    "print(\"Forma de train_p[0]:\", train_p[0].shape)  "
   ]
  },
  {
   "cell_type": "code",
   "execution_count": null,
   "metadata": {
    "colab": {
     "base_uri": "https://localhost:8080/"
    },
    "executionInfo": {
     "elapsed": 19,
     "status": "ok",
     "timestamp": 1745475135968,
     "user": {
      "displayName": "Luis Carlos Fernández San Martín",
      "userId": "17447517186582912809"
     },
     "user_tz": -120
    },
    "id": "kLcbM6cUVOCX",
    "outputId": "12f99e89-6954-4a9c-8863-75f364764fe6"
   },
   "outputs": [],
   "source": [
    "nan_mask = np.isnan(train_p[0])\n",
    "print(\"Shape de nan_mask:\", nan_mask.shape)\n",
    "print(\"Numero total de NaN:\", nan_mask.sum())\n",
    "\n",
    "for i in range(train_p[0].shape[0]):\n",
    "    if np.isnan(train_p[0][i]).any():\n",
    "        print(f\"Secuencia {i} contiene NaN\")\n",
    "        print(train_p[0][i])\n",
    "        break"
   ]
  },
  {
   "cell_type": "code",
   "execution_count": null,
   "metadata": {
    "colab": {
     "base_uri": "https://localhost:8080/"
    },
    "executionInfo": {
     "elapsed": 2,
     "status": "ok",
     "timestamp": 1745475135971,
     "user": {
      "displayName": "Luis Carlos Fernández San Martín",
      "userId": "17447517186582912809"
     },
     "user_tz": -120
    },
    "id": "x2T5zIL8Lm9M",
    "outputId": "84261245-f491-4521-db8e-e410dd01510a"
   },
   "outputs": [],
   "source": [
    "print(\"Tipo de datos de train_p[0]:\", train_p[0].dtype)\n",
    "print(\"Tipo de datos de train_p[1]:\", train_p[1].dtype)\n",
    "print(\"Tipo de datos de val_p[0]:\", val_p[0].dtype)\n",
    "print(\"Tipo de datos de val_p[1]:\", val_p[1].dtype)"
   ]
  },
  {
   "cell_type": "code",
   "execution_count": null,
   "metadata": {
    "colab": {
     "base_uri": "https://localhost:8080/"
    },
    "executionInfo": {
     "elapsed": 19768,
     "status": "ok",
     "timestamp": 1745475155765,
     "user": {
      "displayName": "Luis Carlos Fernández San Martín",
      "userId": "17447517186582912809"
     },
     "user_tz": -120
    },
    "id": "X1FKZl4aIICh",
    "outputId": "6589ce8d-4050-4bb6-8fc9-d362aac8b7b8"
   },
   "outputs": [],
   "source": [
    "history = modelo.fit(\n",
    "    train_p[0], train_p[1],\n",
    "    validation_data=(val_p[0], val_p[1]),\n",
    "    epochs=100,\n",
    "    batch_size=32,\n",
    "    callbacks=callbacks,\n",
    "    verbose=1\n",
    ")\n",
    "\n",
    "import pickle\n",
    "with open('/content/drive/MyDrive/3 - Master Computacion y Sistemas Inteligentes/PFM/Modelos/history_lstm_pasajeros.pkl', 'wb') as f:\n",
    "    pickle.dump(history.history, f)"
   ]
  },
  {
   "cell_type": "code",
   "execution_count": null,
   "metadata": {
    "colab": {
     "base_uri": "https://localhost:8080/",
     "height": 507
    },
    "executionInfo": {
     "elapsed": 434,
     "status": "ok",
     "timestamp": 1745475156205,
     "user": {
      "displayName": "Luis Carlos Fernández San Martín",
      "userId": "17447517186582912809"
     },
     "user_tz": -120
    },
    "id": "pZZIEhlaIH4-",
    "outputId": "eaefcda2-0620-440f-e240-7cdd289191c7"
   },
   "outputs": [],
   "source": [
    "plt.figure(figsize=(15, 5))\n",
    "\n",
    "plt.subplot(1, 2, 1)\n",
    "plt.plot(history.history['loss'], label='Train')\n",
    "plt.plot(history.history['val_loss'], label='Validation')\n",
    "plt.title('Perdida durante entrenamiento - Modelo LSTM')\n",
    "plt.xlabel('Época')\n",
    "plt.ylabel('Loss')\n",
    "plt.legend()\n",
    "\n",
    "plt.subplot(1, 2, 2)\n",
    "plt.plot(history.history['mae'], label='Train')\n",
    "plt.plot(history.history['val_mae'], label='Validation')\n",
    "plt.title('MAE durante entrenamiento - Modelo LSTM')\n",
    "plt.xlabel('Epoca')\n",
    "plt.ylabel('MAE')\n",
    "plt.legend()\n",
    "\n",
    "plt.tight_layout()\n",
    "plt.show()"
   ]
  },
  {
   "cell_type": "code",
   "execution_count": null,
   "metadata": {
    "colab": {
     "base_uri": "https://localhost:8080/",
     "height": 525
    },
    "executionInfo": {
     "elapsed": 1072,
     "status": "ok",
     "timestamp": 1745475157277,
     "user": {
      "displayName": "Luis Carlos Fernández San Martín",
      "userId": "17447517186582912809"
     },
     "user_tz": -120
    },
    "id": "sjDjA7i6IHYz",
    "outputId": "f7c168a6-c4cc-4149-da07-959895382065"
   },
   "outputs": [],
   "source": [
    "y_pred_test_norm = modelo.predict(test_p[0])\n",
    "\n",
    "y_pred_test = scaler_pasajeros.inverse_transform(y_pred_test_norm.reshape(-1, 1)).flatten()\n",
    "y_test_real = scaler_pasajeros.inverse_transform(test_p[1].reshape(-1, 1)).flatten()\n",
    "\n",
    "import matplotlib.pyplot as plt\n",
    "\n",
    "plt.figure(figsize=(15, 5))\n",
    "plt.plot(y_test_real, label='Real', linewidth=2)\n",
    "plt.plot(y_pred_test, label='Predicho', linestyle='--')\n",
    "plt.title('Prediccion vs Real - Conjunto de Test')\n",
    "plt.xlabel('Dias')\n",
    "plt.ylabel('Total Pasajeros')\n",
    "plt.legend()\n",
    "plt.grid(True)\n",
    "plt.tight_layout()\n",
    "plt.show()\n"
   ]
  },
  {
   "cell_type": "markdown",
   "metadata": {
    "id": "tq17dJ0IeLh4"
   },
   "source": [
    "# Aqui empieza la Evaluación del modelo:"
   ]
  },
  {
   "cell_type": "code",
   "execution_count": null,
   "metadata": {
    "executionInfo": {
     "elapsed": 31,
     "status": "ok",
     "timestamp": 1745475157309,
     "user": {
      "displayName": "Luis Carlos Fernández San Martín",
      "userId": "17447517186582912809"
     },
     "user_tz": -120
    },
    "id": "m9gXiVHce1LP"
   },
   "outputs": [],
   "source": [
    "from sklearn.metrics import mean_squared_error, mean_absolute_error\n",
    "import numpy as np\n",
    "import matplotlib.pyplot as plt\n",
    "import pandas as pd\n",
    "import matplotlib.dates as mdates\n",
    "from math import sqrt"
   ]
  },
  {
   "cell_type": "code",
   "execution_count": null,
   "metadata": {
    "executionInfo": {
     "elapsed": 41,
     "status": "ok",
     "timestamp": 1745475157352,
     "user": {
      "displayName": "Luis Carlos Fernández San Martín",
      "userId": "17447517186582912809"
     },
     "user_tz": -120
    },
    "id": "cC1c0tfLev-q"
   },
   "outputs": [],
   "source": [
    "def calculate_metrics(y_true, y_pred):\n",
    "\n",
    "    rmse = sqrt(mean_squared_error(y_true, y_pred))\n",
    "\n",
    "    mae = mean_absolute_error(y_true, y_pred)\n",
    "\n",
    "    epsilon = 1e-10\n",
    "    mape = np.mean(np.abs((y_true - y_pred) / (y_true + epsilon))) * 100\n",
    "\n",
    "    ss_total = np.sum((y_true - np.mean(y_true)) ** 2)\n",
    "    ss_residual = np.sum((y_true - y_pred) ** 2)\n",
    "    r2 = 1 - (ss_residual / ss_total)\n",
    "\n",
    "    return {\n",
    "        'RMSE': rmse,\n",
    "        'MAE': mae,\n",
    "        'MAPE': mape,\n",
    "        'R²': r2\n",
    "    }"
   ]
  },
  {
   "cell_type": "code",
   "execution_count": null,
   "metadata": {
    "colab": {
     "base_uri": "https://localhost:8080/"
    },
    "executionInfo": {
     "elapsed": 6,
     "status": "ok",
     "timestamp": 1745475157359,
     "user": {
      "displayName": "Luis Carlos Fernández San Martín",
      "userId": "17447517186582912809"
     },
     "user_tz": -120
    },
    "id": "neQ07J3ye8lp",
    "outputId": "7d4a65cf-be94-4d62-a86a-b306c0d89b63"
   },
   "outputs": [],
   "source": [
    "metrics = calculate_metrics(y_test_real, y_pred_test)\n",
    "\n",
    "print(\"\\n===== Model Performance Metrics =====\")\n",
    "for metric_name, metric_value in metrics.items():\n",
    "    print(f\"{metric_name}: {metric_value:.4f}\")"
   ]
  },
  {
   "cell_type": "code",
   "execution_count": null,
   "metadata": {
    "executionInfo": {
     "elapsed": 10,
     "status": "ok",
     "timestamp": 1745475157371,
     "user": {
      "displayName": "Luis Carlos Fernández San Martín",
      "userId": "17447517186582912809"
     },
     "user_tz": -120
    },
    "id": "0SJip4d-e-y8"
   },
   "outputs": [],
   "source": [
    "def plot_predictions(y_true, y_pred, title=\"Predictions vs Actual Values\",\n",
    "                     dates=None, window_size=None):\n",
    "\n",
    "    plt.figure(figsize=(16, 8))\n",
    "\n",
    "    if window_size:\n",
    "        if len(y_true) > window_size:\n",
    "            start_idx = len(y_true) - window_size\n",
    "            y_true = y_true[start_idx:]\n",
    "            y_pred = y_pred[start_idx:]\n",
    "            if dates is not None:\n",
    "                dates = dates[start_idx:]\n",
    "\n",
    "    if dates is not None:\n",
    "        plt.plot(dates, y_true, 'b-', label='Actual', linewidth=2)\n",
    "        plt.plot(dates, y_pred, 'r--', label='Predicted', linewidth=2)\n",
    "        plt.gcf().autofmt_xdate()\n",
    "        plt.gca().xaxis.set_major_formatter(mdates.DateFormatter('%Y-%m-%d'))\n",
    "        plt.gca().xaxis.set_major_locator(mdates.WeekdayLocator(interval=2))\n",
    "    else:\n",
    "        plt.plot(y_true, 'b-', label='Actual', linewidth=2)\n",
    "        plt.plot(y_pred, 'r--', label='Predicted', linewidth=2)\n",
    "\n",
    "    metrics_text = \"\\n\".join([f\"{k}: {v:.4f}\" for k, v in metrics.items()])\n",
    "    plt.annotate(metrics_text, xy=(0.02, 0.85), xycoords='axes fraction',\n",
    "                 bbox=dict(boxstyle=\"round,pad=0.5\", fc=\"lightyellow\", alpha=0.8))\n",
    "\n",
    "    plt.title(title, fontsize=16)\n",
    "    plt.xlabel('Time', fontsize=12)\n",
    "    plt.ylabel('Passengers', fontsize=12)\n",
    "    plt.grid(True, linestyle='--', alpha=0.7)\n",
    "    plt.legend(loc='best', fontsize=12)\n",
    "    plt.tight_layout()\n",
    "\n",
    "    plt.figtext(0.5, 0.01, f\"Model Performance: RMSE={metrics['RMSE']:.2f}, MAE={metrics['MAE']:.2f}, MAPE={metrics['MAPE']:.2f}%\",\n",
    "                ha=\"center\", fontsize=12, bbox={\"facecolor\":\"orange\", \"alpha\":0.2, \"pad\":5})\n",
    "\n",
    "    return plt\n",
    "\n",
    "test_dates = df_pasajeros_daily['fecha_embarque'].iloc[-len(y_test_real):].values"
   ]
  },
  {
   "cell_type": "code",
   "execution_count": null,
   "metadata": {
    "colab": {
     "base_uri": "https://localhost:8080/",
     "height": 817
    },
    "executionInfo": {
     "elapsed": 348,
     "status": "ok",
     "timestamp": 1745475157721,
     "user": {
      "displayName": "Luis Carlos Fernández San Martín",
      "userId": "17447517186582912809"
     },
     "user_tz": -120
    },
    "id": "qIxFl0rNfEzZ",
    "outputId": "0b05ce9a-b45d-4ba9-840d-eb74745eb15b"
   },
   "outputs": [],
   "source": [
    "plot_predictions(y_test_real, y_pred_test,\n",
    "                title=\"LSTM Model: Passenger Predictions vs Actual Values (Full Test Set)\",\n",
    "                dates=test_dates)\n",
    "plt.show()"
   ]
  },
  {
   "cell_type": "code",
   "execution_count": null,
   "metadata": {
    "colab": {
     "base_uri": "https://localhost:8080/",
     "height": 817
    },
    "executionInfo": {
     "elapsed": 236,
     "status": "ok",
     "timestamp": 1745475157956,
     "user": {
      "displayName": "Luis Carlos Fernández San Martín",
      "userId": "17447517186582912809"
     },
     "user_tz": -120
    },
    "id": "iklXBrk6fSbd",
    "outputId": "6e59eede-9f4f-4fca-8365-83802599b14f"
   },
   "outputs": [],
   "source": [
    "plot_predictions(y_test_real, y_pred_test,\n",
    "                title=\"Prediccion de pasajeros vs Valores actuales (30 dias)\",\n",
    "                dates=test_dates, window_size=30)\n",
    "plt.show()"
   ]
  },
  {
   "cell_type": "code",
   "execution_count": null,
   "metadata": {
    "executionInfo": {
     "elapsed": 1,
     "status": "ok",
     "timestamp": 1745475157958,
     "user": {
      "displayName": "Luis Carlos Fernández San Martín",
      "userId": "17447517186582912809"
     },
     "user_tz": -120
    },
    "id": "zxxsVvCVfg-2"
   },
   "outputs": [],
   "source": [
    "daily_error = y_test_real - y_pred_test\n",
    "daily_pct_error = (daily_error / (y_test_real + 1e-10)) * 100  "
   ]
  },
  {
   "cell_type": "code",
   "execution_count": null,
   "metadata": {
    "colab": {
     "base_uri": "https://localhost:8080/",
     "height": 1000
    },
    "executionInfo": {
     "elapsed": 600,
     "status": "ok",
     "timestamp": 1745475158561,
     "user": {
      "displayName": "Luis Carlos Fernández San Martín",
      "userId": "17447517186582912809"
     },
     "user_tz": -120
    },
    "id": "aFV-69q2fik7",
    "outputId": "ce4f9d49-a496-4e9f-afa5-805a1ced4f2c"
   },
   "outputs": [],
   "source": [
    "plt.figure(figsize=(16, 12))\n",
    "\n",
    "plt.subplot(3, 1, 1)\n",
    "plt.plot(test_dates, daily_error, 'g-', linewidth=1.5)\n",
    "plt.axhline(y=0, color='r', linestyle='--')\n",
    "plt.title('Prediction Error Over Time', fontsize=14)\n",
    "plt.xlabel('Date')\n",
    "plt.ylabel('Error (Actual - Predicted)')\n",
    "plt.grid(True, linestyle='--', alpha=0.7)\n",
    "plt.gcf().autofmt_xdate()\n",
    "\n",
    "plt.subplot(3, 1, 2)\n",
    "plt.hist(daily_error, bins=30, color='teal', alpha=0.7)\n",
    "plt.axvline(x=0, color='r', linestyle='--')\n",
    "plt.title('Error Distribution Histogram', fontsize=14)\n",
    "plt.xlabel('Prediction Error')\n",
    "plt.ylabel('Frequency')\n",
    "plt.grid(True, linestyle='--', alpha=0.7)\n",
    "\n",
    "plt.subplot(3, 1, 3)\n",
    "plt.plot(test_dates, daily_pct_error, 'purple', linewidth=1.5)\n",
    "plt.axhline(y=0, color='r', linestyle='--')\n",
    "plt.title('Percentage Error Over Time', fontsize=14)\n",
    "plt.xlabel('Date')\n",
    "plt.ylabel('Percentage Error %')\n",
    "plt.grid(True, linestyle='--', alpha=0.7)\n",
    "plt.gcf().autofmt_xdate()\n",
    "\n",
    "plt.tight_layout()\n",
    "plt.show()"
   ]
  },
  {
   "cell_type": "code",
   "execution_count": null,
   "metadata": {
    "colab": {
     "base_uri": "https://localhost:8080/",
     "height": 807
    },
    "executionInfo": {
     "elapsed": 170,
     "status": "ok",
     "timestamp": 1745475158732,
     "user": {
      "displayName": "Luis Carlos Fernández San Martín",
      "userId": "17447517186582912809"
     },
     "user_tz": -120
    },
    "id": "S_BBGV3Mf2WW",
    "outputId": "4720c619-bd83-4bf0-b4ee-1f88e87fb0f8"
   },
   "outputs": [],
   "source": [
    "plt.figure(figsize=(10, 8))\n",
    "plt.scatter(y_test_real, y_pred_test, alpha=0.6)\n",
    "plt.plot([y_test_real.min(), y_test_real.max()],\n",
    "         [y_test_real.min(), y_test_real.max()], 'r--')\n",
    "plt.xlabel('Actual Values', fontsize=12)\n",
    "plt.ylabel('Predicted Values', fontsize=12)\n",
    "plt.title('LSTM Model: Scatter Plot of Predictions vs Actual Values', fontsize=14)\n",
    "plt.grid(True, linestyle='--', alpha=0.7)\n",
    "plt.tight_layout()\n",
    "plt.show()"
   ]
  },
  {
   "cell_type": "code",
   "execution_count": null,
   "metadata": {
    "executionInfo": {
     "elapsed": 2,
     "status": "ok",
     "timestamp": 1745475158735,
     "user": {
      "displayName": "Luis Carlos Fernández San Martín",
      "userId": "17447517186582912809"
     },
     "user_tz": -120
    },
    "id": "WPxe7QKqgDCE"
   },
   "outputs": [],
   "source": [
    "def permutation_importance(model, X, y, n_repeats=10):\n",
    "\n",
    "    baseline_prediction = model.predict(X)\n",
    "    baseline_score = mean_squared_error(y, baseline_prediction)\n",
    "\n",
    "    n_features = X.shape[2]\n",
    "    feature_names = [f'Feature_{i}' for i in range(n_features)]\n",
    "\n",
    "    importance_scores = {}\n",
    "\n",
    "    for feature_idx in range(n_features):\n",
    "        feature_importance = 0\n",
    "\n",
    "        for _ in range(n_repeats):\n",
    "            X_permuted = X.copy()\n",
    "\n",
    "            for seq_idx in range(X.shape[0]):\n",
    "                permuted_feature = X_permuted[seq_idx, :, feature_idx].copy()\n",
    "                np.random.shuffle(permuted_feature)\n",
    "                X_permuted[seq_idx, :, feature_idx] = permuted_feature\n",
    "\n",
    "            permuted_prediction = model.predict(X_permuted, verbose=0)\n",
    "            permuted_score = mean_squared_error(y, permuted_prediction)\n",
    "\n",
    "            feature_importance += (permuted_score - baseline_score)\n",
    "\n",
    "        importance_scores[feature_names[feature_idx]] = feature_importance / n_repeats\n",
    "\n",
    "    return importance_scores"
   ]
  },
  {
   "cell_type": "code",
   "execution_count": null,
   "metadata": {
    "colab": {
     "base_uri": "https://localhost:8080/",
     "height": 607
    },
    "executionInfo": {
     "elapsed": 164,
     "status": "ok",
     "timestamp": 1745475158902,
     "user": {
      "displayName": "Luis Carlos Fernández San Martín",
      "userId": "17447517186582912809"
     },
     "user_tz": -120
    },
    "id": "8DCUFVVcgEgj",
    "outputId": "833382ba-4f60-4543-fe34-7a1c2d523342"
   },
   "outputs": [],
   "source": [
    "plt.figure(figsize=(12, 6))\n",
    "plt.scatter(y_pred_test, daily_error, alpha=0.6)\n",
    "plt.axhline(y=0, color='r', linestyle='--')\n",
    "plt.title('Residual Analysis: Error vs Predicted Value', fontsize=14)\n",
    "plt.xlabel('Predicted Value', fontsize=12)\n",
    "plt.ylabel('Error (Actual - Predicted)', fontsize=12)\n",
    "plt.grid(True, linestyle='--', alpha=0.7)\n",
    "plt.tight_layout()\n",
    "plt.show()"
   ]
  },
  {
   "cell_type": "code",
   "execution_count": null,
   "metadata": {
    "colab": {
     "base_uri": "https://localhost:8080/"
    },
    "executionInfo": {
     "elapsed": 3,
     "status": "ok",
     "timestamp": 1745475158906,
     "user": {
      "displayName": "Luis Carlos Fernández San Martín",
      "userId": "17447517186582912809"
     },
     "user_tz": -120
    },
    "id": "6L4oR3wUgTd-",
    "outputId": "092ac322-e4fd-4698-b866-b1fde8156f18"
   },
   "outputs": [],
   "source": [
    "results_df = pd.DataFrame([metrics])\n",
    "print(\"\\nResumen Model Performance:\")\n",
    "print(results_df)"
   ]
  },
  {
   "cell_type": "code",
   "execution_count": null,
   "metadata": {
    "colab": {
     "base_uri": "https://localhost:8080/",
     "height": 1000
    },
    "executionInfo": {
     "elapsed": 166,
     "status": "ok",
     "timestamp": 1745475159081,
     "user": {
      "displayName": "Luis Carlos Fernández San Martín",
      "userId": "17447517186582912809"
     },
     "user_tz": -120
    },
    "id": "MJ0wY5mcgaTQ",
    "outputId": "a969221c-c240-4582-803d-6d5d14122131"
   },
   "outputs": [],
   "source": [
    "test_df = pd.DataFrame({\n",
    "    'date': test_dates,\n",
    "    'actual': y_test_real,\n",
    "    'predicted': y_pred_test,\n",
    "    'error': daily_error,\n",
    "    'pct_error': daily_pct_error\n",
    "})\n",
    "\n",
    "test_df['date'] = pd.to_datetime(test_df['date'])\n",
    "test_df['weekday'] = test_df['date'].dt.day_name()\n",
    "test_df['month'] = test_df['date'].dt.month_name()\n",
    "\n",
    "weekday_metrics = test_df.groupby('weekday').agg({\n",
    "    'error': ['mean', 'std'],\n",
    "    'pct_error': ['mean', 'std'],\n",
    "    'actual': 'mean'\n",
    "})\n",
    "\n",
    "monthly_metrics = test_df.groupby('month').agg({\n",
    "    'error': ['mean', 'std'],\n",
    "    'pct_error': ['mean', 'std'],\n",
    "    'actual': 'mean'\n",
    "})\n",
    "\n",
    "print(\"\\nError Metrics by Weekday:\")\n",
    "print(weekday_metrics)\n",
    "\n",
    "print(\"\\nError Metrics by Month:\")\n",
    "print(monthly_metrics)\n",
    "\n",
    "plt.figure(figsize=(14, 6))\n",
    "weekday_order = ['Monday', 'Tuesday', 'Wednesday', 'Thursday', 'Friday', 'Saturday', 'Sunday']\n",
    "weekday_data = test_df.groupby('weekday')['pct_error'].mean().reindex(weekday_order)\n",
    "\n",
    "plt.bar(weekday_data.index, weekday_data.values, alpha=0.7)\n",
    "plt.title('Average Percentage Error by Weekday', fontsize=14)\n",
    "plt.xlabel('Weekday', fontsize=12)\n",
    "plt.ylabel('Mean Percentage Error (%)', fontsize=12)\n",
    "plt.grid(True, axis='y', linestyle='--', alpha=0.7)\n",
    "plt.tight_layout()\n",
    "plt.show()"
   ]
  },
  {
   "cell_type": "code",
   "execution_count": null,
   "metadata": {
    "colab": {
     "base_uri": "https://localhost:8080/"
    },
    "executionInfo": {
     "elapsed": 3,
     "status": "ok",
     "timestamp": 1745475159085,
     "user": {
      "displayName": "Luis Carlos Fernández San Martín",
      "userId": "17447517186582912809"
     },
     "user_tz": -120
    },
    "id": "_t5zFhVJglVR",
    "outputId": "b9dc49a8-568e-4800-ac50-2328162436c6"
   },
   "outputs": [],
   "source": [
    "prediction_results = pd.DataFrame({\n",
    "    'date': test_dates,\n",
    "    'actual': y_test_real,\n",
    "    'predicted': y_pred_test,\n",
    "    'error': daily_error,\n",
    "    'percentage_error': daily_pct_error\n",
    "})\n",
    "\n",
    "print(\"\\nEvaluacion completada\")"
   ]
  }
 ],
 "metadata": {
  "accelerator": "GPU",
  "colab": {
   "authorship_tag": "ABX9TyOsZLbd7xxZOl4vgoc/Ptf6",
   "gpuType": "A100",
   "machine_shape": "hm",
   "provenance": []
  },
  "kernelspec": {
   "display_name": "Python 3",
   "name": "python3"
  },
  "language_info": {
   "name": "python"
  }
 },
 "nbformat": 4,
 "nbformat_minor": 0
}
