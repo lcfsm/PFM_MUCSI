{
 "cells": [
  {
   "cell_type": "code",
   "execution_count": null,
   "metadata": {
    "colab": {
     "base_uri": "https://localhost:8080/"
    },
    "executionInfo": {
     "elapsed": 1686,
     "status": "ok",
     "timestamp": 1744394413702,
     "user": {
      "displayName": "Luis Carlos Fernández San Martín",
      "userId": "17447517186582912809"
     },
     "user_tz": -120
    },
    "id": "IcKzTocy7Ls7",
    "outputId": "26bdaa5f-c4f4-4653-8fea-6fadb945d1c0"
   },
   "outputs": [],
   "source": [
    "from google.colab import drive\n",
    "drive.mount('/content/drive')"
   ]
  },
  {
   "cell_type": "code",
   "execution_count": 187,
   "metadata": {
    "executionInfo": {
     "elapsed": 1,
     "status": "ok",
     "timestamp": 1744394413703,
     "user": {
      "displayName": "Luis Carlos Fernández San Martín",
      "userId": "17447517186582912809"
     },
     "user_tz": -120
    },
    "id": "kzqYbuqY7VBm"
   },
   "outputs": [],
   "source": [
    "import pandas as pd\n",
    "import numpy as np\n",
    "from sklearn.preprocessing import MinMaxScaler"
   ]
  },
  {
   "cell_type": "code",
   "execution_count": 188,
   "metadata": {
    "executionInfo": {
     "elapsed": 67046,
     "status": "ok",
     "timestamp": 1744394480750,
     "user": {
      "displayName": "Luis Carlos Fernández San Martín",
      "userId": "17447517186582912809"
     },
     "user_tz": -120
    },
    "id": "M4Ul5r4B7XsO"
   },
   "outputs": [],
   "source": [
    "ruta_csv = \"/content/drive/MyDrive/3 - Master Computacion y Sistemas Inteligentes/PFM/Datasets/dataset_final_convariablesdedias.csv\"\n",
    "df = pd.read_csv(ruta_csv, low_memory=False)\n",
    "df[\"con_fecha\"] = pd.to_datetime(df[\"con_fecha\"], errors=\"coerce\")\n",
    "df[\"con_dateticket\"] = pd.to_datetime(df[\"con_dateticket\"], errors=\"coerce\")\n",
    "df['fecha_embarque'] = pd.to_datetime(df['fecha_embarque'], errors='coerce')"
   ]
  },
  {
   "cell_type": "code",
   "execution_count": null,
   "metadata": {
    "executionInfo": {
     "elapsed": 571,
     "status": "ok",
     "timestamp": 1744394481322,
     "user": {
      "displayName": "Luis Carlos Fernández San Martín",
      "userId": "17447517186582912809"
     },
     "user_tz": -120
    },
    "id": "wnyNEcE57bYr"
   },
   "outputs": [],
   "source": [
    "columnas_a_mantener = [\n",
    "    'fecha_embarque','tipo_agrupacion',\n",
    "    'dia_del_anio_sin', 'dia_del_anio_cos',\n",
    "    'dia_embarque_sin', 'dia_embarque_cos',\n",
    "    'hora_embarque_sin', 'hora_embarque_cos',\n",
    "    'is_weekend',\n",
    "    'mes_embarque_sin', 'mes_embarque_cos',\n",
    "    'week_of_year_sin', 'week_of_year_cos',\n",
    "    'season_1', 'season_2', 'season_3', 'season_4',\n",
    "    'is_festivo_nacional', 'is_festivo_local',\n",
    "    'is_eid_aladha', 'is_eid_aladha_prev', 'is_eid_aladha_post',\n",
    "    'is_eid_alfitr', 'is_eid_alfitr_prev', 'is_eid_alfitr_post',\n",
    "    'is_mawlid_nabi',\n",
    "    'is_monday', 'is_tuesday', 'is_wednesday', 'is_thursday',\n",
    "    'is_friday', 'is_saturday', 'is_sunday',\n",
    "    'weekday_sin', 'weekday_cos'\n",
    "]\n",
    "df = df[columnas_a_mantener]"
   ]
  },
  {
   "cell_type": "code",
   "execution_count": null,
   "metadata": {
    "colab": {
     "base_uri": "https://localhost:8080/"
    },
    "executionInfo": {
     "elapsed": 1277,
     "status": "ok",
     "timestamp": 1744394482600,
     "user": {
      "displayName": "Luis Carlos Fernández San Martín",
      "userId": "17447517186582912809"
     },
     "user_tz": -120
    },
    "id": "3a4KVFz8-Bpv",
    "outputId": "5a06fb7a-abcc-458c-8a09-861439b0029b"
   },
   "outputs": [],
   "source": [
    "df_pasajeros = df[df[\"tipo_agrupacion\"] == 1].copy()\n",
    "len(df_pasajeros)"
   ]
  },
  {
   "cell_type": "code",
   "execution_count": null,
   "metadata": {
    "colab": {
     "base_uri": "https://localhost:8080/"
    },
    "executionInfo": {
     "elapsed": 459,
     "status": "ok",
     "timestamp": 1744394483062,
     "user": {
      "displayName": "Luis Carlos Fernández San Martín",
      "userId": "17447517186582912809"
     },
     "user_tz": -120
    },
    "id": "b-Gn2wAy-Bc4",
    "outputId": "7015d7e5-d695-4a75-9f7f-0925de02ff09"
   },
   "outputs": [],
   "source": [
    "df_vehiculos = df[df[\"tipo_agrupacion\"] == 0].copy()\n",
    "len(df_vehiculos)"
   ]
  },
  {
   "cell_type": "code",
   "execution_count": null,
   "metadata": {
    "colab": {
     "base_uri": "https://localhost:8080/"
    },
    "executionInfo": {
     "elapsed": 299,
     "status": "ok",
     "timestamp": 1744394483364,
     "user": {
      "displayName": "Luis Carlos Fernández San Martín",
      "userId": "17447517186582912809"
     },
     "user_tz": -120
    },
    "id": "DgQC_Rsy-Gw1",
    "outputId": "22e4a6dc-afad-44fc-d832-a00e8e88dc1d"
   },
   "outputs": [],
   "source": [
    "print(\"\\n=== Verificación inicial de dias faltantes ===\")\n",
    "rango_esperado = pd.date_range(\n",
    "    start=df['fecha_embarque'].min(),\n",
    "    end=df['fecha_embarque'].max(),\n",
    "    freq='D'\n",
    ")\n",
    "fechas_presentes = df['fecha_embarque'].dt.normalize().unique()\n",
    "fechas_faltantes = rango_esperado.difference(fechas_presentes)\n",
    "\n",
    "print(f\"Rango temporal total: {rango_esperado.min().date()} a {rango_esperado.max().date()}\")\n",
    "print(f\"Dias esperados: {len(rango_esperado)} | Dias presentes: {len(fechas_presentes)}\")\n",
    "print(f\"Dias faltantes: {len(fechas_faltantes)}\")\n",
    "if len(fechas_faltantes) > 0:\n",
    "    print(\"Ejemplo de fechas faltantes:\", [f.date() for f in fechas_faltantes[:5]])"
   ]
  },
  {
   "cell_type": "code",
   "execution_count": null,
   "metadata": {
    "executionInfo": {
     "elapsed": 4,
     "status": "ok",
     "timestamp": 1744394483378,
     "user": {
      "displayName": "Luis Carlos Fernández San Martín",
      "userId": "17447517186582912809"
     },
     "user_tz": -120
    },
    "id": "YtX9MPtR-NHV"
   },
   "outputs": [],
   "source": [
    "def procesar_dataset_completo(df_original, df_filtrado, nombre_target):\n",
    "    rango_fechas = pd.date_range(\n",
    "        start=df_original['fecha_embarque'].min(),\n",
    "        end=df_original['fecha_embarque'].max(),\n",
    "        freq='D'\n",
    "    )\n",
    "\n",
    "    df_daily = (\n",
    "        df_filtrado.groupby('fecha_embarque')\n",
    "        .size()\n",
    "        .reindex(rango_fechas, fill_value=0)\n",
    "        .reset_index(name=nombre_target)\n",
    "        .rename(columns={'index': 'fecha_embarque'})\n",
    "    )\n",
    "\n",
    "    df_temp = (\n",
    "        df_original.drop(columns=['tipo_agrupacion'])\n",
    "        .drop_duplicates('fecha_embarque')\n",
    "        .set_index('fecha_embarque')\n",
    "        .reindex(rango_fechas)\n",
    "        .reset_index()\n",
    "        .rename(columns={'index': 'fecha_embarque'})\n",
    "    )\n",
    "\n",
    "    cols_categoricas = ['is_weekend', 'is_festivo_nacional', 'is_festivo_local',\n",
    "                       'is_eid_aladha', 'is_eid_aladha_prev', 'is_eid_aladha_post',\n",
    "                       'is_eid_alfitr', 'is_eid_alfitr_prev', 'is_eid_alfitr_post',\n",
    "                       'is_mawlid_nabi', 'season_1', 'season_2', 'season_3', 'season_4',\n",
    "                       'is_monday', 'is_tuesday', 'is_wednesday', 'is_thursday',\n",
    "                       'is_friday', 'is_saturday', 'is_sunday']\n",
    "\n",
    "    for col in cols_categoricas:\n",
    "        df_temp[col] = df_temp[col].fillna(method='ffill').fillna(0)\n",
    "\n",
    "    df_temp['dia_del_anio'] = df_temp['fecha_embarque'].dt.dayofyear\n",
    "    df_temp['dia_del_anio_sin'] = np.sin(2 * np.pi * df_temp['dia_del_anio']/365)\n",
    "    df_temp['dia_del_anio_cos'] = np.cos(2 * np.pi * df_temp['dia_del_anio']/365)\n",
    "\n",
    "    df_temp['dia_embarque'] = df_temp['fecha_embarque'].dt.day\n",
    "    df_temp['dia_embarque_sin'] = np.sin(2 * np.pi * df_temp['dia_embarque']/31)\n",
    "    df_temp['dia_embarque_cos'] = np.cos(2 * np.pi * df_temp['dia_embarque']/31)\n",
    "\n",
    "    df_temp['mes_embarque'] = df_temp['fecha_embarque'].dt.month\n",
    "    df_temp['mes_embarque_sin'] = np.sin(2 * np.pi * df_temp['mes_embarque']/12)\n",
    "    df_temp['mes_embarque_cos'] = np.cos(2 * np.pi * df_temp['mes_embarque']/12)\n",
    "\n",
    "    df_temp['week_of_year'] = df_temp['fecha_embarque'].dt.isocalendar().week\n",
    "    df_temp['week_of_year_sin'] = np.sin(2 * np.pi * df_temp['week_of_year']/52)\n",
    "    df_temp['week_of_year_cos'] = np.cos(2 * np.pi * df_temp['week_of_year']/52)\n",
    "\n",
    "    if df_temp['weekday_sin'].isna().any() or df_temp['weekday_cos'].isna().any():\n",
    "        df_temp['weekday'] = df_temp['fecha_embarque'].dt.weekday \n",
    "        df_temp['weekday_sin'] = np.sin(2 * np.pi * df_temp['weekday']/7)\n",
    "        df_temp['weekday_cos'] = np.cos(2 * np.pi * df_temp['weekday']/7)\n",
    "        df_temp = df_temp.drop(columns=['weekday'])\n",
    "\n",
    "    df_temp = df_temp.drop(columns=['dia_del_anio', 'dia_embarque', 'mes_embarque', 'week_of_year'])\n",
    "\n",
    "    df_final = pd.merge(\n",
    "        df_temp,\n",
    "        df_daily,\n",
    "        on='fecha_embarque',\n",
    "        how='left'\n",
    "    ).fillna({nombre_target: 0})\n",
    "\n",
    "    df_final = df_final.sort_values('fecha_embarque')\n",
    "\n",
    "    diferencia = np.diff(df_final['fecha_embarque'].values)\n",
    "    assert all(d == np.timedelta64(1, 'D') for d in diferencia), \"Error: Aun hay huecos temporales\"\n",
    "\n",
    "    scaler = MinMaxScaler()\n",
    "    df_final[f'{nombre_target}_norm'] = scaler.fit_transform(df_final[[nombre_target]])\n",
    "\n",
    "    df_final = df_final.fillna(0)\n",
    "\n",
    "    return df_final, scaler"
   ]
  },
  {
   "cell_type": "code",
   "execution_count": null,
   "metadata": {
    "colab": {
     "base_uri": "https://localhost:8080/"
    },
    "executionInfo": {
     "elapsed": 3296,
     "status": "ok",
     "timestamp": 1744394486676,
     "user": {
      "displayName": "Luis Carlos Fernández San Martín",
      "userId": "17447517186582912809"
     },
     "user_tz": -120
    },
    "id": "ydYN8ER9-RDA",
    "outputId": "bf971acc-1fa8-41d4-bd1b-466476c639f9"
   },
   "outputs": [],
   "source": [
    "df_pasajeros = df[df[\"tipo_agrupacion\"] == 1].copy()\n",
    "df_vehiculos = df[df[\"tipo_agrupacion\"] == 0].copy()\n",
    "\n",
    "df_pasajeros_daily, scaler_pasajeros = procesar_dataset_completo(df, df_pasajeros, 'total_pasajeros')\n",
    "df_vehiculos_daily, scaler_vehiculos = procesar_dataset_completo(df, df_vehiculos, 'total_vehiculos')"
   ]
  },
  {
   "cell_type": "code",
   "execution_count": null,
   "metadata": {
    "colab": {
     "base_uri": "https://localhost:8080/"
    },
    "executionInfo": {
     "elapsed": 1426,
     "status": "ok",
     "timestamp": 1744394488126,
     "user": {
      "displayName": "Luis Carlos Fernández San Martín",
      "userId": "17447517186582912809"
     },
     "user_tz": -120
    },
    "id": "txKtidr2-VOX",
    "outputId": "349c7e6d-baa6-4fa1-a342-ab47596c5588"
   },
   "outputs": [],
   "source": [
    "def crear_secuencias(df, target_col, lookback=7):\n",
    "    \"\"\"Crea secuencias asegurando tipo float32.\"\"\"\n",
    "    features = df.columns.difference(['fecha_embarque', target_col, f'{target_col}_norm'])\n",
    "    X, y = [], []\n",
    "    for i in range(lookback, len(df)):\n",
    "        X_seq = df.iloc[i-lookback:i][features].values.astype('float32')\n",
    "        X.append(X_seq)\n",
    "        y.append(df.iloc[i][f'{target_col}_norm'])\n",
    "    return np.array(X, dtype='float32'), np.array(y, dtype='float32')\n",
    "\n",
    "LOOKBACK = 7\n",
    "X_pasajeros, y_pasajeros = crear_secuencias(df_pasajeros_daily, 'total_pasajeros', LOOKBACK)\n",
    "X_vehiculos, y_vehiculos = crear_secuencias(df_vehiculos_daily, 'total_vehiculos', LOOKBACK)\n",
    "\n",
    "print(\"Tipo de X_pasajeros:\", X_pasajeros.dtype) "
   ]
  },
  {
   "cell_type": "code",
   "execution_count": null,
   "metadata": {
    "executionInfo": {
     "elapsed": 1,
     "status": "ok",
     "timestamp": 1744394488128,
     "user": {
      "displayName": "Luis Carlos Fernández San Martín",
      "userId": "17447517186582912809"
     },
     "user_tz": -120
    },
    "id": "zScaSPw7-XyQ"
   },
   "outputs": [],
   "source": [
    "def split_temporal(X, y, ratios=(0.7, 0.15, 0.15)):\n",
    "    train_end = int(len(X) * ratios[0])\n",
    "    val_end = train_end + int(len(X) * ratios[1])\n",
    "    return (X[:train_end], y[:train_end]), (X[train_end:val_end], y[train_end:val_end]), (X[val_end:], y[val_end:])\n",
    "\n",
    "(train_p, val_p, test_p) = split_temporal(X_pasajeros, y_pasajeros)\n",
    "(train_v, val_v, test_v) = split_temporal(X_vehiculos, y_vehiculos)\n"
   ]
  },
  {
   "cell_type": "code",
   "execution_count": null,
   "metadata": {
    "colab": {
     "base_uri": "https://localhost:8080/"
    },
    "executionInfo": {
     "elapsed": 48,
     "status": "ok",
     "timestamp": 1744394488177,
     "user": {
      "displayName": "Luis Carlos Fernández San Martín",
      "userId": "17447517186582912809"
     },
     "user_tz": -120
    },
    "id": "zKVOztds7gEj",
    "outputId": "ac0674bb-aa4a-47cc-f403-c97457ae21c1"
   },
   "outputs": [],
   "source": [
    "print(\"\\n=== Verificacion de Integridad ===\")\n",
    "print(f\"Fechas unicas en original: {len(df['fecha_embarque'].unique())}\")\n",
    "print(f\"Fechas en pasajeros: {len(df_pasajeros_daily)} (deberían ser iguales)\")\n",
    "print(f\"Fechas en vehículos: {len(df_vehiculos_daily)} (deberían ser iguales)\")\n",
    "\n",
    "def print_date_ranges(df_daily, split_points, name=\"\"):\n",
    "    print(f\"\\n=== Rangos temporales {name} ===\")\n",
    "    print(f\"Train: {df_daily['fecha_embarque'].iloc[0].date()} a {df_daily['fecha_embarque'].iloc[split_points[0]-1].date()}\")\n",
    "    print(f\"Val: {df_daily['fecha_embarque'].iloc[split_points[0]].date()} a {df_daily['fecha_embarque'].iloc[split_points[1]-1].date()}\")\n",
    "    print(f\"Test: {df_daily['fecha_embarque'].iloc[split_points[1]].date()} a {df_daily['fecha_embarque'].iloc[-1].date()}\")\n",
    "\n",
    "train_end_p = int(len(X_pasajeros) * 0.7)\n",
    "val_end_p = train_end_p + int(len(X_pasajeros) * 0.15)\n",
    "print_date_ranges(df_pasajeros_daily, [train_end_p, val_end_p], \"Pasajeros\")\n",
    "\n",
    "train_end_v = int(len(X_vehiculos) * 0.7)\n",
    "val_end_v = train_end_v + int(len(X_vehiculos) * 0.15)\n",
    "print_date_ranges(df_vehiculos_daily, [train_end_v, val_end_v], \"Vehiculos\")\n",
    "\n",
    "def check_temporal_continuity(df_daily, train_end, val_end):\n",
    "    gap_train_val = (df_daily['fecha_embarque'].iloc[train_end] - df_daily['fecha_embarque'].iloc[train_end-1]).days\n",
    "    gap_val_test = (df_daily['fecha_embarque'].iloc[val_end] - df_daily['fecha_embarque'].iloc[val_end-1]).days\n",
    "    print(f\"\\nSeparacion Train-Val: {gap_train_val} días (deberia ser 1 o 0)\")\n",
    "    print(f\"Separacion Val-Test: {gap_val_test} días (deberia ser 1 o 0)\")\n",
    "\n",
    "check_temporal_continuity(df_pasajeros_daily, train_end_p, val_end_p)\n",
    "\n",
    "print(\"\\n=== Shapes finales ===\")\n",
    "print(f\"Pasajeros - X: {X_pasajeros.shape}, y: {y_pasajeros.shape}\")\n",
    "print(f\"Vehículos - X: {X_vehiculos.shape}, y: {y_vehiculos.shape}\")\n",
    "\n",
    "def check_normalization(y_train, y_val, y_test):\n",
    "    print(\"\\n=== Verificacion de Normalizacion ===\")\n",
    "    print(f\"Train Y - Min: {y_train.min():.2f}, Max: {y_train.max():.2f}\")\n",
    "    print(f\"Val Y - Min: {y_val.min():.2f}, Max: {y_val.max():.2f}\")\n",
    "    print(f\"Test Y - Min: {y_test.min():.2f}, Max: {y_test.max():.2f}\")\n",
    "    assert all(0.0 <= y <= 1.0 for y in y_train), \"Error: Train Y no esta normalizado\"\n",
    "    assert all(0.0 <= y <= 1.0 for y in y_val), \"Error: Val Y no esta normalizado\"\n",
    "\n",
    "check_normalization(train_p[1], val_p[1], test_p[1])\n",
    "\n",
    "print(\"\\nProceso completado Dataset listo para el modelo LSTM.\")\n",
    "\n",
    "def check_sequence_shapes(X, y, lookback=7, n_features=33):  \n",
    "    print(f\"Shape de X: {X.shape} (esperado: (n_samples, {lookback}, {n_features}))\")\n",
    "    print(f\"Shape de y: {y.shape} (esperado: (n_samples,))\")\n",
    "    assert X.shape[2] == n_features, f\"Error: X tiene {X.shape[2]} features, pero se esperaban {n_features}\"\n",
    "\n",
    "check_sequence_shapes(X_pasajeros, y_pasajeros)\n",
    "\n",
    "def check_lookback_coverage(df_daily, train_end, val_end, lookback=7):\n",
    "    first_val_date = df_daily['fecha_embarque'].iloc[train_end]\n",
    "    start_date = first_val_date - pd.Timedelta(days=lookback)\n",
    "    required_train_dates = pd.date_range(start=start_date, end=first_val_date - pd.Timedelta(days=1))\n",
    "    missing_dates = [d for d in required_train_dates if d not in df_daily['fecha_embarque'].iloc[:train_end].values]\n",
    "\n",
    "    if not missing_dates:\n",
    "        print(\"Lookback correcto: Val comienza con contexto suficiente\")\n",
    "    else:\n",
    "        print(f\"Error: Faltan {len(missing_dates)} dias para el lookback de Val\")\n",
    "\n",
    "check_lookback_coverage(df_pasajeros_daily, train_end_p, val_end_p)\n"
   ]
  },
  {
   "cell_type": "markdown",
   "metadata": {
    "id": "Vq65VhYWFL8y"
   },
   "source": [
    "# **Aqui empieza la parte de generacion del modelo**\n"
   ]
  },
  {
   "cell_type": "code",
   "execution_count": null,
   "metadata": {
    "executionInfo": {
     "elapsed": 1,
     "status": "ok",
     "timestamp": 1744394488185,
     "user": {
      "displayName": "Luis Carlos Fernández San Martín",
      "userId": "17447517186582912809"
     },
     "user_tz": -120
    },
    "id": "UToPEGcvFLun"
   },
   "outputs": [],
   "source": [
    "import tensorflow as tf\n",
    "from tensorflow.keras.models import Sequential\n",
    "from tensorflow.keras.layers import LSTM, Dense, Dropout, BatchNormalization, Bidirectional\n",
    "from tensorflow.keras.callbacks import EarlyStopping, ModelCheckpoint, ReduceLROnPlateau\n",
    "from tensorflow.keras.optimizers import Adam\n",
    "import matplotlib.pyplot as plt\n",
    "import numpy as np"
   ]
  },
  {
   "cell_type": "code",
   "execution_count": null,
   "metadata": {
    "executionInfo": {
     "elapsed": 47,
     "status": "ok",
     "timestamp": 1744394488237,
     "user": {
      "displayName": "Luis Carlos Fernández San Martín",
      "userId": "17447517186582912809"
     },
     "user_tz": -120
    },
    "id": "0K0nC31PnIIA"
   },
   "outputs": [],
   "source": [
    "def crear_modelo_lstm(input_shape, dropout_rate=0.1, lstm_units=64, bidirectional=True):\n",
    "    model = Sequential()\n",
    "\n",
    "    if bidirectional:\n",
    "        model.add(Bidirectional(LSTM(lstm_units, return_sequences=True), input_shape=input_shape))\n",
    "    else:\n",
    "        model.add(LSTM(lstm_units, return_sequences=True, input_shape=input_shape))\n",
    "\n",
    "    model.add(BatchNormalization())\n",
    "    model.add(Dropout(dropout_rate))\n",
    "\n",
    "    if bidirectional:\n",
    "        model.add(Bidirectional(LSTM(lstm_units // 2)))\n",
    "    else:\n",
    "        model.add(LSTM(lstm_units // 2))\n",
    "\n",
    "    model.add(BatchNormalization())\n",
    "    model.add(Dropout(dropout_rate))\n",
    "\n",
    "    model.add(Dense(64, activation='relu')) \n",
    "    model.add(BatchNormalization())\n",
    "\n",
    "    model.add(Dense(1, activation='sigmoid'))\n",
    "\n",
    "    return model"
   ]
  },
  {
   "cell_type": "code",
   "execution_count": null,
   "metadata": {
    "colab": {
     "base_uri": "https://localhost:8080/",
     "height": 572
    },
    "executionInfo": {
     "elapsed": 158,
     "status": "ok",
     "timestamp": 1744394488396,
     "user": {
      "displayName": "Luis Carlos Fernández San Martín",
      "userId": "17447517186582912809"
     },
     "user_tz": -120
    },
    "id": "oAnZVlD5FKRR",
    "outputId": "2cdfbb11-a27c-4e78-ec2d-c84807955ecd"
   },
   "outputs": [],
   "source": [
    "def compilar_modelo(model):\n",
    "\n",
    "    model.compile(\n",
    "        optimizer=Adam(learning_rate=0.001),\n",
    "        loss='mean_squared_error',\n",
    "        metrics=['mae']\n",
    "    )\n",
    "\n",
    "    return model\n",
    "\n",
    "input_shape = (train_p[0].shape[1], train_p[0].shape[2]) \n",
    "print(f\"Input shape para el modelo: {input_shape}\")\n",
    "\n",
    "modelo = crear_modelo_lstm(input_shape)\n",
    "\n",
    "modelo = compilar_modelo(modelo)\n",
    "\n",
    "modelo.summary()"
   ]
  },
  {
   "cell_type": "code",
   "execution_count": null,
   "metadata": {
    "colab": {
     "base_uri": "https://localhost:8080/"
    },
    "executionInfo": {
     "elapsed": 8,
     "status": "ok",
     "timestamp": 1744394488405,
     "user": {
      "displayName": "Luis Carlos Fernández San Martín",
      "userId": "17447517186582912809"
     },
     "user_tz": -120
    },
    "id": "I_jHfXPBH73E",
    "outputId": "386055d9-0cc4-4642-8824-1504599663db"
   },
   "outputs": [],
   "source": [
    "def crear_callbacks(model_name):\n",
    "\n",
    "    early_stopping = EarlyStopping(\n",
    "        monitor='val_loss',\n",
    "        patience=10,\n",
    "        restore_best_weights=True,\n",
    "        verbose=1\n",
    "    )\n",
    "\n",
    "    checkpoint = ModelCheckpoint(\n",
    "        f'/content/drive/MyDrive/3 - Master Computacion y Sistemas Inteligentes/PFM/Modelos/{model_name}.h5',\n",
    "        monitor='val_loss',\n",
    "        save_best_only=True,\n",
    "        verbose=1\n",
    "    )\n",
    "\n",
    "    reduce_lr = ReduceLROnPlateau(\n",
    "        monitor='val_loss',\n",
    "        factor=0.2,\n",
    "        patience=5,\n",
    "        min_lr=1e-6,\n",
    "        verbose=1\n",
    "    )\n",
    "\n",
    "    return [early_stopping, checkpoint, reduce_lr]\n",
    "\n",
    "callbacks = crear_callbacks(\"lstm_model_pasajeros\")\n",
    "print(\"NaN en train_p[0]:\", np.isnan(train_p[0]).any())\n",
    "print(\"Forma de train_p[0]:\", train_p[0].shape) "
   ]
  },
  {
   "cell_type": "code",
   "execution_count": null,
   "metadata": {
    "colab": {
     "base_uri": "https://localhost:8080/"
    },
    "executionInfo": {
     "elapsed": 3,
     "status": "ok",
     "timestamp": 1744394488408,
     "user": {
      "displayName": "Luis Carlos Fernández San Martín",
      "userId": "17447517186582912809"
     },
     "user_tz": -120
    },
    "id": "kLcbM6cUVOCX",
    "outputId": "e7adf0e7-ea97-4824-d401-d3b612e4aaba"
   },
   "outputs": [],
   "source": [
    "nan_mask = np.isnan(train_p[0])\n",
    "print(\"Shape de nan_mask:\", nan_mask.shape)\n",
    "print(\"Numero total de NaN:\", nan_mask.sum())\n",
    "\n",
    "for i in range(train_p[0].shape[0]):\n",
    "    if np.isnan(train_p[0][i]).any():\n",
    "        print(f\"Secuencia {i} contiene NaN\")\n",
    "        print(train_p[0][i])\n",
    "        break\n"
   ]
  },
  {
   "cell_type": "code",
   "execution_count": null,
   "metadata": {
    "colab": {
     "base_uri": "https://localhost:8080/"
    },
    "executionInfo": {
     "elapsed": 3,
     "status": "ok",
     "timestamp": 1744394488412,
     "user": {
      "displayName": "Luis Carlos Fernández San Martín",
      "userId": "17447517186582912809"
     },
     "user_tz": -120
    },
    "id": "x2T5zIL8Lm9M",
    "outputId": "7c327776-2f9c-4a9e-e4a7-c3116165c626"
   },
   "outputs": [],
   "source": [
    "print(\"Tipo de datos de train_p[0]:\", train_p[0].dtype)\n",
    "print(\"Tipo de datos de train_p[1]:\", train_p[1].dtype)\n",
    "print(\"Tipo de datos de val_p[0]:\", val_p[0].dtype)\n",
    "print(\"Tipo de datos de val_p[1]:\", val_p[1].dtype)"
   ]
  },
  {
   "cell_type": "code",
   "execution_count": null,
   "metadata": {
    "colab": {
     "base_uri": "https://localhost:8080/"
    },
    "executionInfo": {
     "elapsed": 18783,
     "status": "ok",
     "timestamp": 1744394507196,
     "user": {
      "displayName": "Luis Carlos Fernández San Martín",
      "userId": "17447517186582912809"
     },
     "user_tz": -120
    },
    "id": "X1FKZl4aIICh",
    "outputId": "0d360428-9d2c-48bf-c4cd-f2f6b82b2b88"
   },
   "outputs": [],
   "source": [
    "history = modelo.fit(\n",
    "    train_p[0], train_p[1],\n",
    "    validation_data=(val_p[0], val_p[1]),\n",
    "    epochs=100,\n",
    "    batch_size=32,\n",
    "    callbacks=callbacks,\n",
    "    verbose=1\n",
    ")\n",
    "\n",
    "import pickle\n",
    "with open('/content/drive/MyDrive/3 - Master Computacion y Sistemas Inteligentes/PFM/Modelos/history_lstm_pasajeros.pkl', 'wb') as f:\n",
    "    pickle.dump(history.history, f)"
   ]
  },
  {
   "cell_type": "code",
   "execution_count": null,
   "metadata": {
    "colab": {
     "base_uri": "https://localhost:8080/",
     "height": 0
    },
    "executionInfo": {
     "elapsed": 338,
     "status": "ok",
     "timestamp": 1744394507560,
     "user": {
      "displayName": "Luis Carlos Fernández San Martín",
      "userId": "17447517186582912809"
     },
     "user_tz": -120
    },
    "id": "pZZIEhlaIH4-",
    "outputId": "74a12126-95ab-4322-a517-6f6c34e66f9c"
   },
   "outputs": [],
   "source": [
    "plt.figure(figsize=(15, 5))\n",
    "\n",
    "plt.subplot(1, 2, 1)\n",
    "plt.plot(history.history['loss'], label='Train')\n",
    "plt.plot(history.history['val_loss'], label='Validation')\n",
    "plt.title('Pérdida durante entrenamiento - Modelo LSTM')\n",
    "plt.xlabel('Época')\n",
    "plt.ylabel('Loss')\n",
    "plt.legend()\n",
    "\n",
    "plt.subplot(1, 2, 2)\n",
    "plt.plot(history.history['mae'], label='Train')\n",
    "plt.plot(history.history['val_mae'], label='Validation')\n",
    "plt.title('MAE durante entrenamiento - Modelo LSTM')\n",
    "plt.xlabel('Época')\n",
    "plt.ylabel('MAE')\n",
    "plt.legend()\n",
    "\n",
    "plt.tight_layout()\n",
    "plt.show()"
   ]
  },
  {
   "cell_type": "code",
   "execution_count": null,
   "metadata": {
    "colab": {
     "base_uri": "https://localhost:8080/",
     "height": 420
    },
    "executionInfo": {
     "elapsed": 1035,
     "status": "ok",
     "timestamp": 1744394508596,
     "user": {
      "displayName": "Luis Carlos Fernández San Martín",
      "userId": "17447517186582912809"
     },
     "user_tz": -120
    },
    "id": "sjDjA7i6IHYz",
    "outputId": "7eb0b202-aab4-4011-958e-46a0ef5b345f"
   },
   "outputs": [],
   "source": [
    "y_pred_test_norm = modelo.predict(test_p[0])\n",
    "\n",
    "y_pred_test = scaler_pasajeros.inverse_transform(y_pred_test_norm.reshape(-1, 1)).flatten()\n",
    "y_test_real = scaler_pasajeros.inverse_transform(test_p[1].reshape(-1, 1)).flatten()\n",
    "\n",
    "import matplotlib.pyplot as plt\n",
    "\n",
    "plt.figure(figsize=(15, 5))\n",
    "plt.plot(y_test_real, label='Real', linewidth=2)\n",
    "plt.plot(y_pred_test, label='Predicho', linestyle='--')\n",
    "plt.title('Prediccion vs Real - Conjunto de Test')\n",
    "plt.xlabel('Dias')\n",
    "plt.ylabel('Total Pasajeros')\n",
    "plt.legend()\n",
    "plt.grid(True)\n",
    "plt.tight_layout()\n",
    "plt.show()\n"
   ]
  },
  {
   "cell_type": "markdown",
   "metadata": {
    "id": "tq17dJ0IeLh4"
   },
   "source": [
    "# Aqui empieza la Evaluación del modelo:"
   ]
  },
  {
   "cell_type": "code",
   "execution_count": null,
   "metadata": {
    "executionInfo": {
     "elapsed": 3,
     "status": "ok",
     "timestamp": 1744394508601,
     "user": {
      "displayName": "Luis Carlos Fernández San Martín",
      "userId": "17447517186582912809"
     },
     "user_tz": -120
    },
    "id": "m9gXiVHce1LP"
   },
   "outputs": [],
   "source": [
    "from sklearn.metrics import mean_squared_error, mean_absolute_error\n",
    "import numpy as np\n",
    "import matplotlib.pyplot as plt\n",
    "import pandas as pd\n",
    "import matplotlib.dates as mdates\n",
    "from math import sqrt"
   ]
  },
  {
   "cell_type": "code",
   "execution_count": null,
   "metadata": {
    "executionInfo": {
     "elapsed": 1,
     "status": "ok",
     "timestamp": 1744394508603,
     "user": {
      "displayName": "Luis Carlos Fernández San Martín",
      "userId": "17447517186582912809"
     },
     "user_tz": -120
    },
    "id": "cC1c0tfLev-q"
   },
   "outputs": [],
   "source": [
    "def calculate_metrics(y_true, y_pred):\n",
    "\n",
    "    rmse = sqrt(mean_squared_error(y_true, y_pred))\n",
    "\n",
    "    mae = mean_absolute_error(y_true, y_pred)\n",
    "\n",
    "    epsilon = 1e-10\n",
    "    mape = np.mean(np.abs((y_true - y_pred) / (y_true + epsilon))) * 100\n",
    "\n",
    "    ss_total = np.sum((y_true - np.mean(y_true)) ** 2)\n",
    "    ss_residual = np.sum((y_true - y_pred) ** 2)\n",
    "    r2 = 1 - (ss_residual / ss_total)\n",
    "\n",
    "    return {\n",
    "        'RMSE': rmse,\n",
    "        'MAE': mae,\n",
    "        'MAPE': mape,\n",
    "        'R²': r2\n",
    "    }"
   ]
  },
  {
   "cell_type": "code",
   "execution_count": null,
   "metadata": {
    "colab": {
     "base_uri": "https://localhost:8080/"
    },
    "executionInfo": {
     "elapsed": 7,
     "status": "ok",
     "timestamp": 1744394508611,
     "user": {
      "displayName": "Luis Carlos Fernández San Martín",
      "userId": "17447517186582912809"
     },
     "user_tz": -120
    },
    "id": "neQ07J3ye8lp",
    "outputId": "7f88c2bd-902c-4c64-e46d-6b67ee50901e"
   },
   "outputs": [],
   "source": [
    "metrics = calculate_metrics(y_test_real, y_pred_test)\n",
    "\n",
    "print(\"\\n===== Model Performance Metrics =====\")\n",
    "for metric_name, metric_value in metrics.items():\n",
    "    print(f\"{metric_name}: {metric_value:.4f}\")"
   ]
  },
  {
   "cell_type": "code",
   "execution_count": null,
   "metadata": {
    "executionInfo": {
     "elapsed": 9,
     "status": "ok",
     "timestamp": 1744394508620,
     "user": {
      "displayName": "Luis Carlos Fernández San Martín",
      "userId": "17447517186582912809"
     },
     "user_tz": -120
    },
    "id": "0SJip4d-e-y8"
   },
   "outputs": [],
   "source": [
    "def plot_predictions(y_true, y_pred, title=\"Predictions vs Actual Values\",\n",
    "                     dates=None, window_size=None):\n",
    "    plt.figure(figsize=(16, 8))\n",
    "\n",
    "    if window_size:\n",
    "        if len(y_true) > window_size:\n",
    "            start_idx = len(y_true) - window_size\n",
    "            y_true = y_true[start_idx:]\n",
    "            y_pred = y_pred[start_idx:]\n",
    "            if dates is not None:\n",
    "                dates = dates[start_idx:]\n",
    "\n",
    "    if dates is not None:\n",
    "        plt.plot(dates, y_true, 'b-', label='Actual', linewidth=2)\n",
    "        plt.plot(dates, y_pred, 'r--', label='Predicted', linewidth=2)\n",
    "        plt.gcf().autofmt_xdate()\n",
    "        plt.gca().xaxis.set_major_formatter(mdates.DateFormatter('%Y-%m-%d'))\n",
    "        plt.gca().xaxis.set_major_locator(mdates.WeekdayLocator(interval=2))\n",
    "    else:\n",
    "        plt.plot(y_true, 'b-', label='Actual', linewidth=2)\n",
    "        plt.plot(y_pred, 'r--', label='Predicted', linewidth=2)\n",
    "\n",
    "    metrics_text = \"\\n\".join([f\"{k}: {v:.4f}\" for k, v in metrics.items()])\n",
    "    plt.annotate(metrics_text, xy=(0.02, 0.85), xycoords='axes fraction',\n",
    "                 bbox=dict(boxstyle=\"round,pad=0.5\", fc=\"lightyellow\", alpha=0.8))\n",
    "\n",
    "    plt.title(title, fontsize=16)\n",
    "    plt.xlabel('Time', fontsize=12)\n",
    "    plt.ylabel('Passengers', fontsize=12)\n",
    "    plt.grid(True, linestyle='--', alpha=0.7)\n",
    "    plt.legend(loc='best', fontsize=12)\n",
    "    plt.tight_layout()\n",
    "\n",
    "    plt.figtext(0.5, 0.01, f\"Model Performance: RMSE={metrics['RMSE']:.2f}, MAE={metrics['MAE']:.2f}, MAPE={metrics['MAPE']:.2f}%\",\n",
    "                ha=\"center\", fontsize=12, bbox={\"facecolor\":\"orange\", \"alpha\":0.2, \"pad\":5})\n",
    "\n",
    "    return plt\n",
    "\n",
    "test_dates = df_pasajeros_daily['fecha_embarque'].iloc[-len(y_test_real):].values"
   ]
  },
  {
   "cell_type": "code",
   "execution_count": null,
   "metadata": {
    "colab": {
     "base_uri": "https://localhost:8080/",
     "height": 0
    },
    "executionInfo": {
     "elapsed": 342,
     "status": "ok",
     "timestamp": 1744394508962,
     "user": {
      "displayName": "Luis Carlos Fernández San Martín",
      "userId": "17447517186582912809"
     },
     "user_tz": -120
    },
    "id": "qIxFl0rNfEzZ",
    "outputId": "8e2ea78b-8ae2-4c2d-f199-dc6883bc4c72"
   },
   "outputs": [],
   "source": [
    "plot_predictions(y_test_real, y_pred_test,\n",
    "                title=\"LSTM Model: Passenger Predictions vs Actual Values (Full Test Set)\",\n",
    "                dates=test_dates)\n",
    "plt.show()"
   ]
  },
  {
   "cell_type": "code",
   "execution_count": null,
   "metadata": {
    "colab": {
     "base_uri": "https://localhost:8080/",
     "height": 606
    },
    "executionInfo": {
     "elapsed": 243,
     "status": "ok",
     "timestamp": 1744394509206,
     "user": {
      "displayName": "Luis Carlos Fernández San Martín",
      "userId": "17447517186582912809"
     },
     "user_tz": -120
    },
    "id": "iklXBrk6fSbd",
    "outputId": "8e707816-aa6c-478e-de5c-30e398a6fd8f"
   },
   "outputs": [],
   "source": [
    "plot_predictions(y_test_real, y_pred_test,\n",
    "                title=\"Prediccion de pasajeros vs Valores actuales (30 dias)\",\n",
    "                dates=test_dates, window_size=30)\n",
    "plt.show()"
   ]
  },
  {
   "cell_type": "code",
   "execution_count": null,
   "metadata": {
    "executionInfo": {
     "elapsed": 1,
     "status": "ok",
     "timestamp": 1744394509208,
     "user": {
      "displayName": "Luis Carlos Fernández San Martín",
      "userId": "17447517186582912809"
     },
     "user_tz": -120
    },
    "id": "zxxsVvCVfg-2"
   },
   "outputs": [],
   "source": [
    "daily_error = y_test_real - y_pred_test\n",
    "daily_pct_error = (daily_error / (y_test_real + 1e-10)) * 100  "
   ]
  },
  {
   "cell_type": "code",
   "execution_count": null,
   "metadata": {
    "colab": {
     "base_uri": "https://localhost:8080/",
     "height": 0
    },
    "executionInfo": {
     "elapsed": 606,
     "status": "ok",
     "timestamp": 1744394509815,
     "user": {
      "displayName": "Luis Carlos Fernández San Martín",
      "userId": "17447517186582912809"
     },
     "user_tz": -120
    },
    "id": "aFV-69q2fik7",
    "outputId": "9809be47-a17a-49e9-d0e6-3bd6ee5540cc"
   },
   "outputs": [],
   "source": [
    "plt.figure(figsize=(16, 12))\n",
    "plt.subplot(3, 1, 1)\n",
    "plt.plot(test_dates, daily_error, 'g-', linewidth=1.5)\n",
    "plt.axhline(y=0, color='r', linestyle='--')\n",
    "plt.title('Prediction Error Over Time', fontsize=14)\n",
    "plt.xlabel('Date')\n",
    "plt.ylabel('Error (Actual - Predicted)')\n",
    "plt.grid(True, linestyle='--', alpha=0.7)\n",
    "plt.gcf().autofmt_xdate()\n",
    "\n",
    "plt.subplot(3, 1, 2)\n",
    "plt.hist(daily_error, bins=30, color='teal', alpha=0.7)\n",
    "plt.axvline(x=0, color='r', linestyle='--')\n",
    "plt.title('Error Distribution Histogram', fontsize=14)\n",
    "plt.xlabel('Prediction Error')\n",
    "plt.ylabel('Frequency')\n",
    "plt.grid(True, linestyle='--', alpha=0.7)\n",
    "\n",
    "plt.subplot(3, 1, 3)\n",
    "plt.plot(test_dates, daily_pct_error, 'purple', linewidth=1.5)\n",
    "plt.axhline(y=0, color='r', linestyle='--')\n",
    "plt.title('Percentage Error Over Time', fontsize=14)\n",
    "plt.xlabel('Date')\n",
    "plt.ylabel('Percentage Error %')\n",
    "plt.grid(True, linestyle='--', alpha=0.7)\n",
    "plt.gcf().autofmt_xdate()\n",
    "\n",
    "plt.tight_layout()\n",
    "plt.show()"
   ]
  },
  {
   "cell_type": "code",
   "execution_count": null,
   "metadata": {
    "colab": {
     "base_uri": "https://localhost:8080/",
     "height": 807
    },
    "executionInfo": {
     "elapsed": 144,
     "status": "ok",
     "timestamp": 1744394509960,
     "user": {
      "displayName": "Luis Carlos Fernández San Martín",
      "userId": "17447517186582912809"
     },
     "user_tz": -120
    },
    "id": "S_BBGV3Mf2WW",
    "outputId": "ba26c782-cc05-4d3b-f24f-c1c68adc10ee"
   },
   "outputs": [],
   "source": [
    "plt.figure(figsize=(10, 8))\n",
    "plt.scatter(y_test_real, y_pred_test, alpha=0.6)\n",
    "plt.plot([y_test_real.min(), y_test_real.max()],\n",
    "         [y_test_real.min(), y_test_real.max()], 'r--')\n",
    "plt.xlabel('Actual Values', fontsize=12)\n",
    "plt.ylabel('Predicted Values', fontsize=12)\n",
    "plt.title('LSTM Model: Scatter Plot of Predictions vs Actual Values', fontsize=14)\n",
    "plt.grid(True, linestyle='--', alpha=0.7)\n",
    "plt.tight_layout()\n",
    "plt.show()"
   ]
  },
  {
   "cell_type": "code",
   "execution_count": null,
   "metadata": {
    "executionInfo": {
     "elapsed": 15,
     "status": "ok",
     "timestamp": 1744394509977,
     "user": {
      "displayName": "Luis Carlos Fernández San Martín",
      "userId": "17447517186582912809"
     },
     "user_tz": -120
    },
    "id": "WPxe7QKqgDCE"
   },
   "outputs": [],
   "source": [
    "def permutation_importance(model, X, y, n_repeats=10):\n",
    "    baseline_prediction = model.predict(X)\n",
    "    baseline_score = mean_squared_error(y, baseline_prediction)\n",
    "\n",
    "    n_features = X.shape[2]\n",
    "    feature_names = [f'Feature_{i}' for i in range(n_features)]\n",
    "\n",
    "    importance_scores = {}\n",
    "\n",
    "    for feature_idx in range(n_features):\n",
    "        feature_importance = 0\n",
    "\n",
    "        for _ in range(n_repeats):\n",
    "            X_permuted = X.copy()\n",
    "\n",
    "            for seq_idx in range(X.shape[0]):\n",
    "                permuted_feature = X_permuted[seq_idx, :, feature_idx].copy()\n",
    "                np.random.shuffle(permuted_feature)\n",
    "                X_permuted[seq_idx, :, feature_idx] = permuted_feature\n",
    "\n",
    "            permuted_prediction = model.predict(X_permuted, verbose=0)\n",
    "            permuted_score = mean_squared_error(y, permuted_prediction)\n",
    "\n",
    "            feature_importance += (permuted_score - baseline_score)\n",
    "        importance_scores[feature_names[feature_idx]] = feature_importance / n_repeats\n",
    "\n",
    "    return importance_scores"
   ]
  },
  {
   "cell_type": "code",
   "execution_count": null,
   "metadata": {
    "colab": {
     "base_uri": "https://localhost:8080/",
     "height": 598
    },
    "executionInfo": {
     "elapsed": 189,
     "status": "ok",
     "timestamp": 1744394510168,
     "user": {
      "displayName": "Luis Carlos Fernández San Martín",
      "userId": "17447517186582912809"
     },
     "user_tz": -120
    },
    "id": "8DCUFVVcgEgj",
    "outputId": "926ee3bf-9a23-4266-908a-39b65b42cbb0"
   },
   "outputs": [],
   "source": [
    "plt.figure(figsize=(12, 6))\n",
    "plt.scatter(y_pred_test, daily_error, alpha=0.6)\n",
    "plt.axhline(y=0, color='r', linestyle='--')\n",
    "plt.title('Residual Analysis: Error vs Predicted Value', fontsize=14)\n",
    "plt.xlabel('Predicted Value', fontsize=12)\n",
    "plt.ylabel('Error (Actual - Predicted)', fontsize=12)\n",
    "plt.grid(True, linestyle='--', alpha=0.7)\n",
    "plt.tight_layout()\n",
    "plt.show()"
   ]
  },
  {
   "cell_type": "code",
   "execution_count": null,
   "metadata": {
    "colab": {
     "base_uri": "https://localhost:8080/"
    },
    "executionInfo": {
     "elapsed": 4,
     "status": "ok",
     "timestamp": 1744394510173,
     "user": {
      "displayName": "Luis Carlos Fernández San Martín",
      "userId": "17447517186582912809"
     },
     "user_tz": -120
    },
    "id": "6L4oR3wUgTd-",
    "outputId": "a31cad9d-1ff8-4b2d-d1f2-71fe0fb38cd0"
   },
   "outputs": [],
   "source": [
    "results_df = pd.DataFrame([metrics])\n",
    "print(\"\\nResumen Model Performance:\")\n",
    "print(results_df)"
   ]
  },
  {
   "cell_type": "code",
   "execution_count": null,
   "metadata": {
    "colab": {
     "base_uri": "https://localhost:8080/",
     "height": 913
    },
    "executionInfo": {
     "elapsed": 170,
     "status": "ok",
     "timestamp": 1744394510344,
     "user": {
      "displayName": "Luis Carlos Fernández San Martín",
      "userId": "17447517186582912809"
     },
     "user_tz": -120
    },
    "id": "MJ0wY5mcgaTQ",
    "outputId": "ea58ea25-1e85-41d0-8b23-b04f107938e0"
   },
   "outputs": [],
   "source": [
    "test_df = pd.DataFrame({\n",
    "    'date': test_dates,\n",
    "    'actual': y_test_real,\n",
    "    'predicted': y_pred_test,\n",
    "    'error': daily_error,\n",
    "    'pct_error': daily_pct_error\n",
    "})\n",
    "\n",
    "test_df['date'] = pd.to_datetime(test_df['date'])\n",
    "test_df['weekday'] = test_df['date'].dt.day_name()\n",
    "test_df['month'] = test_df['date'].dt.month_name()\n",
    "\n",
    "weekday_metrics = test_df.groupby('weekday').agg({\n",
    "    'error': ['mean', 'std'],\n",
    "    'pct_error': ['mean', 'std'],\n",
    "    'actual': 'mean'\n",
    "})\n",
    "\n",
    "monthly_metrics = test_df.groupby('month').agg({\n",
    "    'error': ['mean', 'std'],\n",
    "    'pct_error': ['mean', 'std'],\n",
    "    'actual': 'mean'\n",
    "})\n",
    "\n",
    "print(\"\\nError Metrics by Weekday:\")\n",
    "print(weekday_metrics)\n",
    "\n",
    "print(\"\\nError Metrics by Month:\")\n",
    "print(monthly_metrics)\n",
    "\n",
    "plt.figure(figsize=(14, 6))\n",
    "weekday_order = ['Monday', 'Tuesday', 'Wednesday', 'Thursday', 'Friday', 'Saturday', 'Sunday']\n",
    "weekday_data = test_df.groupby('weekday')['pct_error'].mean().reindex(weekday_order)\n",
    "\n",
    "plt.bar(weekday_data.index, weekday_data.values, alpha=0.7)\n",
    "plt.title('Average Percentage Error by Weekday', fontsize=14)\n",
    "plt.xlabel('Weekday', fontsize=12)\n",
    "plt.ylabel('Mean Percentage Error (%)', fontsize=12)\n",
    "plt.grid(True, axis='y', linestyle='--', alpha=0.7)\n",
    "plt.tight_layout()\n",
    "plt.show()"
   ]
  },
  {
   "cell_type": "code",
   "execution_count": null,
   "metadata": {
    "colab": {
     "base_uri": "https://localhost:8080/"
    },
    "executionInfo": {
     "elapsed": 35,
     "status": "ok",
     "timestamp": 1744394510379,
     "user": {
      "displayName": "Luis Carlos Fernández San Martín",
      "userId": "17447517186582912809"
     },
     "user_tz": -120
    },
    "id": "_t5zFhVJglVR",
    "outputId": "b6f867fa-5883-42cb-ee6f-f6b974719ff6"
   },
   "outputs": [],
   "source": [
    "prediction_results = pd.DataFrame({\n",
    "    'date': test_dates,\n",
    "    'actual': y_test_real,\n",
    "    'predicted': y_pred_test,\n",
    "    'error': daily_error,\n",
    "    'percentage_error': daily_pct_error\n",
    "})\n",
    "\n",
    "print(\"\\nEvaluation complete\")"
   ]
  },
  {
   "cell_type": "markdown",
   "metadata": {
    "id": "TXedLFc82IsB"
   },
   "source": [
    "# MODELO PARA PREDICCION DE VEHICULOS"
   ]
  },
  {
   "cell_type": "code",
   "execution_count": null,
   "metadata": {
    "colab": {
     "base_uri": "https://localhost:8080/",
     "height": 1000
    },
    "executionInfo": {
     "elapsed": 20597,
     "status": "ok",
     "timestamp": 1744394530977,
     "user": {
      "displayName": "Luis Carlos Fernández San Martín",
      "userId": "17447517186582912809"
     },
     "user_tz": -120
    },
    "id": "-9IGuI9m2OX5",
    "outputId": "4f15212d-9ff4-44e2-f0cf-b0fbd02e2f48"
   },
   "outputs": [],
   "source": [
    "import tensorflow as tf\n",
    "from tensorflow.keras.models import Sequential\n",
    "from tensorflow.keras.layers import LSTM, Dense, Dropout, BatchNormalization, Bidirectional\n",
    "from tensorflow.keras.callbacks import EarlyStopping, ModelCheckpoint, ReduceLROnPlateau\n",
    "from tensorflow.keras.optimizers import Adam\n",
    "import matplotlib.pyplot as plt\n",
    "import numpy as np\n",
    "from sklearn.metrics import mean_squared_error, mean_absolute_error\n",
    "import pandas as pd\n",
    "import matplotlib.dates as mdates\n",
    "from math import sqrt\n",
    "\n",
    "print(\"Shape de X_vehiculos:\", X_vehiculos.shape)\n",
    "print(\"Shape de y_vehiculos:\", y_vehiculos.shape)\n",
    "\n",
    "print(\"NaN en train_v[0]:\", np.isnan(train_v[0]).any())\n",
    "print(\"Forma de train_v[0]:\", train_v[0].shape)\n",
    "print(\"Tipo de datos de train_v[0]:\", train_v[0].dtype)\n",
    "print(\"Tipo de datos de train_v[1]:\", train_v[1].dtype)\n",
    "\n",
    "input_shape_vehiculos = (train_v[0].shape[1], train_v[0].shape[2]) \n",
    "print(f\"Input shape para el modelo de vehiculos: {input_shape_vehiculos}\")\n",
    "\n",
    "def crear_modelo_lstm(input_shape, dropout_rate=0.1, lstm_units=64, bidirectional=True):\n",
    "    model = Sequential()\n",
    "\n",
    "    if bidirectional:\n",
    "        model.add(Bidirectional(LSTM(lstm_units, return_sequences=True), input_shape=input_shape))\n",
    "    else:\n",
    "        model.add(LSTM(lstm_units, return_sequences=True, input_shape=input_shape))\n",
    "\n",
    "    model.add(BatchNormalization())\n",
    "    model.add(Dropout(dropout_rate))\n",
    "\n",
    "    if bidirectional:\n",
    "        model.add(Bidirectional(LSTM(lstm_units // 2)))\n",
    "    else:\n",
    "        model.add(LSTM(lstm_units // 2))\n",
    "\n",
    "    model.add(BatchNormalization())\n",
    "    model.add(Dropout(dropout_rate))\n",
    "\n",
    "    model.add(Dense(64, activation='relu'))\n",
    "    model.add(BatchNormalization())\n",
    "\n",
    "    model.add(Dense(1, activation='sigmoid'))\n",
    "\n",
    "    return model\n",
    "\n",
    "def compilar_modelo(model):\n",
    "    model.compile(\n",
    "        optimizer=Adam(learning_rate=0.001),\n",
    "        loss='mean_squared_error',\n",
    "        metrics=['mae']\n",
    "    )\n",
    "    return model\n",
    "\n",
    "modelo_vehiculos = crear_modelo_lstm(input_shape_vehiculos)\n",
    "modelo_vehiculos = compilar_modelo(modelo_vehiculos)\n",
    "\n",
    "modelo_vehiculos.summary()\n",
    "\n",
    "def crear_callbacks(model_name):\n",
    "    early_stopping = EarlyStopping(\n",
    "        monitor='val_loss',\n",
    "        patience=10,\n",
    "        restore_best_weights=True,\n",
    "        verbose=1\n",
    "    )\n",
    "\n",
    "    checkpoint = ModelCheckpoint(\n",
    "        f'/content/drive/MyDrive/3 - Master Computacion y Sistemas Inteligentes/PFM/Modelos/{model_name}.h5',\n",
    "        monitor='val_loss',\n",
    "        save_best_only=True,\n",
    "        verbose=1\n",
    "    )\n",
    "\n",
    "    reduce_lr = ReduceLROnPlateau(\n",
    "        monitor='val_loss',\n",
    "        factor=0.2,\n",
    "        patience=5,\n",
    "        min_lr=1e-6,\n",
    "        verbose=1\n",
    "    )\n",
    "\n",
    "    return [early_stopping, checkpoint, reduce_lr]\n",
    "\n",
    "callbacks_vehiculos = crear_callbacks(\"lstm_model_vehiculos\")\n",
    "\n",
    "history_vehiculos = modelo_vehiculos.fit(\n",
    "    train_v[0], train_v[1],\n",
    "    validation_data=(val_v[0], val_v[1]),\n",
    "    epochs=100,\n",
    "    batch_size=32,\n",
    "    callbacks=callbacks_vehiculos,\n",
    "    verbose=1\n",
    ")\n",
    "\n",
    "import pickle\n",
    "with open('/content/drive/MyDrive/3 - Master Computacion y Sistemas Inteligentes/PFM/Modelos/history_lstm_vehiculos.pkl', 'wb') as f:\n",
    "    pickle.dump(history_vehiculos.history, f)\n",
    "\n",
    "plt.figure(figsize=(15, 5))\n",
    "plt.subplot(1, 2, 1)\n",
    "plt.plot(history_vehiculos.history['loss'], label='Train')\n",
    "plt.plot(history_vehiculos.history['val_loss'], label='Validation')\n",
    "plt.title('Perdida durante entrenamiento - Modelo LSTM Vehiculos')\n",
    "plt.xlabel('Epoca')\n",
    "plt.ylabel('Loss')\n",
    "plt.legend()\n",
    "\n",
    "plt.subplot(1, 2, 2)\n",
    "plt.plot(history_vehiculos.history['mae'], label='Train')\n",
    "plt.plot(history_vehiculos.history['val_mae'], label='Validation')\n",
    "plt.title('MAE durante entrenamiento - Modelo LSTM Vehiculos')\n",
    "plt.xlabel('Época')\n",
    "plt.ylabel('MAE')\n",
    "plt.legend()\n",
    "\n",
    "plt.tight_layout()\n",
    "plt.show()\n",
    "\n",
    "y_pred_test_norm_v = modelo_vehiculos.predict(test_v[0])\n",
    "\n",
    "y_pred_test_v = scaler_vehiculos.inverse_transform(y_pred_test_norm_v.reshape(-1, 1)).flatten()\n",
    "y_test_real_v = scaler_vehiculos.inverse_transform(test_v[1].reshape(-1, 1)).flatten()\n",
    "\n",
    "plt.figure(figsize=(15, 5))\n",
    "plt.plot(y_test_real_v, label='Real', linewidth=2)\n",
    "plt.plot(y_pred_test_v, label='Predicho', linestyle='--')\n",
    "plt.title('Prediccion vs Real - Conjunto de Test (Vehiculos)')\n",
    "plt.xlabel('Dias')\n",
    "plt.ylabel('Total Vehiculos')\n",
    "plt.legend()\n",
    "plt.grid(True)\n",
    "plt.tight_layout()\n",
    "plt.show()\n",
    "\n",
    "def calculate_metrics(y_true, y_pred):\n",
    "    rmse = sqrt(mean_squared_error(y_true, y_pred))\n",
    "\n",
    "    mae = mean_absolute_error(y_true, y_pred)\n",
    "\n",
    "    epsilon = 1e-10\n",
    "    mape = np.mean(np.abs((y_true - y_pred) / (y_true + epsilon))) * 100\n",
    "\n",
    "    ss_total = np.sum((y_true - np.mean(y_true)) ** 2)\n",
    "    ss_residual = np.sum((y_true - y_pred) ** 2)\n",
    "    r2 = 1 - (ss_residual / ss_total)\n",
    "\n",
    "    return {\n",
    "        'RMSE': rmse,\n",
    "        'MAE': mae,\n",
    "        'MAPE': mape,\n",
    "        'R²': r2\n",
    "    }\n",
    "\n",
    "metrics_v = calculate_metrics(y_test_real_v, y_pred_test_v)\n",
    "\n",
    "print(\"\\n===== Model Performance Metrics - Vehiculos =====\")\n",
    "for metric_name, metric_value in metrics_v.items():\n",
    "    print(f\"{metric_name}: {metric_value:.4f}\")\n",
    "\n",
    "def plot_predictions(y_true, y_pred, title=\"Predictions vs Actual Values\",\n",
    "                     dates=None, window_size=None, metrics=None):\n",
    "    \n",
    "    plt.figure(figsize=(16, 8))\n",
    "\n",
    "    if window_size:\n",
    "        if len(y_true) > window_size:\n",
    "            start_idx = len(y_true) - window_size\n",
    "            y_true = y_true[start_idx:]\n",
    "            y_pred = y_pred[start_idx:]\n",
    "            if dates is not None:\n",
    "                dates = dates[start_idx:]\n",
    "\n",
    "    if dates is not None:\n",
    "        plt.plot(dates, y_true, 'b-', label='Actual', linewidth=2)\n",
    "        plt.plot(dates, y_pred, 'r--', label='Predicted', linewidth=2)\n",
    "        plt.gcf().autofmt_xdate()\n",
    "        plt.gca().xaxis.set_major_formatter(mdates.DateFormatter('%Y-%m-%d'))\n",
    "        plt.gca().xaxis.set_major_locator(mdates.WeekdayLocator(interval=2))\n",
    "    else:\n",
    "        plt.plot(y_true, 'b-', label='Actual', linewidth=2)\n",
    "        plt.plot(y_pred, 'r--', label='Predicted', linewidth=2)\n",
    "\n",
    "    if metrics:\n",
    "        metrics_text = \"\\n\".join([f\"{k}: {v:.4f}\" for k, v in metrics.items()])\n",
    "        plt.annotate(metrics_text, xy=(0.02, 0.85), xycoords='axes fraction',\n",
    "                    bbox=dict(boxstyle=\"round,pad=0.5\", fc=\"lightyellow\", alpha=0.8))\n",
    "\n",
    "    plt.title(title, fontsize=16)\n",
    "    plt.xlabel('Time', fontsize=12)\n",
    "    plt.ylabel('Vehicles', fontsize=12)\n",
    "    plt.grid(True, linestyle='--', alpha=0.7)\n",
    "    plt.legend(loc='best', fontsize=12)\n",
    "    plt.tight_layout()\n",
    "\n",
    "    if metrics:\n",
    "        plt.figtext(0.5, 0.01, f\"Model Performance: RMSE={metrics['RMSE']:.2f}, MAE={metrics['MAE']:.2f}, MAPE={metrics['MAPE']:.2f}%\",\n",
    "                    ha=\"center\", fontsize=12, bbox={\"facecolor\":\"orange\", \"alpha\":0.2, \"pad\":5})\n",
    "\n",
    "    return plt\n",
    "\n",
    "test_dates_v = df_vehiculos_daily['fecha_embarque'].iloc[-len(y_test_real_v):].values\n",
    "\n",
    "plot_predictions(y_test_real_v, y_pred_test_v,\n",
    "                title=\"LSTM Model: Vehicle Predictions vs Actual Values (Full Test Set)\",\n",
    "                dates=test_dates_v,\n",
    "                metrics=metrics_v)\n",
    "plt.show()\n",
    "\n",
    "plot_predictions(y_test_real_v, y_pred_test_v,\n",
    "                title=\"Prediccion de vehiculos vs Valores actuales (30 días)\",\n",
    "                dates=test_dates_v, window_size=30,\n",
    "                metrics=metrics_v)\n",
    "plt.show()\n",
    "\n",
    "daily_error_v = y_test_real_v - y_pred_test_v\n",
    "daily_pct_error_v = (daily_error_v / (y_test_real_v + 1e-10)) * 100  \n",
    "\n",
    "plt.figure(figsize=(16, 12))\n",
    "\n",
    "plt.subplot(3, 1, 1)\n",
    "plt.plot(test_dates_v, daily_error_v, 'g-', linewidth=1.5)\n",
    "plt.axhline(y=0, color='r', linestyle='--')\n",
    "plt.title('Error de Prediccion a lo Largo del Tiempo (Vehiculos)', fontsize=14)\n",
    "plt.xlabel('Fecha')\n",
    "plt.ylabel('Error (Real - Predicho)')\n",
    "plt.grid(True, linestyle='--', alpha=0.7)\n",
    "plt.gcf().autofmt_xdate()\n",
    "\n",
    "plt.subplot(3, 1, 2)\n",
    "plt.hist(daily_error_v, bins=30, color='teal', alpha=0.7)\n",
    "plt.axvline(x=0, color='r', linestyle='--')\n",
    "plt.title('Histograma de Distribucion de Errores (Vehiculos)', fontsize=14)\n",
    "plt.xlabel('Error de Prediccion')\n",
    "plt.ylabel('Frecuencia')\n",
    "plt.grid(True, linestyle='--', alpha=0.7)\n",
    "\n",
    "plt.subplot(3, 1, 3)\n",
    "plt.plot(test_dates_v, daily_pct_error_v, 'purple', linewidth=1.5)\n",
    "plt.axhline(y=0, color='r', linestyle='--')\n",
    "plt.title('Error Porcentual a lo Largo del Tiempo (Vehiculos)', fontsize=14)\n",
    "plt.xlabel('Fecha')\n",
    "plt.ylabel('Error Porcentual %')\n",
    "plt.grid(True, linestyle='--', alpha=0.7)\n",
    "plt.gcf().autofmt_xdate()\n",
    "\n",
    "plt.tight_layout()\n",
    "plt.show()\n",
    "\n",
    "plt.figure(figsize=(10, 8))\n",
    "plt.scatter(y_test_real_v, y_pred_test_v, alpha=0.6)\n",
    "plt.plot([y_test_real_v.min(), y_test_real_v.max()],\n",
    "         [y_test_real_v.min(), y_test_real_v.max()], 'r--')\n",
    "plt.xlabel('Valores Reales', fontsize=12)\n",
    "plt.ylabel('Valores Predichos', fontsize=12)\n",
    "plt.title('LSTM Model: Grafico de Dispersion de Predicciones vs Valores Reales (Vehiculos)', fontsize=14)\n",
    "plt.grid(True, linestyle='--', alpha=0.7)\n",
    "plt.tight_layout()\n",
    "plt.show()\n",
    "\n",
    "plt.figure(figsize=(12, 6))\n",
    "plt.scatter(y_pred_test_v, daily_error_v, alpha=0.6)\n",
    "plt.axhline(y=0, color='r', linestyle='--')\n",
    "plt.title('Anlisis de Residuos: Error vs Valor Predicho (Vehiculos)', fontsize=14)\n",
    "plt.xlabel('Valor Predicho', fontsize=12)\n",
    "plt.ylabel('Error (Real - Predicho)', fontsize=12)\n",
    "plt.grid(True, linestyle='--', alpha=0.7)\n",
    "plt.tight_layout()\n",
    "plt.show()\n",
    "\n",
    "results_df_v = pd.DataFrame([metrics_v])\n",
    "print(\"\\nResumen Model Performance - Vehiculos:\")\n",
    "print(results_df_v)\n",
    "\n",
    "test_df_v = pd.DataFrame({\n",
    "    'date': test_dates_v,\n",
    "    'actual': y_test_real_v,\n",
    "    'predicted': y_pred_test_v,\n",
    "    'error': daily_error_v,\n",
    "    'pct_error': daily_pct_error_v\n",
    "})\n",
    "\n",
    "test_df_v['date'] = pd.to_datetime(test_df_v['date'])\n",
    "test_df_v['weekday'] = test_df_v['date'].dt.day_name()\n",
    "test_df_v['month'] = test_df_v['date'].dt.month_name()\n",
    "\n",
    "weekday_metrics_v = test_df_v.groupby('weekday').agg({\n",
    "    'error': ['mean', 'std'],\n",
    "    'pct_error': ['mean', 'std'],\n",
    "    'actual': 'mean'\n",
    "})\n",
    "\n",
    "monthly_metrics_v = test_df_v.groupby('month').agg({\n",
    "    'error': ['mean', 'std'],\n",
    "    'pct_error': ['mean', 'std'],\n",
    "    'actual': 'mean'\n",
    "})\n",
    "\n",
    "print(\"\\nMetricas de Error por Dia de la Semana (Vehiculos):\")\n",
    "print(weekday_metrics_v)\n",
    "\n",
    "print(\"\\nMetricas de Error por Mes (Vehiculos):\")\n",
    "print(monthly_metrics_v)\n",
    "\n",
    "plt.figure(figsize=(14, 6))\n",
    "weekday_order = ['Monday', 'Tuesday', 'Wednesday', 'Thursday', 'Friday', 'Saturday', 'Sunday']\n",
    "weekday_data_v = test_df_v.groupby('weekday')['pct_error'].mean().reindex(weekday_order)\n",
    "\n",
    "plt.bar(weekday_data_v.index, weekday_data_v.values, alpha=0.7)\n",
    "plt.title('Error Porcentual Promedio por Dia de la Semana (Vehiculos)', fontsize=14)\n",
    "plt.xlabel('Dia de la Semana', fontsize=12)\n",
    "plt.ylabel('Error Porcentual Promedio (%)', fontsize=12)\n",
    "plt.grid(True, axis='y', linestyle='--', alpha=0.7)\n",
    "plt.tight_layout()\n",
    "plt.show()\n",
    "\n",
    "prediction_results_v = pd.DataFrame({\n",
    "    'date': test_dates_v,\n",
    "    'actual': y_test_real_v,\n",
    "    'predicted': y_pred_test_v,\n",
    "    'error': daily_error_v,\n",
    "    'percentage_error': daily_pct_error_v\n",
    "})\n",
    "\n",
    "print(\"\\nEvaluacion completa - Todos los resultados analizados para el modelo de vehiculos.\")\n",
    "\n",
    "comparative_metrics = pd.DataFrame({\n",
    "    'Passengers': [metrics['RMSE'], metrics['MAE'], metrics['MAPE'], metrics['R²']],\n",
    "    'Vehicles': [metrics_v['RMSE'], metrics_v['MAE'], metrics_v['MAPE'], metrics_v['R²']]\n",
    "}, index=['RMSE', 'MAE', 'MAPE', 'R²'])\n",
    "\n",
    "print(\"\\n===== Comparative Metrics: Passengers vs Vehicles =====\")\n",
    "print(comparative_metrics)\n",
    "\n",
    "plt.figure(figsize=(12, 8))\n",
    "comparative_metrics.plot(kind='bar', rot=0)\n",
    "plt.title('Performance Metrics Comparison: Passengers vs Vehicles', fontsize=16)\n",
    "plt.ylabel('Value', fontsize=14)\n",
    "plt.grid(True, axis='y', linestyle='--', alpha=0.7)\n",
    "plt.legend(['Passengers', 'Vehicles'])\n",
    "plt.tight_layout()\n",
    "plt.show()"
   ]
  }
 ],
 "metadata": {
  "accelerator": "GPU",
  "colab": {
   "authorship_tag": "ABX9TyMEhrlgHE5YWEylENj+iB1C",
   "gpuType": "A100",
   "machine_shape": "hm",
   "provenance": []
  },
  "kernelspec": {
   "display_name": "Python 3",
   "name": "python3"
  },
  "language_info": {
   "name": "python"
  }
 },
 "nbformat": 4,
 "nbformat_minor": 0
}
